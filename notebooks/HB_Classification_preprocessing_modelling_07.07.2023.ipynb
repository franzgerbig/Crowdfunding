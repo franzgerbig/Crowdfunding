{
 "cells": [
  {
   "cell_type": "markdown",
   "id": "c21a358a",
   "metadata": {},
   "source": [
    "### Import"
   ]
  },
  {
   "cell_type": "code",
   "execution_count": 1,
   "id": "7f0a58e4",
   "metadata": {},
   "outputs": [],
   "source": [
    "import pandas as pd\n",
    "import numpy as np\n",
    "import matplotlib.pyplot as plt\n",
    "import seaborn as sns\n",
    "import scipy.stats as stats\n",
    "%matplotlib inline"
   ]
  },
  {
   "cell_type": "code",
   "execution_count": 2,
   "id": "bfcfccbd",
   "metadata": {},
   "outputs": [
    {
     "data": {
      "text/html": [
       "<div>\n",
       "<style scoped>\n",
       "    .dataframe tbody tr th:only-of-type {\n",
       "        vertical-align: middle;\n",
       "    }\n",
       "\n",
       "    .dataframe tbody tr th {\n",
       "        vertical-align: top;\n",
       "    }\n",
       "\n",
       "    .dataframe thead th {\n",
       "        text-align: right;\n",
       "    }\n",
       "</style>\n",
       "<table border=\"1\" class=\"dataframe\">\n",
       "  <thead>\n",
       "    <tr style=\"text-align: right;\">\n",
       "      <th></th>\n",
       "      <th>currency</th>\n",
       "      <th>backers_count</th>\n",
       "      <th>country</th>\n",
       "      <th>status</th>\n",
       "      <th>usd_pledged</th>\n",
       "      <th>sub_category</th>\n",
       "      <th>goal_usd</th>\n",
       "      <th>city</th>\n",
       "      <th>launched_year</th>\n",
       "      <th>duration_d</th>\n",
       "      <th>creator_projects</th>\n",
       "    </tr>\n",
       "    <tr>\n",
       "      <th>id</th>\n",
       "      <th></th>\n",
       "      <th></th>\n",
       "      <th></th>\n",
       "      <th></th>\n",
       "      <th></th>\n",
       "      <th></th>\n",
       "      <th></th>\n",
       "      <th></th>\n",
       "      <th></th>\n",
       "      <th></th>\n",
       "      <th></th>\n",
       "    </tr>\n",
       "  </thead>\n",
       "  <tbody>\n",
       "    <tr>\n",
       "      <th>1714728788</th>\n",
       "      <td>CAD</td>\n",
       "      <td>16</td>\n",
       "      <td>CA</td>\n",
       "      <td>failed</td>\n",
       "      <td>577.902078</td>\n",
       "      <td>food</td>\n",
       "      <td>785.82065</td>\n",
       "      <td>Victoria</td>\n",
       "      <td>2018</td>\n",
       "      <td>59.958333</td>\n",
       "      <td>1</td>\n",
       "    </tr>\n",
       "    <tr>\n",
       "      <th>1639965256</th>\n",
       "      <td>USD</td>\n",
       "      <td>7</td>\n",
       "      <td>US</td>\n",
       "      <td>successful</td>\n",
       "      <td>211.000000</td>\n",
       "      <td>publishing</td>\n",
       "      <td>93.00000</td>\n",
       "      <td>San Diego</td>\n",
       "      <td>2014</td>\n",
       "      <td>24.000000</td>\n",
       "      <td>1</td>\n",
       "    </tr>\n",
       "    <tr>\n",
       "      <th>1582062943</th>\n",
       "      <td>USD</td>\n",
       "      <td>99</td>\n",
       "      <td>US</td>\n",
       "      <td>successful</td>\n",
       "      <td>4697.000000</td>\n",
       "      <td>food</td>\n",
       "      <td>1500.00000</td>\n",
       "      <td>Philadelphia</td>\n",
       "      <td>2020</td>\n",
       "      <td>30.000000</td>\n",
       "      <td>1</td>\n",
       "    </tr>\n",
       "    <tr>\n",
       "      <th>1888984372</th>\n",
       "      <td>USD</td>\n",
       "      <td>3</td>\n",
       "      <td>US</td>\n",
       "      <td>failed</td>\n",
       "      <td>222.000000</td>\n",
       "      <td>technology</td>\n",
       "      <td>25000.00000</td>\n",
       "      <td>Chicago</td>\n",
       "      <td>2019</td>\n",
       "      <td>60.000000</td>\n",
       "      <td>1</td>\n",
       "    </tr>\n",
       "    <tr>\n",
       "      <th>1409770586</th>\n",
       "      <td>USD</td>\n",
       "      <td>100</td>\n",
       "      <td>US</td>\n",
       "      <td>successful</td>\n",
       "      <td>5410.000000</td>\n",
       "      <td>publishing</td>\n",
       "      <td>5000.00000</td>\n",
       "      <td>Madrid</td>\n",
       "      <td>2015</td>\n",
       "      <td>30.000000</td>\n",
       "      <td>1</td>\n",
       "    </tr>\n",
       "  </tbody>\n",
       "</table>\n",
       "</div>"
      ],
      "text/plain": [
       "           currency  backers_count country      status  usd_pledged  \\\n",
       "id                                                                    \n",
       "1714728788      CAD             16      CA      failed   577.902078   \n",
       "1639965256      USD              7      US  successful   211.000000   \n",
       "1582062943      USD             99      US  successful  4697.000000   \n",
       "1888984372      USD              3      US      failed   222.000000   \n",
       "1409770586      USD            100      US  successful  5410.000000   \n",
       "\n",
       "           sub_category     goal_usd          city  launched_year  duration_d  \\\n",
       "id                                                                              \n",
       "1714728788         food    785.82065      Victoria           2018   59.958333   \n",
       "1639965256   publishing     93.00000     San Diego           2014   24.000000   \n",
       "1582062943         food   1500.00000  Philadelphia           2020   30.000000   \n",
       "1888984372   technology  25000.00000       Chicago           2019   60.000000   \n",
       "1409770586   publishing   5000.00000        Madrid           2015   30.000000   \n",
       "\n",
       "           creator_projects  \n",
       "id                           \n",
       "1714728788                1  \n",
       "1639965256                1  \n",
       "1582062943                1  \n",
       "1888984372                1  \n",
       "1409770586                1  "
      ]
     },
     "metadata": {},
     "output_type": "display_data"
    },
    {
     "name": "stdout",
     "output_type": "stream",
     "text": [
      "<class 'pandas.core.frame.DataFrame'>\n",
      "Int64Index: 180677 entries, 1714728788 to 1126079486\n",
      "Data columns (total 11 columns):\n",
      " #   Column            Non-Null Count   Dtype  \n",
      "---  ------            --------------   -----  \n",
      " 0   currency          180677 non-null  object \n",
      " 1   backers_count     180677 non-null  int64  \n",
      " 2   country           180677 non-null  object \n",
      " 3   status            180677 non-null  object \n",
      " 4   usd_pledged       180677 non-null  float64\n",
      " 5   sub_category      180677 non-null  object \n",
      " 6   goal_usd          180677 non-null  float64\n",
      " 7   city              180677 non-null  object \n",
      " 8   launched_year     180677 non-null  int64  \n",
      " 9   duration_d        180677 non-null  float64\n",
      " 10  creator_projects  180677 non-null  object \n",
      "dtypes: float64(3), int64(2), object(6)\n",
      "memory usage: 16.5+ MB\n"
     ]
    },
    {
     "data": {
      "text/plain": [
       "None"
      ]
     },
     "metadata": {},
     "output_type": "display_data"
    }
   ],
   "source": [
    "imp=r\"C:\\Users\\bosse\\Desktop\\Notebooks\\Data\\Project\\Kaggle_dedub.csv\"\n",
    "df=pd.read_csv(imp,index_col='id')\n",
    "df.drop(columns='Unnamed: 0',inplace=True)\n",
    "display(df.head())\n",
    "display(df.info())"
   ]
  },
  {
   "cell_type": "code",
   "execution_count": 3,
   "id": "1ec38293",
   "metadata": {},
   "outputs": [],
   "source": [
    "# Potential Simplification of variables\n",
    "df['country'].replace(['GB','CA'],'GB,CA',inplace=True)\n",
    "df['country'].replace(['DE','FR','IT','ES','NL','SE','DK','CH','IE','BE','AT','NO','LU','PL','GR','SI'],'Europe',inplace=True)\n",
    "df['country'].replace(['HK','SG','JP'],'Asia',inplace=True)\n",
    "df['country'].replace(['MX'],'South America and Mexico',inplace=True)\n",
    "df['country'].replace(['AU','NZ'],'Australia and new Zealand',inplace=True)\n",
    "df['sub_category'].replace(['music','film & video','games','comics','dance'],'Entertainment',inplace=True)\n",
    "df['sub_category'].replace(['art','fashion','design','photography','theater'],'Culture',inplace=True)\n",
    "df['sub_category'].replace(['technology','publishing','food','crafts','journalism'],'Others',inplace=True)\n",
    "df['currency'].replace(['AUD','MXN','SEK','HKD','NZD','DKK','SGD','CHF','JPY','NOK','PLN'],'Others',inplace=True)"
   ]
  },
  {
   "cell_type": "markdown",
   "id": "57af1db3",
   "metadata": {},
   "source": [
    "### Split of the data"
   ]
  },
  {
   "cell_type": "code",
   "execution_count": 4,
   "id": "f034861c",
   "metadata": {
    "scrolled": true
   },
   "outputs": [],
   "source": [
    "# Target Variable\n",
    "df['status'].replace(['successful','failed'],[1,0],inplace=True)\n",
    "df_y=df['status']"
   ]
  },
  {
   "cell_type": "code",
   "execution_count": 5,
   "id": "f71c0031",
   "metadata": {
    "scrolled": true
   },
   "outputs": [],
   "source": [
    "from sklearn.model_selection import train_test_split\n",
    "X_train,X_test,y_train,y_test=train_test_split(df.drop(columns='status'),df_y,test_size=0.2,random_state=42)"
   ]
  },
  {
   "cell_type": "code",
   "execution_count": 6,
   "id": "3128a2f0",
   "metadata": {},
   "outputs": [],
   "source": [
    "# Chosen Variables\n",
    "not_used_list=['city', 'usd_pledged','backers_count']\n",
    "num_list=['goal_usd','duration_d']\n",
    "cat_list=['country','currency','sub_category','creator_projects']"
   ]
  },
  {
   "cell_type": "markdown",
   "id": "0f31a633",
   "metadata": {},
   "source": [
    "### Preprocessing of the data"
   ]
  },
  {
   "cell_type": "code",
   "execution_count": 7,
   "id": "0232e206",
   "metadata": {
    "scrolled": true
   },
   "outputs": [
    {
     "name": "stderr",
     "output_type": "stream",
     "text": [
      "C:\\Users\\bosse\\AppData\\Local\\Temp\\ipykernel_13704\\1827690632.py:7: SettingWithCopyWarning: \n",
      "A value is trying to be set on a copy of a slice from a DataFrame.\n",
      "Try using .loc[row_indexer,col_indexer] = value instead\n",
      "\n",
      "See the caveats in the documentation: https://pandas.pydata.org/pandas-docs/stable/user_guide/indexing.html#returning-a-view-versus-a-copy\n",
      "  X_train_num[num_list]=sc.fit_transform(X_train[num_list])\n",
      "C:\\Users\\bosse\\AppData\\Local\\Temp\\ipykernel_13704\\1827690632.py:8: SettingWithCopyWarning: \n",
      "A value is trying to be set on a copy of a slice from a DataFrame.\n",
      "Try using .loc[row_indexer,col_indexer] = value instead\n",
      "\n",
      "See the caveats in the documentation: https://pandas.pydata.org/pandas-docs/stable/user_guide/indexing.html#returning-a-view-versus-a-copy\n",
      "  X_test_num[num_list]=sc.fit_transform(X_test[num_list])\n"
     ]
    }
   ],
   "source": [
    "# standardizing of the numerical variables\n",
    "from sklearn.preprocessing import StandardScaler\n",
    "sc=StandardScaler()\n",
    "# \n",
    "X_train_num=X_train[num_list]\n",
    "X_test_num=X_test[num_list]\n",
    "X_train_num[num_list]=sc.fit_transform(X_train[num_list])\n",
    "X_test_num[num_list]=sc.fit_transform(X_test[num_list])"
   ]
  },
  {
   "cell_type": "code",
   "execution_count": 8,
   "id": "c5edcc12",
   "metadata": {
    "scrolled": true
   },
   "outputs": [],
   "source": [
    "# OneHotEncoding of the categorical variable of X_train\n",
    "from sklearn.preprocessing import OneHotEncoder\n",
    "ohe=OneHotEncoder(sparse=False)\n",
    "ohe_train=ohe.fit_transform(X_train[cat_list])\n",
    "column_name=ohe.get_feature_names_out(cat_list)\n",
    "X_train_ohe=pd.DataFrame(ohe_train,columns=column_name,index=X_train.index)"
   ]
  },
  {
   "cell_type": "code",
   "execution_count": 9,
   "id": "253942ca",
   "metadata": {
    "scrolled": true
   },
   "outputs": [],
   "source": [
    "# OHE X_test variable\n",
    "ohe2=OneHotEncoder(sparse=False)\n",
    "ohe_test=ohe2.fit_transform(X_test[cat_list])\n",
    "column_name2=ohe2.get_feature_names_out(cat_list)\n",
    "X_test_ohe=pd.DataFrame(ohe_test,columns=column_name2,index=X_test.index)"
   ]
  },
  {
   "cell_type": "code",
   "execution_count": 10,
   "id": "da16b13c",
   "metadata": {},
   "outputs": [
    {
     "data": {
      "text/plain": [
       "11439"
      ]
     },
     "execution_count": 10,
     "metadata": {},
     "output_type": "execute_result"
    }
   ],
   "source": [
    "len(X_train['city'].value_counts())\n",
    "# The variable city contain over 11000 different entries, ohe possible with so many variables?\n",
    "# For the time being, city variable will be dropped"
   ]
  },
  {
   "cell_type": "code",
   "execution_count": 11,
   "id": "511ce896",
   "metadata": {
    "scrolled": false
   },
   "outputs": [
    {
     "data": {
      "text/html": [
       "<div>\n",
       "<style scoped>\n",
       "    .dataframe tbody tr th:only-of-type {\n",
       "        vertical-align: middle;\n",
       "    }\n",
       "\n",
       "    .dataframe tbody tr th {\n",
       "        vertical-align: top;\n",
       "    }\n",
       "\n",
       "    .dataframe thead th {\n",
       "        text-align: right;\n",
       "    }\n",
       "</style>\n",
       "<table border=\"1\" class=\"dataframe\">\n",
       "  <thead>\n",
       "    <tr style=\"text-align: right;\">\n",
       "      <th></th>\n",
       "      <th>goal_usd</th>\n",
       "      <th>duration_d</th>\n",
       "      <th>country_Asia</th>\n",
       "      <th>country_Australia and new Zealand</th>\n",
       "      <th>country_Europe</th>\n",
       "      <th>country_GB,CA</th>\n",
       "      <th>country_South America and Mexico</th>\n",
       "      <th>country_US</th>\n",
       "      <th>currency_CAD</th>\n",
       "      <th>currency_EUR</th>\n",
       "      <th>...</th>\n",
       "      <th>currency_Others</th>\n",
       "      <th>currency_USD</th>\n",
       "      <th>sub_category_Culture</th>\n",
       "      <th>sub_category_Entertainment</th>\n",
       "      <th>sub_category_Others</th>\n",
       "      <th>creator_projects_1</th>\n",
       "      <th>creator_projects_16-30</th>\n",
       "      <th>creator_projects_2-5</th>\n",
       "      <th>creator_projects_30+</th>\n",
       "      <th>creator_projects_6-15</th>\n",
       "    </tr>\n",
       "    <tr>\n",
       "      <th>id</th>\n",
       "      <th></th>\n",
       "      <th></th>\n",
       "      <th></th>\n",
       "      <th></th>\n",
       "      <th></th>\n",
       "      <th></th>\n",
       "      <th></th>\n",
       "      <th></th>\n",
       "      <th></th>\n",
       "      <th></th>\n",
       "      <th></th>\n",
       "      <th></th>\n",
       "      <th></th>\n",
       "      <th></th>\n",
       "      <th></th>\n",
       "      <th></th>\n",
       "      <th></th>\n",
       "      <th></th>\n",
       "      <th></th>\n",
       "      <th></th>\n",
       "      <th></th>\n",
       "    </tr>\n",
       "  </thead>\n",
       "  <tbody>\n",
       "    <tr>\n",
       "      <th>951016356</th>\n",
       "      <td>-0.012969</td>\n",
       "      <td>-0.244914</td>\n",
       "      <td>0.0</td>\n",
       "      <td>0.0</td>\n",
       "      <td>0.0</td>\n",
       "      <td>0.0</td>\n",
       "      <td>0.0</td>\n",
       "      <td>1.0</td>\n",
       "      <td>0.0</td>\n",
       "      <td>0.0</td>\n",
       "      <td>...</td>\n",
       "      <td>0.0</td>\n",
       "      <td>1.0</td>\n",
       "      <td>0.0</td>\n",
       "      <td>1.0</td>\n",
       "      <td>0.0</td>\n",
       "      <td>1.0</td>\n",
       "      <td>0.0</td>\n",
       "      <td>0.0</td>\n",
       "      <td>0.0</td>\n",
       "      <td>0.0</td>\n",
       "    </tr>\n",
       "    <tr>\n",
       "      <th>242521970</th>\n",
       "      <td>-0.034624</td>\n",
       "      <td>-0.244914</td>\n",
       "      <td>0.0</td>\n",
       "      <td>0.0</td>\n",
       "      <td>0.0</td>\n",
       "      <td>1.0</td>\n",
       "      <td>0.0</td>\n",
       "      <td>0.0</td>\n",
       "      <td>0.0</td>\n",
       "      <td>0.0</td>\n",
       "      <td>...</td>\n",
       "      <td>0.0</td>\n",
       "      <td>0.0</td>\n",
       "      <td>0.0</td>\n",
       "      <td>1.0</td>\n",
       "      <td>0.0</td>\n",
       "      <td>0.0</td>\n",
       "      <td>0.0</td>\n",
       "      <td>0.0</td>\n",
       "      <td>0.0</td>\n",
       "      <td>1.0</td>\n",
       "    </tr>\n",
       "    <tr>\n",
       "      <th>1091631676</th>\n",
       "      <td>-0.028186</td>\n",
       "      <td>0.248514</td>\n",
       "      <td>0.0</td>\n",
       "      <td>0.0</td>\n",
       "      <td>0.0</td>\n",
       "      <td>0.0</td>\n",
       "      <td>0.0</td>\n",
       "      <td>1.0</td>\n",
       "      <td>0.0</td>\n",
       "      <td>0.0</td>\n",
       "      <td>...</td>\n",
       "      <td>0.0</td>\n",
       "      <td>1.0</td>\n",
       "      <td>0.0</td>\n",
       "      <td>1.0</td>\n",
       "      <td>0.0</td>\n",
       "      <td>1.0</td>\n",
       "      <td>0.0</td>\n",
       "      <td>0.0</td>\n",
       "      <td>0.0</td>\n",
       "      <td>0.0</td>\n",
       "    </tr>\n",
       "    <tr>\n",
       "      <th>1004851582</th>\n",
       "      <td>-0.026396</td>\n",
       "      <td>-0.141988</td>\n",
       "      <td>0.0</td>\n",
       "      <td>0.0</td>\n",
       "      <td>0.0</td>\n",
       "      <td>0.0</td>\n",
       "      <td>0.0</td>\n",
       "      <td>1.0</td>\n",
       "      <td>0.0</td>\n",
       "      <td>0.0</td>\n",
       "      <td>...</td>\n",
       "      <td>0.0</td>\n",
       "      <td>1.0</td>\n",
       "      <td>0.0</td>\n",
       "      <td>1.0</td>\n",
       "      <td>0.0</td>\n",
       "      <td>1.0</td>\n",
       "      <td>0.0</td>\n",
       "      <td>0.0</td>\n",
       "      <td>0.0</td>\n",
       "      <td>0.0</td>\n",
       "    </tr>\n",
       "    <tr>\n",
       "      <th>2014286258</th>\n",
       "      <td>-0.026636</td>\n",
       "      <td>0.580893</td>\n",
       "      <td>0.0</td>\n",
       "      <td>0.0</td>\n",
       "      <td>1.0</td>\n",
       "      <td>0.0</td>\n",
       "      <td>0.0</td>\n",
       "      <td>0.0</td>\n",
       "      <td>0.0</td>\n",
       "      <td>1.0</td>\n",
       "      <td>...</td>\n",
       "      <td>0.0</td>\n",
       "      <td>0.0</td>\n",
       "      <td>1.0</td>\n",
       "      <td>0.0</td>\n",
       "      <td>0.0</td>\n",
       "      <td>1.0</td>\n",
       "      <td>0.0</td>\n",
       "      <td>0.0</td>\n",
       "      <td>0.0</td>\n",
       "      <td>0.0</td>\n",
       "    </tr>\n",
       "    <tr>\n",
       "      <th>...</th>\n",
       "      <td>...</td>\n",
       "      <td>...</td>\n",
       "      <td>...</td>\n",
       "      <td>...</td>\n",
       "      <td>...</td>\n",
       "      <td>...</td>\n",
       "      <td>...</td>\n",
       "      <td>...</td>\n",
       "      <td>...</td>\n",
       "      <td>...</td>\n",
       "      <td>...</td>\n",
       "      <td>...</td>\n",
       "      <td>...</td>\n",
       "      <td>...</td>\n",
       "      <td>...</td>\n",
       "      <td>...</td>\n",
       "      <td>...</td>\n",
       "      <td>...</td>\n",
       "      <td>...</td>\n",
       "      <td>...</td>\n",
       "      <td>...</td>\n",
       "    </tr>\n",
       "    <tr>\n",
       "      <th>1063338383</th>\n",
       "      <td>-0.034900</td>\n",
       "      <td>-0.244914</td>\n",
       "      <td>0.0</td>\n",
       "      <td>0.0</td>\n",
       "      <td>0.0</td>\n",
       "      <td>0.0</td>\n",
       "      <td>0.0</td>\n",
       "      <td>1.0</td>\n",
       "      <td>0.0</td>\n",
       "      <td>0.0</td>\n",
       "      <td>...</td>\n",
       "      <td>0.0</td>\n",
       "      <td>1.0</td>\n",
       "      <td>0.0</td>\n",
       "      <td>1.0</td>\n",
       "      <td>0.0</td>\n",
       "      <td>0.0</td>\n",
       "      <td>0.0</td>\n",
       "      <td>0.0</td>\n",
       "      <td>0.0</td>\n",
       "      <td>1.0</td>\n",
       "    </tr>\n",
       "    <tr>\n",
       "      <th>1253472741</th>\n",
       "      <td>-0.022187</td>\n",
       "      <td>-0.244914</td>\n",
       "      <td>0.0</td>\n",
       "      <td>0.0</td>\n",
       "      <td>1.0</td>\n",
       "      <td>0.0</td>\n",
       "      <td>0.0</td>\n",
       "      <td>0.0</td>\n",
       "      <td>0.0</td>\n",
       "      <td>0.0</td>\n",
       "      <td>...</td>\n",
       "      <td>1.0</td>\n",
       "      <td>0.0</td>\n",
       "      <td>0.0</td>\n",
       "      <td>0.0</td>\n",
       "      <td>1.0</td>\n",
       "      <td>1.0</td>\n",
       "      <td>0.0</td>\n",
       "      <td>0.0</td>\n",
       "      <td>0.0</td>\n",
       "      <td>0.0</td>\n",
       "    </tr>\n",
       "    <tr>\n",
       "      <th>461455322</th>\n",
       "      <td>-0.033529</td>\n",
       "      <td>1.323924</td>\n",
       "      <td>0.0</td>\n",
       "      <td>0.0</td>\n",
       "      <td>0.0</td>\n",
       "      <td>1.0</td>\n",
       "      <td>0.0</td>\n",
       "      <td>0.0</td>\n",
       "      <td>0.0</td>\n",
       "      <td>0.0</td>\n",
       "      <td>...</td>\n",
       "      <td>0.0</td>\n",
       "      <td>0.0</td>\n",
       "      <td>0.0</td>\n",
       "      <td>1.0</td>\n",
       "      <td>0.0</td>\n",
       "      <td>1.0</td>\n",
       "      <td>0.0</td>\n",
       "      <td>0.0</td>\n",
       "      <td>0.0</td>\n",
       "      <td>0.0</td>\n",
       "    </tr>\n",
       "    <tr>\n",
       "      <th>915590379</th>\n",
       "      <td>-0.026396</td>\n",
       "      <td>-0.244914</td>\n",
       "      <td>0.0</td>\n",
       "      <td>0.0</td>\n",
       "      <td>0.0</td>\n",
       "      <td>0.0</td>\n",
       "      <td>0.0</td>\n",
       "      <td>1.0</td>\n",
       "      <td>0.0</td>\n",
       "      <td>0.0</td>\n",
       "      <td>...</td>\n",
       "      <td>0.0</td>\n",
       "      <td>1.0</td>\n",
       "      <td>0.0</td>\n",
       "      <td>0.0</td>\n",
       "      <td>1.0</td>\n",
       "      <td>1.0</td>\n",
       "      <td>0.0</td>\n",
       "      <td>0.0</td>\n",
       "      <td>0.0</td>\n",
       "      <td>0.0</td>\n",
       "    </tr>\n",
       "    <tr>\n",
       "      <th>1666526044</th>\n",
       "      <td>-0.035166</td>\n",
       "      <td>-0.244914</td>\n",
       "      <td>0.0</td>\n",
       "      <td>0.0</td>\n",
       "      <td>0.0</td>\n",
       "      <td>1.0</td>\n",
       "      <td>0.0</td>\n",
       "      <td>0.0</td>\n",
       "      <td>0.0</td>\n",
       "      <td>0.0</td>\n",
       "      <td>...</td>\n",
       "      <td>0.0</td>\n",
       "      <td>0.0</td>\n",
       "      <td>0.0</td>\n",
       "      <td>1.0</td>\n",
       "      <td>0.0</td>\n",
       "      <td>1.0</td>\n",
       "      <td>0.0</td>\n",
       "      <td>0.0</td>\n",
       "      <td>0.0</td>\n",
       "      <td>0.0</td>\n",
       "    </tr>\n",
       "  </tbody>\n",
       "</table>\n",
       "<p>144541 rows × 21 columns</p>\n",
       "</div>"
      ],
      "text/plain": [
       "            goal_usd  duration_d  country_Asia  \\\n",
       "id                                               \n",
       "951016356  -0.012969   -0.244914           0.0   \n",
       "242521970  -0.034624   -0.244914           0.0   \n",
       "1091631676 -0.028186    0.248514           0.0   \n",
       "1004851582 -0.026396   -0.141988           0.0   \n",
       "2014286258 -0.026636    0.580893           0.0   \n",
       "...              ...         ...           ...   \n",
       "1063338383 -0.034900   -0.244914           0.0   \n",
       "1253472741 -0.022187   -0.244914           0.0   \n",
       "461455322  -0.033529    1.323924           0.0   \n",
       "915590379  -0.026396   -0.244914           0.0   \n",
       "1666526044 -0.035166   -0.244914           0.0   \n",
       "\n",
       "            country_Australia and new Zealand  country_Europe  country_GB,CA  \\\n",
       "id                                                                             \n",
       "951016356                                 0.0             0.0            0.0   \n",
       "242521970                                 0.0             0.0            1.0   \n",
       "1091631676                                0.0             0.0            0.0   \n",
       "1004851582                                0.0             0.0            0.0   \n",
       "2014286258                                0.0             1.0            0.0   \n",
       "...                                       ...             ...            ...   \n",
       "1063338383                                0.0             0.0            0.0   \n",
       "1253472741                                0.0             1.0            0.0   \n",
       "461455322                                 0.0             0.0            1.0   \n",
       "915590379                                 0.0             0.0            0.0   \n",
       "1666526044                                0.0             0.0            1.0   \n",
       "\n",
       "            country_South America and Mexico  country_US  currency_CAD  \\\n",
       "id                                                                       \n",
       "951016356                                0.0         1.0           0.0   \n",
       "242521970                                0.0         0.0           0.0   \n",
       "1091631676                               0.0         1.0           0.0   \n",
       "1004851582                               0.0         1.0           0.0   \n",
       "2014286258                               0.0         0.0           0.0   \n",
       "...                                      ...         ...           ...   \n",
       "1063338383                               0.0         1.0           0.0   \n",
       "1253472741                               0.0         0.0           0.0   \n",
       "461455322                                0.0         0.0           0.0   \n",
       "915590379                                0.0         1.0           0.0   \n",
       "1666526044                               0.0         0.0           0.0   \n",
       "\n",
       "            currency_EUR  ...  currency_Others  currency_USD  \\\n",
       "id                        ...                                  \n",
       "951016356            0.0  ...              0.0           1.0   \n",
       "242521970            0.0  ...              0.0           0.0   \n",
       "1091631676           0.0  ...              0.0           1.0   \n",
       "1004851582           0.0  ...              0.0           1.0   \n",
       "2014286258           1.0  ...              0.0           0.0   \n",
       "...                  ...  ...              ...           ...   \n",
       "1063338383           0.0  ...              0.0           1.0   \n",
       "1253472741           0.0  ...              1.0           0.0   \n",
       "461455322            0.0  ...              0.0           0.0   \n",
       "915590379            0.0  ...              0.0           1.0   \n",
       "1666526044           0.0  ...              0.0           0.0   \n",
       "\n",
       "            sub_category_Culture  sub_category_Entertainment  \\\n",
       "id                                                             \n",
       "951016356                    0.0                         1.0   \n",
       "242521970                    0.0                         1.0   \n",
       "1091631676                   0.0                         1.0   \n",
       "1004851582                   0.0                         1.0   \n",
       "2014286258                   1.0                         0.0   \n",
       "...                          ...                         ...   \n",
       "1063338383                   0.0                         1.0   \n",
       "1253472741                   0.0                         0.0   \n",
       "461455322                    0.0                         1.0   \n",
       "915590379                    0.0                         0.0   \n",
       "1666526044                   0.0                         1.0   \n",
       "\n",
       "            sub_category_Others  creator_projects_1  creator_projects_16-30  \\\n",
       "id                                                                            \n",
       "951016356                   0.0                 1.0                     0.0   \n",
       "242521970                   0.0                 0.0                     0.0   \n",
       "1091631676                  0.0                 1.0                     0.0   \n",
       "1004851582                  0.0                 1.0                     0.0   \n",
       "2014286258                  0.0                 1.0                     0.0   \n",
       "...                         ...                 ...                     ...   \n",
       "1063338383                  0.0                 0.0                     0.0   \n",
       "1253472741                  1.0                 1.0                     0.0   \n",
       "461455322                   0.0                 1.0                     0.0   \n",
       "915590379                   1.0                 1.0                     0.0   \n",
       "1666526044                  0.0                 1.0                     0.0   \n",
       "\n",
       "            creator_projects_2-5  creator_projects_30+  creator_projects_6-15  \n",
       "id                                                                             \n",
       "951016356                    0.0                   0.0                    0.0  \n",
       "242521970                    0.0                   0.0                    1.0  \n",
       "1091631676                   0.0                   0.0                    0.0  \n",
       "1004851582                   0.0                   0.0                    0.0  \n",
       "2014286258                   0.0                   0.0                    0.0  \n",
       "...                          ...                   ...                    ...  \n",
       "1063338383                   0.0                   0.0                    1.0  \n",
       "1253472741                   0.0                   0.0                    0.0  \n",
       "461455322                    0.0                   0.0                    0.0  \n",
       "915590379                    0.0                   0.0                    0.0  \n",
       "1666526044                   0.0                   0.0                    0.0  \n",
       "\n",
       "[144541 rows x 21 columns]"
      ]
     },
     "execution_count": 11,
     "metadata": {},
     "output_type": "execute_result"
    }
   ],
   "source": [
    "X_train_merge_org=pd.concat([X_train_num,X_train_ohe],axis=1)\n",
    "X_test_merge=pd.concat([X_test_num,X_test_ohe],axis=1)\n",
    "X_train_merge_org"
   ]
  },
  {
   "cell_type": "markdown",
   "id": "617c7322",
   "metadata": {},
   "source": [
    "#### Resampling and Analysisvariable"
   ]
  },
  {
   "cell_type": "code",
   "execution_count": 12,
   "id": "d0c7b169",
   "metadata": {},
   "outputs": [
    {
     "data": {
      "text/plain": [
       "168246"
      ]
     },
     "execution_count": 12,
     "metadata": {},
     "output_type": "execute_result"
    }
   ],
   "source": [
    "from imblearn.over_sampling import RandomOverSampler \n",
    "rOs =RandomOverSampler()\n",
    "X_over,y_over =rOs.fit_resample(X_train_merge_org,y_train)\n",
    "len(X_over)"
   ]
  },
  {
   "cell_type": "code",
   "execution_count": 13,
   "id": "d79c9bf7",
   "metadata": {},
   "outputs": [
    {
     "data": {
      "text/plain": [
       "120836"
      ]
     },
     "execution_count": 13,
     "metadata": {},
     "output_type": "execute_result"
    }
   ],
   "source": [
    "from imblearn.under_sampling import RandomUnderSampler\n",
    "rUs=RandomUnderSampler()\n",
    "x_under,y_under=rUs.fit_resample(X_train_merge_org,y_train)\n",
    "len(x_under)"
   ]
  },
  {
   "cell_type": "code",
   "execution_count": 14,
   "id": "fcac9f46",
   "metadata": {},
   "outputs": [],
   "source": [
    "# Variable for the Analysis\n",
    "X_train_merge=X_train_merge_org\n",
    "y_train=y_train"
   ]
  },
  {
   "cell_type": "markdown",
   "id": "545161d8",
   "metadata": {},
   "source": [
    "### Modelling of the data"
   ]
  },
  {
   "cell_type": "markdown",
   "id": "d7b07fc8",
   "metadata": {},
   "source": [
    "Which model to chose?\n",
    "- Classification. tree or regression?\n",
    "\n",
    "Which metric to evaluate?\n",
    "- Eigentlich ja nur Modelle mit den Daten füttern Verbindung zum Project eher unwichtig, keine Projektdaten\n",
    "\n"
   ]
  },
  {
   "cell_type": "code",
   "execution_count": 15,
   "id": "16389a66",
   "metadata": {},
   "outputs": [],
   "source": [
    "# Maschine learning\n",
    "from sklearn.tree import DecisionTreeClassifier\n",
    "from sklearn.linear_model import LogisticRegression"
   ]
  },
  {
   "cell_type": "code",
   "execution_count": 16,
   "id": "2943d097",
   "metadata": {
    "scrolled": true
   },
   "outputs": [
    {
     "ename": "KeyError",
     "evalue": "\"['country_SI', 'currency_PLN'] not found in axis\"",
     "output_type": "error",
     "traceback": [
      "\u001b[1;31m---------------------------------------------------------------------------\u001b[0m",
      "\u001b[1;31mKeyError\u001b[0m                                  Traceback (most recent call last)",
      "\u001b[1;32m~\\AppData\\Local\\Temp\\ipykernel_13704\\1862354788.py\u001b[0m in \u001b[0;36m<module>\u001b[1;34m\u001b[0m\n\u001b[1;32m----> 1\u001b[1;33m \u001b[0mX_train_merge\u001b[0m\u001b[1;33m.\u001b[0m\u001b[0mdrop\u001b[0m\u001b[1;33m(\u001b[0m\u001b[1;33m[\u001b[0m\u001b[1;34m'country_SI'\u001b[0m\u001b[1;33m,\u001b[0m\u001b[1;34m'currency_PLN'\u001b[0m\u001b[1;33m]\u001b[0m\u001b[1;33m,\u001b[0m\u001b[0maxis\u001b[0m\u001b[1;33m=\u001b[0m\u001b[1;36m1\u001b[0m\u001b[1;33m,\u001b[0m\u001b[0minplace\u001b[0m\u001b[1;33m=\u001b[0m\u001b[1;32mTrue\u001b[0m\u001b[1;33m)\u001b[0m\u001b[1;33m\u001b[0m\u001b[1;33m\u001b[0m\u001b[0m\n\u001b[0m",
      "\u001b[1;32m~\\anaconda3\\lib\\site-packages\\pandas\\util\\_decorators.py\u001b[0m in \u001b[0;36mwrapper\u001b[1;34m(*args, **kwargs)\u001b[0m\n\u001b[0;32m    309\u001b[0m                     \u001b[0mstacklevel\u001b[0m\u001b[1;33m=\u001b[0m\u001b[0mstacklevel\u001b[0m\u001b[1;33m,\u001b[0m\u001b[1;33m\u001b[0m\u001b[1;33m\u001b[0m\u001b[0m\n\u001b[0;32m    310\u001b[0m                 )\n\u001b[1;32m--> 311\u001b[1;33m             \u001b[1;32mreturn\u001b[0m \u001b[0mfunc\u001b[0m\u001b[1;33m(\u001b[0m\u001b[1;33m*\u001b[0m\u001b[0margs\u001b[0m\u001b[1;33m,\u001b[0m \u001b[1;33m**\u001b[0m\u001b[0mkwargs\u001b[0m\u001b[1;33m)\u001b[0m\u001b[1;33m\u001b[0m\u001b[1;33m\u001b[0m\u001b[0m\n\u001b[0m\u001b[0;32m    312\u001b[0m \u001b[1;33m\u001b[0m\u001b[0m\n\u001b[0;32m    313\u001b[0m         \u001b[1;32mreturn\u001b[0m \u001b[0mwrapper\u001b[0m\u001b[1;33m\u001b[0m\u001b[1;33m\u001b[0m\u001b[0m\n",
      "\u001b[1;32m~\\anaconda3\\lib\\site-packages\\pandas\\core\\frame.py\u001b[0m in \u001b[0;36mdrop\u001b[1;34m(self, labels, axis, index, columns, level, inplace, errors)\u001b[0m\n\u001b[0;32m   4955\u001b[0m                 \u001b[0mweight\u001b[0m  \u001b[1;36m1.0\u001b[0m     \u001b[1;36m0.8\u001b[0m\u001b[1;33m\u001b[0m\u001b[1;33m\u001b[0m\u001b[0m\n\u001b[0;32m   4956\u001b[0m         \"\"\"\n\u001b[1;32m-> 4957\u001b[1;33m         return super().drop(\n\u001b[0m\u001b[0;32m   4958\u001b[0m             \u001b[0mlabels\u001b[0m\u001b[1;33m=\u001b[0m\u001b[0mlabels\u001b[0m\u001b[1;33m,\u001b[0m\u001b[1;33m\u001b[0m\u001b[1;33m\u001b[0m\u001b[0m\n\u001b[0;32m   4959\u001b[0m             \u001b[0maxis\u001b[0m\u001b[1;33m=\u001b[0m\u001b[0maxis\u001b[0m\u001b[1;33m,\u001b[0m\u001b[1;33m\u001b[0m\u001b[1;33m\u001b[0m\u001b[0m\n",
      "\u001b[1;32m~\\anaconda3\\lib\\site-packages\\pandas\\core\\generic.py\u001b[0m in \u001b[0;36mdrop\u001b[1;34m(self, labels, axis, index, columns, level, inplace, errors)\u001b[0m\n\u001b[0;32m   4265\u001b[0m         \u001b[1;32mfor\u001b[0m \u001b[0maxis\u001b[0m\u001b[1;33m,\u001b[0m \u001b[0mlabels\u001b[0m \u001b[1;32min\u001b[0m \u001b[0maxes\u001b[0m\u001b[1;33m.\u001b[0m\u001b[0mitems\u001b[0m\u001b[1;33m(\u001b[0m\u001b[1;33m)\u001b[0m\u001b[1;33m:\u001b[0m\u001b[1;33m\u001b[0m\u001b[1;33m\u001b[0m\u001b[0m\n\u001b[0;32m   4266\u001b[0m             \u001b[1;32mif\u001b[0m \u001b[0mlabels\u001b[0m \u001b[1;32mis\u001b[0m \u001b[1;32mnot\u001b[0m \u001b[1;32mNone\u001b[0m\u001b[1;33m:\u001b[0m\u001b[1;33m\u001b[0m\u001b[1;33m\u001b[0m\u001b[0m\n\u001b[1;32m-> 4267\u001b[1;33m                 \u001b[0mobj\u001b[0m \u001b[1;33m=\u001b[0m \u001b[0mobj\u001b[0m\u001b[1;33m.\u001b[0m\u001b[0m_drop_axis\u001b[0m\u001b[1;33m(\u001b[0m\u001b[0mlabels\u001b[0m\u001b[1;33m,\u001b[0m \u001b[0maxis\u001b[0m\u001b[1;33m,\u001b[0m \u001b[0mlevel\u001b[0m\u001b[1;33m=\u001b[0m\u001b[0mlevel\u001b[0m\u001b[1;33m,\u001b[0m \u001b[0merrors\u001b[0m\u001b[1;33m=\u001b[0m\u001b[0merrors\u001b[0m\u001b[1;33m)\u001b[0m\u001b[1;33m\u001b[0m\u001b[1;33m\u001b[0m\u001b[0m\n\u001b[0m\u001b[0;32m   4268\u001b[0m \u001b[1;33m\u001b[0m\u001b[0m\n\u001b[0;32m   4269\u001b[0m         \u001b[1;32mif\u001b[0m \u001b[0minplace\u001b[0m\u001b[1;33m:\u001b[0m\u001b[1;33m\u001b[0m\u001b[1;33m\u001b[0m\u001b[0m\n",
      "\u001b[1;32m~\\anaconda3\\lib\\site-packages\\pandas\\core\\generic.py\u001b[0m in \u001b[0;36m_drop_axis\u001b[1;34m(self, labels, axis, level, errors, consolidate, only_slice)\u001b[0m\n\u001b[0;32m   4309\u001b[0m                 \u001b[0mnew_axis\u001b[0m \u001b[1;33m=\u001b[0m \u001b[0maxis\u001b[0m\u001b[1;33m.\u001b[0m\u001b[0mdrop\u001b[0m\u001b[1;33m(\u001b[0m\u001b[0mlabels\u001b[0m\u001b[1;33m,\u001b[0m \u001b[0mlevel\u001b[0m\u001b[1;33m=\u001b[0m\u001b[0mlevel\u001b[0m\u001b[1;33m,\u001b[0m \u001b[0merrors\u001b[0m\u001b[1;33m=\u001b[0m\u001b[0merrors\u001b[0m\u001b[1;33m)\u001b[0m\u001b[1;33m\u001b[0m\u001b[1;33m\u001b[0m\u001b[0m\n\u001b[0;32m   4310\u001b[0m             \u001b[1;32melse\u001b[0m\u001b[1;33m:\u001b[0m\u001b[1;33m\u001b[0m\u001b[1;33m\u001b[0m\u001b[0m\n\u001b[1;32m-> 4311\u001b[1;33m                 \u001b[0mnew_axis\u001b[0m \u001b[1;33m=\u001b[0m \u001b[0maxis\u001b[0m\u001b[1;33m.\u001b[0m\u001b[0mdrop\u001b[0m\u001b[1;33m(\u001b[0m\u001b[0mlabels\u001b[0m\u001b[1;33m,\u001b[0m \u001b[0merrors\u001b[0m\u001b[1;33m=\u001b[0m\u001b[0merrors\u001b[0m\u001b[1;33m)\u001b[0m\u001b[1;33m\u001b[0m\u001b[1;33m\u001b[0m\u001b[0m\n\u001b[0m\u001b[0;32m   4312\u001b[0m             \u001b[0mindexer\u001b[0m \u001b[1;33m=\u001b[0m \u001b[0maxis\u001b[0m\u001b[1;33m.\u001b[0m\u001b[0mget_indexer\u001b[0m\u001b[1;33m(\u001b[0m\u001b[0mnew_axis\u001b[0m\u001b[1;33m)\u001b[0m\u001b[1;33m\u001b[0m\u001b[1;33m\u001b[0m\u001b[0m\n\u001b[0;32m   4313\u001b[0m \u001b[1;33m\u001b[0m\u001b[0m\n",
      "\u001b[1;32m~\\anaconda3\\lib\\site-packages\\pandas\\core\\indexes\\base.py\u001b[0m in \u001b[0;36mdrop\u001b[1;34m(self, labels, errors)\u001b[0m\n\u001b[0;32m   6659\u001b[0m         \u001b[1;32mif\u001b[0m \u001b[0mmask\u001b[0m\u001b[1;33m.\u001b[0m\u001b[0many\u001b[0m\u001b[1;33m(\u001b[0m\u001b[1;33m)\u001b[0m\u001b[1;33m:\u001b[0m\u001b[1;33m\u001b[0m\u001b[1;33m\u001b[0m\u001b[0m\n\u001b[0;32m   6660\u001b[0m             \u001b[1;32mif\u001b[0m \u001b[0merrors\u001b[0m \u001b[1;33m!=\u001b[0m \u001b[1;34m\"ignore\"\u001b[0m\u001b[1;33m:\u001b[0m\u001b[1;33m\u001b[0m\u001b[1;33m\u001b[0m\u001b[0m\n\u001b[1;32m-> 6661\u001b[1;33m                 \u001b[1;32mraise\u001b[0m \u001b[0mKeyError\u001b[0m\u001b[1;33m(\u001b[0m\u001b[1;34mf\"{list(labels[mask])} not found in axis\"\u001b[0m\u001b[1;33m)\u001b[0m\u001b[1;33m\u001b[0m\u001b[1;33m\u001b[0m\u001b[0m\n\u001b[0m\u001b[0;32m   6662\u001b[0m             \u001b[0mindexer\u001b[0m \u001b[1;33m=\u001b[0m \u001b[0mindexer\u001b[0m\u001b[1;33m[\u001b[0m\u001b[1;33m~\u001b[0m\u001b[0mmask\u001b[0m\u001b[1;33m]\u001b[0m\u001b[1;33m\u001b[0m\u001b[1;33m\u001b[0m\u001b[0m\n\u001b[0;32m   6663\u001b[0m         \u001b[1;32mreturn\u001b[0m \u001b[0mself\u001b[0m\u001b[1;33m.\u001b[0m\u001b[0mdelete\u001b[0m\u001b[1;33m(\u001b[0m\u001b[0mindexer\u001b[0m\u001b[1;33m)\u001b[0m\u001b[1;33m\u001b[0m\u001b[1;33m\u001b[0m\u001b[0m\n",
      "\u001b[1;31mKeyError\u001b[0m: \"['country_SI', 'currency_PLN'] not found in axis\""
     ]
    }
   ],
   "source": [
    "X_train_merge.drop(['country_SI','currency_PLN'],axis=1,inplace=True)"
   ]
  },
  {
   "cell_type": "code",
   "execution_count": null,
   "id": "1bf9b88d",
   "metadata": {
    "scrolled": true
   },
   "outputs": [],
   "source": [
    "# Classification tree\n",
    "tree=DecisionTreeClassifier()\n",
    "tree.fit(X_train_merge,y_train)\n",
    "tree_pred=tree.predict(X_test_merge)\n",
    "print('Decision Tree R2 value:',tree.score(X_test_merge,y_test))"
   ]
  },
  {
   "cell_type": "code",
   "execution_count": null,
   "id": "29f143f9",
   "metadata": {
    "scrolled": true
   },
   "outputs": [],
   "source": [
    "# Logistical Regression\n",
    "log=LogisticRegression()\n",
    "log.fit(X_train_merge,y_train)\n",
    "log_pred=log.predict(X_test_merge)\n",
    "print('Logistical Regression R2 value:',log.score(X_test_merge,y_test))"
   ]
  },
  {
   "cell_type": "code",
   "execution_count": null,
   "id": "932335f2",
   "metadata": {
    "scrolled": false
   },
   "outputs": [],
   "source": [
    "# Crosstab\n",
    "print('Decision Tree')\n",
    "display(pd.crosstab(y_test,tree_pred,normalize=True, rownames=['True'], colnames=['Prediction']))\n",
    "print('Logistical Regression')\n",
    "display(pd.crosstab(y_test,log_pred,normalize=True, rownames=['True'], colnames=['Prediction']))"
   ]
  },
  {
   "cell_type": "code",
   "execution_count": null,
   "id": "c1213057",
   "metadata": {
    "scrolled": false
   },
   "outputs": [],
   "source": [
    "# Classification Report\n",
    "from sklearn.metrics import classification_report\n",
    "print('Decision Tree \\n',classification_report(y_test,tree_pred))\n",
    "print('Logistical Regression \\n',classification_report(y_test,log_pred))"
   ]
  },
  {
   "cell_type": "code",
   "execution_count": null,
   "id": "b7bbd3e5",
   "metadata": {},
   "outputs": [],
   "source": [
    "df_y.value_counts(normalize=True)"
   ]
  },
  {
   "cell_type": "code",
   "execution_count": null,
   "id": "de9d06cb",
   "metadata": {},
   "outputs": [],
   "source": [
    "# Conclusion\n",
    "print('we can see that the logistical regresson has the better overall value with a F1 Score of 0.9, it interesting that the decision tree has significant lower values for false positives')"
   ]
  },
  {
   "cell_type": "code",
   "execution_count": null,
   "id": "0c19437a",
   "metadata": {
    "scrolled": true
   },
   "outputs": [],
   "source": [
    "# Buildung the Coefficient DataFrame\n",
    "log_importance=pd.DataFrame({'Variables':X_train_merge.columns,'Coefficient':log.coef_[0]})\n",
    "log_importance_negatives=log_importance.sort_values('Coefficient',ascending=True)\n",
    "log_importance_positives=log_importance.sort_values('Coefficient',ascending=False)\n",
    "display(log_importance_positives)"
   ]
  },
  {
   "cell_type": "code",
   "execution_count": null,
   "id": "d9291225",
   "metadata": {
    "scrolled": true
   },
   "outputs": [],
   "source": [
    "display(log_importance_negatives)"
   ]
  },
  {
   "cell_type": "code",
   "execution_count": null,
   "id": "3424e0a3",
   "metadata": {
    "scrolled": false
   },
   "outputs": [],
   "source": [
    "# Plotting the Coefficeint DataFrame\n",
    "plt.figure(figsize=[10,10])\n",
    "plt.plot(log_importance_negatives['Variables'][0:5],log_importance_negatives['Coefficient'][0:5])\n",
    "plt.ylabel('Coefficient')\n",
    "plt.xlabel('Variables')\n",
    "plt.title('Top 5 negative Coefficients');\n",
    "plt.show()\n",
    "plt.figure(figsize=[10,10])\n",
    "plt.plot(log_importance_positives['Variables'][0:5],log_importance_positives['Coefficient'][0:5])\n",
    "plt.ylabel('Coefficient')\n",
    "plt.xlabel('Variables')\n",
    "plt.title('Top 5 positives Coefficients');"
   ]
  },
  {
   "cell_type": "markdown",
   "id": "ddfecbf0",
   "metadata": {},
   "source": [
    "#### Tests"
   ]
  },
  {
   "cell_type": "code",
   "execution_count": null,
   "id": "a978d230",
   "metadata": {},
   "outputs": [],
   "source": []
  }
 ],
 "metadata": {
  "kernelspec": {
   "display_name": "Python 3 (ipykernel)",
   "language": "python",
   "name": "python3"
  },
  "language_info": {
   "codemirror_mode": {
    "name": "ipython",
    "version": 3
   },
   "file_extension": ".py",
   "mimetype": "text/x-python",
   "name": "python",
   "nbconvert_exporter": "python",
   "pygments_lexer": "ipython3",
   "version": "3.9.13"
  }
 },
 "nbformat": 4,
 "nbformat_minor": 5
}
