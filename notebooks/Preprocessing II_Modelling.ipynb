{
 "cells": [
  {
   "attachments": {},
   "cell_type": "markdown",
   "id": "c21a358a",
   "metadata": {},
   "source": [
    "### Import"
   ]
  },
  {
   "cell_type": "code",
   "execution_count": 8,
   "id": "7f0a58e4",
   "metadata": {},
   "outputs": [],
   "source": [
    "import pandas as pd\n",
    "import numpy as np\n",
    "import matplotlib.pyplot as plt\n",
    "import seaborn as sns\n",
    "import scipy.stats as stats\n",
    "%matplotlib inline\n",
    "# import warnings\n",
    "# warnings.filterwarnings(\"ignore\")"
   ]
  },
  {
   "cell_type": "code",
   "execution_count": 9,
   "id": "09e91858",
   "metadata": {},
   "outputs": [],
   "source": [
    "# Customazation oif the Variables, yes =1 and no =0\n",
    "# simplification of countries\n",
    "simp_country=1\n",
    "# Simplification of currency\n",
    "simp_currency=1\n",
    "# Simplification of main_category:\n",
    "simp_category=1\n",
    "# overestimation\n",
    "over_estimation=0\n",
    "# Underestimation\n",
    "under_estimation=0\n",
    "# Categorization of the backers count\n",
    "# Attention: Very costly computation \n",
    "cat_backers_count=0"
   ]
  },
  {
   "cell_type": "code",
   "execution_count": 10,
   "id": "bc5704c5",
   "metadata": {},
   "outputs": [],
   "source": [
    "# Chosen Variables\n",
    "not_used_list=['city', 'usd_pledged','sub_category','backers_count','launched_year']\n",
    "num_list=['goal_usd']\n",
    "cat_list=['country','currency','main_category','creator_projects']"
   ]
  },
  {
   "cell_type": "code",
   "execution_count": 11,
   "id": "89131ca2",
   "metadata": {},
   "outputs": [],
   "source": [
    "# The variable city contain over 11000 different entries, ohe possible with so many variables?\n",
    "# For the time being, city variable will be dropped"
   ]
  },
  {
   "attachments": {},
   "cell_type": "markdown",
   "id": "92c8e235",
   "metadata": {},
   "source": [
    "### data import"
   ]
  },
  {
   "cell_type": "code",
   "execution_count": 12,
   "id": "bfcfccbd",
   "metadata": {},
   "outputs": [
    {
     "data": {
      "text/html": [
       "<div>\n",
       "<style scoped>\n",
       "    .dataframe tbody tr th:only-of-type {\n",
       "        vertical-align: middle;\n",
       "    }\n",
       "\n",
       "    .dataframe tbody tr th {\n",
       "        vertical-align: top;\n",
       "    }\n",
       "\n",
       "    .dataframe thead th {\n",
       "        text-align: right;\n",
       "    }\n",
       "</style>\n",
       "<table border=\"1\" class=\"dataframe\">\n",
       "  <thead>\n",
       "    <tr style=\"text-align: right;\">\n",
       "      <th></th>\n",
       "      <th>currency</th>\n",
       "      <th>backers_count</th>\n",
       "      <th>country</th>\n",
       "      <th>status</th>\n",
       "      <th>usd_pledged</th>\n",
       "      <th>main_category</th>\n",
       "      <th>sub_category</th>\n",
       "      <th>goal_usd</th>\n",
       "      <th>city</th>\n",
       "      <th>duration</th>\n",
       "      <th>launched_year</th>\n",
       "      <th>creator_projects</th>\n",
       "    </tr>\n",
       "    <tr>\n",
       "      <th>id</th>\n",
       "      <th></th>\n",
       "      <th></th>\n",
       "      <th></th>\n",
       "      <th></th>\n",
       "      <th></th>\n",
       "      <th></th>\n",
       "      <th></th>\n",
       "      <th></th>\n",
       "      <th></th>\n",
       "      <th></th>\n",
       "      <th></th>\n",
       "      <th></th>\n",
       "    </tr>\n",
       "  </thead>\n",
       "  <tbody>\n",
       "    <tr>\n",
       "      <th>1714728788</th>\n",
       "      <td>CAD</td>\n",
       "      <td>16</td>\n",
       "      <td>CA</td>\n",
       "      <td>failed</td>\n",
       "      <td>577.902078</td>\n",
       "      <td>food</td>\n",
       "      <td>Farms</td>\n",
       "      <td>785.82065</td>\n",
       "      <td>Victoria</td>\n",
       "      <td>60.0</td>\n",
       "      <td>2018</td>\n",
       "      <td>1</td>\n",
       "    </tr>\n",
       "    <tr>\n",
       "      <th>1639965256</th>\n",
       "      <td>USD</td>\n",
       "      <td>7</td>\n",
       "      <td>US</td>\n",
       "      <td>successful</td>\n",
       "      <td>211.000000</td>\n",
       "      <td>publishing</td>\n",
       "      <td>Academic</td>\n",
       "      <td>93.00000</td>\n",
       "      <td>San Diego</td>\n",
       "      <td>24.0</td>\n",
       "      <td>2014</td>\n",
       "      <td>1</td>\n",
       "    </tr>\n",
       "    <tr>\n",
       "      <th>1582062943</th>\n",
       "      <td>USD</td>\n",
       "      <td>99</td>\n",
       "      <td>US</td>\n",
       "      <td>successful</td>\n",
       "      <td>4697.000000</td>\n",
       "      <td>food</td>\n",
       "      <td>Small Batch</td>\n",
       "      <td>1500.00000</td>\n",
       "      <td>Philadelphia</td>\n",
       "      <td>30.0</td>\n",
       "      <td>2020</td>\n",
       "      <td>1</td>\n",
       "    </tr>\n",
       "    <tr>\n",
       "      <th>1888984372</th>\n",
       "      <td>USD</td>\n",
       "      <td>3</td>\n",
       "      <td>US</td>\n",
       "      <td>failed</td>\n",
       "      <td>222.000000</td>\n",
       "      <td>technology</td>\n",
       "      <td>Gadgets</td>\n",
       "      <td>25000.00000</td>\n",
       "      <td>Chicago</td>\n",
       "      <td>60.0</td>\n",
       "      <td>2019</td>\n",
       "      <td>1</td>\n",
       "    </tr>\n",
       "    <tr>\n",
       "      <th>1409770586</th>\n",
       "      <td>USD</td>\n",
       "      <td>100</td>\n",
       "      <td>US</td>\n",
       "      <td>successful</td>\n",
       "      <td>5410.000000</td>\n",
       "      <td>publishing</td>\n",
       "      <td>Radio &amp; Podcasts</td>\n",
       "      <td>5000.00000</td>\n",
       "      <td>Madrid</td>\n",
       "      <td>30.0</td>\n",
       "      <td>2015</td>\n",
       "      <td>1</td>\n",
       "    </tr>\n",
       "  </tbody>\n",
       "</table>\n",
       "</div>"
      ],
      "text/plain": [
       "           currency  backers_count country      status  usd_pledged  \\\n",
       "id                                                                    \n",
       "1714728788      CAD             16      CA      failed   577.902078   \n",
       "1639965256      USD              7      US  successful   211.000000   \n",
       "1582062943      USD             99      US  successful  4697.000000   \n",
       "1888984372      USD              3      US      failed   222.000000   \n",
       "1409770586      USD            100      US  successful  5410.000000   \n",
       "\n",
       "           main_category      sub_category     goal_usd          city  \\\n",
       "id                                                                      \n",
       "1714728788          food             Farms    785.82065      Victoria   \n",
       "1639965256    publishing          Academic     93.00000     San Diego   \n",
       "1582062943          food       Small Batch   1500.00000  Philadelphia   \n",
       "1888984372    technology           Gadgets  25000.00000       Chicago   \n",
       "1409770586    publishing  Radio & Podcasts   5000.00000        Madrid   \n",
       "\n",
       "            duration  launched_year creator_projects  \n",
       "id                                                    \n",
       "1714728788      60.0           2018                1  \n",
       "1639965256      24.0           2014                1  \n",
       "1582062943      30.0           2020                1  \n",
       "1888984372      60.0           2019                1  \n",
       "1409770586      30.0           2015                1  "
      ]
     },
     "metadata": {},
     "output_type": "display_data"
    },
    {
     "name": "stdout",
     "output_type": "stream",
     "text": [
      "<class 'pandas.core.frame.DataFrame'>\n",
      "Int64Index: 180677 entries, 1714728788 to 1126079486\n",
      "Data columns (total 12 columns):\n",
      " #   Column            Non-Null Count   Dtype  \n",
      "---  ------            --------------   -----  \n",
      " 0   currency          180677 non-null  object \n",
      " 1   backers_count     180677 non-null  int64  \n",
      " 2   country           180677 non-null  object \n",
      " 3   status            180677 non-null  object \n",
      " 4   usd_pledged       180677 non-null  float64\n",
      " 5   main_category     180677 non-null  object \n",
      " 6   sub_category      180677 non-null  object \n",
      " 7   goal_usd          180677 non-null  float64\n",
      " 8   city              180677 non-null  object \n",
      " 9   duration          180677 non-null  float64\n",
      " 10  launched_year     180677 non-null  int64  \n",
      " 11  creator_projects  180677 non-null  object \n",
      "dtypes: float64(3), int64(2), object(7)\n",
      "memory usage: 17.9+ MB\n"
     ]
    },
    {
     "data": {
      "text/plain": [
       "None"
      ]
     },
     "metadata": {},
     "output_type": "display_data"
    }
   ],
   "source": [
    "imp=r\".../GitHub/MAY23_BDA_INT_Crowdfunding/data/kaggle/Kaggle_deduplicated.csv\"\n",
    "imp=r\"C:\\Users\\Franz.000\\Documents\\GitHub\\MAY23_BDA_INT_Crowdfunding\\data\\kaggle\\Kaggle_deduplicated.csv\"\n",
    "df=pd.read_csv(imp,index_col='id')\n",
    "df.drop(columns='Unnamed: 0',inplace=True)\n",
    "display(df.head())\n",
    "display(df.info())"
   ]
  },
  {
   "cell_type": "code",
   "execution_count": 13,
   "id": "bd26ee5a",
   "metadata": {},
   "outputs": [],
   "source": [
    "df['status'].replace(['successful','failed'],[1,0],inplace=True)"
   ]
  },
  {
   "cell_type": "code",
   "execution_count": 14,
   "id": "d3936209",
   "metadata": {},
   "outputs": [
    {
     "data": {
      "text/html": [
       "<div>\n",
       "<style scoped>\n",
       "    .dataframe tbody tr th:only-of-type {\n",
       "        vertical-align: middle;\n",
       "    }\n",
       "\n",
       "    .dataframe tbody tr th {\n",
       "        vertical-align: top;\n",
       "    }\n",
       "\n",
       "    .dataframe thead th {\n",
       "        text-align: right;\n",
       "    }\n",
       "</style>\n",
       "<table border=\"1\" class=\"dataframe\">\n",
       "  <thead>\n",
       "    <tr style=\"text-align: right;\">\n",
       "      <th>status</th>\n",
       "      <th>0</th>\n",
       "      <th>1</th>\n",
       "    </tr>\n",
       "    <tr>\n",
       "      <th>country</th>\n",
       "      <th></th>\n",
       "      <th></th>\n",
       "    </tr>\n",
       "  </thead>\n",
       "  <tbody>\n",
       "    <tr>\n",
       "      <th>AT</th>\n",
       "      <td>0.600000</td>\n",
       "      <td>0.400000</td>\n",
       "    </tr>\n",
       "    <tr>\n",
       "      <th>AU</th>\n",
       "      <td>0.483663</td>\n",
       "      <td>0.516337</td>\n",
       "    </tr>\n",
       "    <tr>\n",
       "      <th>BE</th>\n",
       "      <td>0.562842</td>\n",
       "      <td>0.437158</td>\n",
       "    </tr>\n",
       "    <tr>\n",
       "      <th>CA</th>\n",
       "      <td>0.439765</td>\n",
       "      <td>0.560235</td>\n",
       "    </tr>\n",
       "    <tr>\n",
       "      <th>CH</th>\n",
       "      <td>0.549451</td>\n",
       "      <td>0.450549</td>\n",
       "    </tr>\n",
       "    <tr>\n",
       "      <th>DE</th>\n",
       "      <td>0.536169</td>\n",
       "      <td>0.463831</td>\n",
       "    </tr>\n",
       "    <tr>\n",
       "      <th>DK</th>\n",
       "      <td>0.427329</td>\n",
       "      <td>0.572671</td>\n",
       "    </tr>\n",
       "    <tr>\n",
       "      <th>ES</th>\n",
       "      <td>0.543816</td>\n",
       "      <td>0.456184</td>\n",
       "    </tr>\n",
       "    <tr>\n",
       "      <th>FR</th>\n",
       "      <td>0.439464</td>\n",
       "      <td>0.560536</td>\n",
       "    </tr>\n",
       "    <tr>\n",
       "      <th>GB</th>\n",
       "      <td>0.374759</td>\n",
       "      <td>0.625241</td>\n",
       "    </tr>\n",
       "    <tr>\n",
       "      <th>GR</th>\n",
       "      <td>0.000000</td>\n",
       "      <td>1.000000</td>\n",
       "    </tr>\n",
       "    <tr>\n",
       "      <th>HK</th>\n",
       "      <td>0.244094</td>\n",
       "      <td>0.755906</td>\n",
       "    </tr>\n",
       "    <tr>\n",
       "      <th>IE</th>\n",
       "      <td>0.532374</td>\n",
       "      <td>0.467626</td>\n",
       "    </tr>\n",
       "    <tr>\n",
       "      <th>IT</th>\n",
       "      <td>0.667256</td>\n",
       "      <td>0.332744</td>\n",
       "    </tr>\n",
       "    <tr>\n",
       "      <th>JP</th>\n",
       "      <td>0.379668</td>\n",
       "      <td>0.620332</td>\n",
       "    </tr>\n",
       "    <tr>\n",
       "      <th>LU</th>\n",
       "      <td>0.428571</td>\n",
       "      <td>0.571429</td>\n",
       "    </tr>\n",
       "    <tr>\n",
       "      <th>MX</th>\n",
       "      <td>0.586661</td>\n",
       "      <td>0.413339</td>\n",
       "    </tr>\n",
       "    <tr>\n",
       "      <th>NL</th>\n",
       "      <td>0.551944</td>\n",
       "      <td>0.448056</td>\n",
       "    </tr>\n",
       "    <tr>\n",
       "      <th>NO</th>\n",
       "      <td>0.521940</td>\n",
       "      <td>0.478060</td>\n",
       "    </tr>\n",
       "    <tr>\n",
       "      <th>NZ</th>\n",
       "      <td>0.463568</td>\n",
       "      <td>0.536432</td>\n",
       "    </tr>\n",
       "    <tr>\n",
       "      <th>PL</th>\n",
       "      <td>0.187500</td>\n",
       "      <td>0.812500</td>\n",
       "    </tr>\n",
       "    <tr>\n",
       "      <th>SE</th>\n",
       "      <td>0.467791</td>\n",
       "      <td>0.532209</td>\n",
       "    </tr>\n",
       "    <tr>\n",
       "      <th>SG</th>\n",
       "      <td>0.370640</td>\n",
       "      <td>0.629360</td>\n",
       "    </tr>\n",
       "    <tr>\n",
       "      <th>SI</th>\n",
       "      <td>0.000000</td>\n",
       "      <td>1.000000</td>\n",
       "    </tr>\n",
       "    <tr>\n",
       "      <th>US</th>\n",
       "      <td>0.405071</td>\n",
       "      <td>0.594929</td>\n",
       "    </tr>\n",
       "  </tbody>\n",
       "</table>\n",
       "</div>"
      ],
      "text/plain": [
       "status          0         1\n",
       "country                    \n",
       "AT       0.600000  0.400000\n",
       "AU       0.483663  0.516337\n",
       "BE       0.562842  0.437158\n",
       "CA       0.439765  0.560235\n",
       "CH       0.549451  0.450549\n",
       "DE       0.536169  0.463831\n",
       "DK       0.427329  0.572671\n",
       "ES       0.543816  0.456184\n",
       "FR       0.439464  0.560536\n",
       "GB       0.374759  0.625241\n",
       "GR       0.000000  1.000000\n",
       "HK       0.244094  0.755906\n",
       "IE       0.532374  0.467626\n",
       "IT       0.667256  0.332744\n",
       "JP       0.379668  0.620332\n",
       "LU       0.428571  0.571429\n",
       "MX       0.586661  0.413339\n",
       "NL       0.551944  0.448056\n",
       "NO       0.521940  0.478060\n",
       "NZ       0.463568  0.536432\n",
       "PL       0.187500  0.812500\n",
       "SE       0.467791  0.532209\n",
       "SG       0.370640  0.629360\n",
       "SI       0.000000  1.000000\n",
       "US       0.405071  0.594929"
      ]
     },
     "execution_count": 14,
     "metadata": {},
     "output_type": "execute_result"
    }
   ],
   "source": [
    "pd.crosstab(df.country,df.status,normalize='index')"
   ]
  },
  {
   "attachments": {},
   "cell_type": "markdown",
   "id": "4a5ca59c",
   "metadata": {},
   "source": [
    "### Variable Simplifications"
   ]
  },
  {
   "cell_type": "code",
   "execution_count": 15,
   "id": "940a00d1",
   "metadata": {},
   "outputs": [],
   "source": [
    "# Categorisation of the backers count\n",
    "if cat_backers_count==1:\n",
    "    df['backers_count'].replace(range(0,101),'0-100',inplace=True)\n",
    "    df['backers_count'].replace(range(101,1001),'101-1000',inplace=True)\n",
    "    df['backers_count'].replace(range(1001,10001),'1001-10000',inplace=True)\n",
    "    df['backers_count'].replace(range(10001,200000),'10000+',inplace=True)"
   ]
  },
  {
   "cell_type": "code",
   "execution_count": 16,
   "id": "1ec38293",
   "metadata": {},
   "outputs": [],
   "source": [
    "# Potential Simplification of variables\n",
    "if simp_country==1:\n",
    "    df['country'].replace(['GB','CA'],'GB,CA',inplace=True)\n",
    "    df['country'].replace(['DE','FR','IT','ES','NL','SE','DK','CH','IE','BE','AT','NO','LU','PL','GR','SI'],'Europe',inplace=True)\n",
    "    df['country'].replace(['HK','SG','JP'],'Asia',inplace=True)\n",
    "    df['country'].replace(['MX'],'South America and Mexico',inplace=True)\n",
    "    df['country'].replace(['AU','NZ'],'Australia and new Zealand',inplace=True)"
   ]
  },
  {
   "cell_type": "code",
   "execution_count": 17,
   "id": "f50f7601",
   "metadata": {},
   "outputs": [],
   "source": [
    "if simp_category==1:\n",
    "    df['main_category'].replace(['music','film & video','games','comics','dance'],'Entertainment',inplace=True)\n",
    "    df['main_category'].replace(['art','fashion','design','photography','theater'],'Culture',inplace=True)\n",
    "    df['main_category'].replace(['technology','publishing','food','crafts','journalism'],'Others',inplace=True)"
   ]
  },
  {
   "cell_type": "code",
   "execution_count": 18,
   "id": "0d2fd473",
   "metadata": {},
   "outputs": [],
   "source": [
    "if simp_currency==1:\n",
    "    df['currency'].replace(['AUD','MXN','SEK','HKD','NZD','DKK','SGD','CHF','JPY','NOK','PLN'],'Others',inplace=True)"
   ]
  },
  {
   "attachments": {},
   "cell_type": "markdown",
   "id": "57af1db3",
   "metadata": {},
   "source": [
    "### Split of the data"
   ]
  },
  {
   "cell_type": "code",
   "execution_count": 19,
   "id": "f034861c",
   "metadata": {
    "scrolled": true
   },
   "outputs": [],
   "source": [
    "# Target Variable\n",
    "df['status'].replace(['successful','failed'],[1,0],inplace=True)\n",
    "df_y=df['status']"
   ]
  },
  {
   "cell_type": "code",
   "execution_count": 20,
   "id": "f71c0031",
   "metadata": {
    "scrolled": true
   },
   "outputs": [],
   "source": [
    "from sklearn.model_selection import train_test_split\n",
    "X_train,X_test,y_train,y_test=train_test_split(df.drop(columns='status',axis=1),df_y,test_size=0.2,random_state=0)"
   ]
  },
  {
   "attachments": {},
   "cell_type": "markdown",
   "id": "0f31a633",
   "metadata": {},
   "source": [
    "### Preprocessing of the data"
   ]
  },
  {
   "cell_type": "code",
   "execution_count": 21,
   "id": "0232e206",
   "metadata": {
    "scrolled": true
   },
   "outputs": [],
   "source": [
    "# standardizing of the numerical variables\n",
    "from sklearn.preprocessing import StandardScaler\n",
    "sc=StandardScaler()\n",
    "# \n",
    "X_train_num=X_train[num_list]\n",
    "X_test_num=X_test[num_list]\n",
    "X_train_num[num_list]=sc.fit_transform(X_train[num_list])\n",
    "X_test_num[num_list]=sc.fit_transform(X_test[num_list])"
   ]
  },
  {
   "cell_type": "code",
   "execution_count": 22,
   "id": "c5edcc12",
   "metadata": {
    "scrolled": true
   },
   "outputs": [],
   "source": [
    "# OneHotEncoding of the categorical variable of X_train\n",
    "from sklearn.preprocessing import OneHotEncoder\n",
    "ohe=OneHotEncoder(sparse=False)\n",
    "ohe_train=ohe.fit_transform(X_train[cat_list])\n",
    "column_name=ohe.get_feature_names_out(cat_list)\n",
    "X_train_ohe=pd.DataFrame(ohe_train,columns=column_name,index=X_train.index)"
   ]
  },
  {
   "cell_type": "code",
   "execution_count": 23,
   "id": "253942ca",
   "metadata": {
    "scrolled": true
   },
   "outputs": [],
   "source": [
    "# OHE X_test variable\n",
    "ohe2=OneHotEncoder(sparse=False)\n",
    "ohe_test=ohe2.fit_transform(X_test[cat_list])\n",
    "column_name2=ohe2.get_feature_names_out(cat_list)\n",
    "X_test_ohe=pd.DataFrame(ohe_test,columns=column_name2,index=X_test.index)"
   ]
  },
  {
   "cell_type": "code",
   "execution_count": 24,
   "id": "511ce896",
   "metadata": {
    "scrolled": false
   },
   "outputs": [
    {
     "data": {
      "text/html": [
       "<div>\n",
       "<style scoped>\n",
       "    .dataframe tbody tr th:only-of-type {\n",
       "        vertical-align: middle;\n",
       "    }\n",
       "\n",
       "    .dataframe tbody tr th {\n",
       "        vertical-align: top;\n",
       "    }\n",
       "\n",
       "    .dataframe thead th {\n",
       "        text-align: right;\n",
       "    }\n",
       "</style>\n",
       "<table border=\"1\" class=\"dataframe\">\n",
       "  <thead>\n",
       "    <tr style=\"text-align: right;\">\n",
       "      <th></th>\n",
       "      <th>goal_usd</th>\n",
       "      <th>country_Asia</th>\n",
       "      <th>country_Australia and new Zealand</th>\n",
       "      <th>country_Europe</th>\n",
       "      <th>country_GB,CA</th>\n",
       "      <th>country_South America and Mexico</th>\n",
       "      <th>country_US</th>\n",
       "      <th>currency_CAD</th>\n",
       "      <th>currency_EUR</th>\n",
       "      <th>currency_GBP</th>\n",
       "      <th>currency_Others</th>\n",
       "      <th>currency_USD</th>\n",
       "      <th>main_category_Culture</th>\n",
       "      <th>main_category_Entertainment</th>\n",
       "      <th>main_category_Others</th>\n",
       "      <th>creator_projects_1</th>\n",
       "      <th>creator_projects_16-30</th>\n",
       "      <th>creator_projects_2-5</th>\n",
       "      <th>creator_projects_31+</th>\n",
       "      <th>creator_projects_6-15</th>\n",
       "    </tr>\n",
       "    <tr>\n",
       "      <th>id</th>\n",
       "      <th></th>\n",
       "      <th></th>\n",
       "      <th></th>\n",
       "      <th></th>\n",
       "      <th></th>\n",
       "      <th></th>\n",
       "      <th></th>\n",
       "      <th></th>\n",
       "      <th></th>\n",
       "      <th></th>\n",
       "      <th></th>\n",
       "      <th></th>\n",
       "      <th></th>\n",
       "      <th></th>\n",
       "      <th></th>\n",
       "      <th></th>\n",
       "      <th></th>\n",
       "      <th></th>\n",
       "      <th></th>\n",
       "      <th></th>\n",
       "    </tr>\n",
       "  </thead>\n",
       "  <tbody>\n",
       "    <tr>\n",
       "      <th>1145791306</th>\n",
       "      <td>-0.017587</td>\n",
       "      <td>0.0</td>\n",
       "      <td>0.0</td>\n",
       "      <td>0.0</td>\n",
       "      <td>0.0</td>\n",
       "      <td>0.0</td>\n",
       "      <td>1.0</td>\n",
       "      <td>0.0</td>\n",
       "      <td>0.0</td>\n",
       "      <td>0.0</td>\n",
       "      <td>0.0</td>\n",
       "      <td>1.0</td>\n",
       "      <td>0.0</td>\n",
       "      <td>1.0</td>\n",
       "      <td>0.0</td>\n",
       "      <td>1.0</td>\n",
       "      <td>0.0</td>\n",
       "      <td>0.0</td>\n",
       "      <td>0.0</td>\n",
       "      <td>0.0</td>\n",
       "    </tr>\n",
       "    <tr>\n",
       "      <th>2015661976</th>\n",
       "      <td>-0.030481</td>\n",
       "      <td>0.0</td>\n",
       "      <td>0.0</td>\n",
       "      <td>0.0</td>\n",
       "      <td>0.0</td>\n",
       "      <td>0.0</td>\n",
       "      <td>1.0</td>\n",
       "      <td>0.0</td>\n",
       "      <td>0.0</td>\n",
       "      <td>0.0</td>\n",
       "      <td>0.0</td>\n",
       "      <td>1.0</td>\n",
       "      <td>0.0</td>\n",
       "      <td>1.0</td>\n",
       "      <td>0.0</td>\n",
       "      <td>0.0</td>\n",
       "      <td>1.0</td>\n",
       "      <td>0.0</td>\n",
       "      <td>0.0</td>\n",
       "      <td>0.0</td>\n",
       "    </tr>\n",
       "    <tr>\n",
       "      <th>1806299970</th>\n",
       "      <td>-0.034489</td>\n",
       "      <td>0.0</td>\n",
       "      <td>0.0</td>\n",
       "      <td>0.0</td>\n",
       "      <td>1.0</td>\n",
       "      <td>0.0</td>\n",
       "      <td>0.0</td>\n",
       "      <td>0.0</td>\n",
       "      <td>0.0</td>\n",
       "      <td>1.0</td>\n",
       "      <td>0.0</td>\n",
       "      <td>0.0</td>\n",
       "      <td>0.0</td>\n",
       "      <td>1.0</td>\n",
       "      <td>0.0</td>\n",
       "      <td>1.0</td>\n",
       "      <td>0.0</td>\n",
       "      <td>0.0</td>\n",
       "      <td>0.0</td>\n",
       "      <td>0.0</td>\n",
       "    </tr>\n",
       "    <tr>\n",
       "      <th>1123073636</th>\n",
       "      <td>-0.031519</td>\n",
       "      <td>0.0</td>\n",
       "      <td>1.0</td>\n",
       "      <td>0.0</td>\n",
       "      <td>0.0</td>\n",
       "      <td>0.0</td>\n",
       "      <td>0.0</td>\n",
       "      <td>0.0</td>\n",
       "      <td>0.0</td>\n",
       "      <td>0.0</td>\n",
       "      <td>1.0</td>\n",
       "      <td>0.0</td>\n",
       "      <td>0.0</td>\n",
       "      <td>0.0</td>\n",
       "      <td>1.0</td>\n",
       "      <td>1.0</td>\n",
       "      <td>0.0</td>\n",
       "      <td>0.0</td>\n",
       "      <td>0.0</td>\n",
       "      <td>0.0</td>\n",
       "    </tr>\n",
       "    <tr>\n",
       "      <th>55509224</th>\n",
       "      <td>-0.034350</td>\n",
       "      <td>0.0</td>\n",
       "      <td>0.0</td>\n",
       "      <td>0.0</td>\n",
       "      <td>0.0</td>\n",
       "      <td>0.0</td>\n",
       "      <td>1.0</td>\n",
       "      <td>0.0</td>\n",
       "      <td>0.0</td>\n",
       "      <td>0.0</td>\n",
       "      <td>0.0</td>\n",
       "      <td>1.0</td>\n",
       "      <td>0.0</td>\n",
       "      <td>1.0</td>\n",
       "      <td>0.0</td>\n",
       "      <td>1.0</td>\n",
       "      <td>0.0</td>\n",
       "      <td>0.0</td>\n",
       "      <td>0.0</td>\n",
       "      <td>0.0</td>\n",
       "    </tr>\n",
       "    <tr>\n",
       "      <th>...</th>\n",
       "      <td>...</td>\n",
       "      <td>...</td>\n",
       "      <td>...</td>\n",
       "      <td>...</td>\n",
       "      <td>...</td>\n",
       "      <td>...</td>\n",
       "      <td>...</td>\n",
       "      <td>...</td>\n",
       "      <td>...</td>\n",
       "      <td>...</td>\n",
       "      <td>...</td>\n",
       "      <td>...</td>\n",
       "      <td>...</td>\n",
       "      <td>...</td>\n",
       "      <td>...</td>\n",
       "      <td>...</td>\n",
       "      <td>...</td>\n",
       "      <td>...</td>\n",
       "      <td>...</td>\n",
       "      <td>...</td>\n",
       "    </tr>\n",
       "    <tr>\n",
       "      <th>1964151269</th>\n",
       "      <td>-0.033475</td>\n",
       "      <td>0.0</td>\n",
       "      <td>1.0</td>\n",
       "      <td>0.0</td>\n",
       "      <td>0.0</td>\n",
       "      <td>0.0</td>\n",
       "      <td>0.0</td>\n",
       "      <td>0.0</td>\n",
       "      <td>0.0</td>\n",
       "      <td>0.0</td>\n",
       "      <td>1.0</td>\n",
       "      <td>0.0</td>\n",
       "      <td>0.0</td>\n",
       "      <td>0.0</td>\n",
       "      <td>1.0</td>\n",
       "      <td>1.0</td>\n",
       "      <td>0.0</td>\n",
       "      <td>0.0</td>\n",
       "      <td>0.0</td>\n",
       "      <td>0.0</td>\n",
       "    </tr>\n",
       "    <tr>\n",
       "      <th>2005028253</th>\n",
       "      <td>-0.033490</td>\n",
       "      <td>0.0</td>\n",
       "      <td>0.0</td>\n",
       "      <td>0.0</td>\n",
       "      <td>0.0</td>\n",
       "      <td>0.0</td>\n",
       "      <td>1.0</td>\n",
       "      <td>0.0</td>\n",
       "      <td>0.0</td>\n",
       "      <td>0.0</td>\n",
       "      <td>0.0</td>\n",
       "      <td>1.0</td>\n",
       "      <td>0.0</td>\n",
       "      <td>1.0</td>\n",
       "      <td>0.0</td>\n",
       "      <td>1.0</td>\n",
       "      <td>0.0</td>\n",
       "      <td>0.0</td>\n",
       "      <td>0.0</td>\n",
       "      <td>0.0</td>\n",
       "    </tr>\n",
       "    <tr>\n",
       "      <th>958979340</th>\n",
       "      <td>-0.033270</td>\n",
       "      <td>0.0</td>\n",
       "      <td>0.0</td>\n",
       "      <td>0.0</td>\n",
       "      <td>0.0</td>\n",
       "      <td>1.0</td>\n",
       "      <td>0.0</td>\n",
       "      <td>0.0</td>\n",
       "      <td>0.0</td>\n",
       "      <td>0.0</td>\n",
       "      <td>1.0</td>\n",
       "      <td>0.0</td>\n",
       "      <td>1.0</td>\n",
       "      <td>0.0</td>\n",
       "      <td>0.0</td>\n",
       "      <td>1.0</td>\n",
       "      <td>0.0</td>\n",
       "      <td>0.0</td>\n",
       "      <td>0.0</td>\n",
       "      <td>0.0</td>\n",
       "    </tr>\n",
       "    <tr>\n",
       "      <th>1003625879</th>\n",
       "      <td>-0.030481</td>\n",
       "      <td>0.0</td>\n",
       "      <td>0.0</td>\n",
       "      <td>0.0</td>\n",
       "      <td>0.0</td>\n",
       "      <td>0.0</td>\n",
       "      <td>1.0</td>\n",
       "      <td>0.0</td>\n",
       "      <td>0.0</td>\n",
       "      <td>0.0</td>\n",
       "      <td>0.0</td>\n",
       "      <td>1.0</td>\n",
       "      <td>1.0</td>\n",
       "      <td>0.0</td>\n",
       "      <td>0.0</td>\n",
       "      <td>1.0</td>\n",
       "      <td>0.0</td>\n",
       "      <td>0.0</td>\n",
       "      <td>0.0</td>\n",
       "      <td>0.0</td>\n",
       "    </tr>\n",
       "    <tr>\n",
       "      <th>1315599664</th>\n",
       "      <td>-0.034697</td>\n",
       "      <td>0.0</td>\n",
       "      <td>0.0</td>\n",
       "      <td>1.0</td>\n",
       "      <td>0.0</td>\n",
       "      <td>0.0</td>\n",
       "      <td>0.0</td>\n",
       "      <td>0.0</td>\n",
       "      <td>1.0</td>\n",
       "      <td>0.0</td>\n",
       "      <td>0.0</td>\n",
       "      <td>0.0</td>\n",
       "      <td>0.0</td>\n",
       "      <td>0.0</td>\n",
       "      <td>1.0</td>\n",
       "      <td>0.0</td>\n",
       "      <td>0.0</td>\n",
       "      <td>0.0</td>\n",
       "      <td>0.0</td>\n",
       "      <td>1.0</td>\n",
       "    </tr>\n",
       "  </tbody>\n",
       "</table>\n",
       "<p>144541 rows × 20 columns</p>\n",
       "</div>"
      ],
      "text/plain": [
       "            goal_usd  country_Asia  country_Australia and new Zealand  \\\n",
       "id                                                                      \n",
       "1145791306 -0.017587           0.0                                0.0   \n",
       "2015661976 -0.030481           0.0                                0.0   \n",
       "1806299970 -0.034489           0.0                                0.0   \n",
       "1123073636 -0.031519           0.0                                1.0   \n",
       "55509224   -0.034350           0.0                                0.0   \n",
       "...              ...           ...                                ...   \n",
       "1964151269 -0.033475           0.0                                1.0   \n",
       "2005028253 -0.033490           0.0                                0.0   \n",
       "958979340  -0.033270           0.0                                0.0   \n",
       "1003625879 -0.030481           0.0                                0.0   \n",
       "1315599664 -0.034697           0.0                                0.0   \n",
       "\n",
       "            country_Europe  country_GB,CA  country_South America and Mexico  \\\n",
       "id                                                                            \n",
       "1145791306             0.0            0.0                               0.0   \n",
       "2015661976             0.0            0.0                               0.0   \n",
       "1806299970             0.0            1.0                               0.0   \n",
       "1123073636             0.0            0.0                               0.0   \n",
       "55509224               0.0            0.0                               0.0   \n",
       "...                    ...            ...                               ...   \n",
       "1964151269             0.0            0.0                               0.0   \n",
       "2005028253             0.0            0.0                               0.0   \n",
       "958979340              0.0            0.0                               1.0   \n",
       "1003625879             0.0            0.0                               0.0   \n",
       "1315599664             1.0            0.0                               0.0   \n",
       "\n",
       "            country_US  currency_CAD  currency_EUR  currency_GBP  \\\n",
       "id                                                                 \n",
       "1145791306         1.0           0.0           0.0           0.0   \n",
       "2015661976         1.0           0.0           0.0           0.0   \n",
       "1806299970         0.0           0.0           0.0           1.0   \n",
       "1123073636         0.0           0.0           0.0           0.0   \n",
       "55509224           1.0           0.0           0.0           0.0   \n",
       "...                ...           ...           ...           ...   \n",
       "1964151269         0.0           0.0           0.0           0.0   \n",
       "2005028253         1.0           0.0           0.0           0.0   \n",
       "958979340          0.0           0.0           0.0           0.0   \n",
       "1003625879         1.0           0.0           0.0           0.0   \n",
       "1315599664         0.0           0.0           1.0           0.0   \n",
       "\n",
       "            currency_Others  currency_USD  main_category_Culture  \\\n",
       "id                                                                 \n",
       "1145791306              0.0           1.0                    0.0   \n",
       "2015661976              0.0           1.0                    0.0   \n",
       "1806299970              0.0           0.0                    0.0   \n",
       "1123073636              1.0           0.0                    0.0   \n",
       "55509224                0.0           1.0                    0.0   \n",
       "...                     ...           ...                    ...   \n",
       "1964151269              1.0           0.0                    0.0   \n",
       "2005028253              0.0           1.0                    0.0   \n",
       "958979340               1.0           0.0                    1.0   \n",
       "1003625879              0.0           1.0                    1.0   \n",
       "1315599664              0.0           0.0                    0.0   \n",
       "\n",
       "            main_category_Entertainment  main_category_Others  \\\n",
       "id                                                              \n",
       "1145791306                          1.0                   0.0   \n",
       "2015661976                          1.0                   0.0   \n",
       "1806299970                          1.0                   0.0   \n",
       "1123073636                          0.0                   1.0   \n",
       "55509224                            1.0                   0.0   \n",
       "...                                 ...                   ...   \n",
       "1964151269                          0.0                   1.0   \n",
       "2005028253                          1.0                   0.0   \n",
       "958979340                           0.0                   0.0   \n",
       "1003625879                          0.0                   0.0   \n",
       "1315599664                          0.0                   1.0   \n",
       "\n",
       "            creator_projects_1  creator_projects_16-30  creator_projects_2-5  \\\n",
       "id                                                                             \n",
       "1145791306                 1.0                     0.0                   0.0   \n",
       "2015661976                 0.0                     1.0                   0.0   \n",
       "1806299970                 1.0                     0.0                   0.0   \n",
       "1123073636                 1.0                     0.0                   0.0   \n",
       "55509224                   1.0                     0.0                   0.0   \n",
       "...                        ...                     ...                   ...   \n",
       "1964151269                 1.0                     0.0                   0.0   \n",
       "2005028253                 1.0                     0.0                   0.0   \n",
       "958979340                  1.0                     0.0                   0.0   \n",
       "1003625879                 1.0                     0.0                   0.0   \n",
       "1315599664                 0.0                     0.0                   0.0   \n",
       "\n",
       "            creator_projects_31+  creator_projects_6-15  \n",
       "id                                                       \n",
       "1145791306                   0.0                    0.0  \n",
       "2015661976                   0.0                    0.0  \n",
       "1806299970                   0.0                    0.0  \n",
       "1123073636                   0.0                    0.0  \n",
       "55509224                     0.0                    0.0  \n",
       "...                          ...                    ...  \n",
       "1964151269                   0.0                    0.0  \n",
       "2005028253                   0.0                    0.0  \n",
       "958979340                    0.0                    0.0  \n",
       "1003625879                   0.0                    0.0  \n",
       "1315599664                   0.0                    1.0  \n",
       "\n",
       "[144541 rows x 20 columns]"
      ]
     },
     "execution_count": 24,
     "metadata": {},
     "output_type": "execute_result"
    }
   ],
   "source": [
    "X_train_merge_org=pd.concat([X_train_num,X_train_ohe],axis=1)\n",
    "X_test_merge=pd.concat([X_test_num,X_test_ohe],axis=1)\n",
    "X_train_merge_org"
   ]
  },
  {
   "attachments": {},
   "cell_type": "markdown",
   "id": "617c7322",
   "metadata": {},
   "source": [
    "#### Resampling and Analysisvariable"
   ]
  },
  {
   "cell_type": "code",
   "execution_count": 25,
   "id": "d0c7b169",
   "metadata": {},
   "outputs": [],
   "source": [
    "if over_estimation==1:\n",
    "    from imblearn.over_sampling import RandomOverSampler \n",
    "    rOs=RandomOverSampler()\n",
    "    X_over,y_over=rOs.fit_resample(X_train_merge_org,y_train)\n",
    "    X_train_merge=X_over\n",
    "    y_train=y_over\n",
    "else:\n",
    "    X_train_merge=X_train_merge_org"
   ]
  },
  {
   "cell_type": "code",
   "execution_count": 26,
   "id": "d79c9bf7",
   "metadata": {},
   "outputs": [],
   "source": [
    "if under_estimation==1:\n",
    "    from imblearn.under_sampling import RandomUnderSampler\n",
    "    rUs=RandomUnderSampler()\n",
    "    X_under,y_under=rUs.fit_resample(X_train_merge_org,y_train)\n",
    "    X_train_merge=X_under\n",
    "    y_train=y_under"
   ]
  },
  {
   "cell_type": "code",
   "execution_count": 27,
   "id": "696920f3",
   "metadata": {},
   "outputs": [
    {
     "data": {
      "text/plain": [
       "144541"
      ]
     },
     "execution_count": 27,
     "metadata": {},
     "output_type": "execute_result"
    }
   ],
   "source": [
    "len(X_train_merge)"
   ]
  },
  {
   "attachments": {},
   "cell_type": "markdown",
   "id": "545161d8",
   "metadata": {},
   "source": [
    "### Modeling of the data"
   ]
  },
  {
   "cell_type": "code",
   "execution_count": 28,
   "id": "16389a66",
   "metadata": {},
   "outputs": [],
   "source": [
    "# Maschine learning\n",
    "from sklearn.tree import DecisionTreeClassifier\n",
    "from sklearn.ensemble import RandomForestClassifier\n",
    "from sklearn.linear_model import LogisticRegression\n",
    "from sklearn import neighbors"
   ]
  },
  {
   "cell_type": "code",
   "execution_count": 29,
   "id": "d56569f6",
   "metadata": {},
   "outputs": [],
   "source": [
    "# Potential one hot encoder problem\n",
    "# Some values are unique which cuases a mismatch in columns\n",
    "for item in X_train_merge.columns:\n",
    "    if item not in X_test_merge.columns:\n",
    "        print('Error',item)\n",
    "        X_test_merge[item]=0"
   ]
  },
  {
   "cell_type": "code",
   "execution_count": 30,
   "id": "1beb0ab4",
   "metadata": {},
   "outputs": [],
   "source": [
    "# Potential one hot encoder problem\n",
    "for item in X_test_merge.columns:\n",
    "    if item not in X_train_merge.columns:\n",
    "        print('Error',item)\n",
    "        X_train_merge[item]=0"
   ]
  },
  {
   "cell_type": "code",
   "execution_count": 31,
   "id": "1bf9b88d",
   "metadata": {
    "scrolled": true
   },
   "outputs": [
    {
     "name": "stdout",
     "output_type": "stream",
     "text": [
      "Decision Tree accuracy: 0.6411058224485278\n"
     ]
    }
   ],
   "source": [
    "# Classification tree\n",
    "tree=DecisionTreeClassifier()\n",
    "tree.fit(X_train_merge,y_train)\n",
    "tree_pred=tree.predict(X_test_merge)\n",
    "print('Decision Tree accuracy:',tree.score(X_test_merge,y_test))"
   ]
  },
  {
   "cell_type": "code",
   "execution_count": 32,
   "id": "6f322978",
   "metadata": {
    "scrolled": true
   },
   "outputs": [
    {
     "name": "stdout",
     "output_type": "stream",
     "text": [
      "Random Forest accuracy: 0.6370932034536196\n"
     ]
    }
   ],
   "source": [
    "# Random Forest\n",
    "rfc=RandomForestClassifier()\n",
    "rfc.fit(X_train_merge,y_train)\n",
    "rfc_pred=rfc.predict(X_test_merge)\n",
    "print('Random Forest accuracy:',rfc.score(X_test_merge,y_test))"
   ]
  },
  {
   "cell_type": "code",
   "execution_count": 33,
   "id": "29f143f9",
   "metadata": {
    "scrolled": true
   },
   "outputs": [
    {
     "name": "stdout",
     "output_type": "stream",
     "text": [
      "Logistical Regression accuracy: 0.6597575824662386\n"
     ]
    }
   ],
   "source": [
    "# Logistical Regression\n",
    "log=LogisticRegression()\n",
    "log.fit(X_train_merge,y_train)\n",
    "log_pred=log.predict(X_test_merge)\n",
    "print('Logistical Regression accuracy:',log.score(X_test_merge,y_test))"
   ]
  },
  {
   "cell_type": "code",
   "execution_count": 34,
   "id": "932335f2",
   "metadata": {
    "scrolled": false
   },
   "outputs": [
    {
     "name": "stdout",
     "output_type": "stream",
     "text": [
      "Decision Tree\n"
     ]
    },
    {
     "data": {
      "text/html": [
       "<div>\n",
       "<style scoped>\n",
       "    .dataframe tbody tr th:only-of-type {\n",
       "        vertical-align: middle;\n",
       "    }\n",
       "\n",
       "    .dataframe tbody tr th {\n",
       "        vertical-align: top;\n",
       "    }\n",
       "\n",
       "    .dataframe thead th {\n",
       "        text-align: right;\n",
       "    }\n",
       "</style>\n",
       "<table border=\"1\" class=\"dataframe\">\n",
       "  <thead>\n",
       "    <tr style=\"text-align: right;\">\n",
       "      <th>Prediction</th>\n",
       "      <th>0</th>\n",
       "      <th>1</th>\n",
       "    </tr>\n",
       "    <tr>\n",
       "      <th>True</th>\n",
       "      <th></th>\n",
       "      <th></th>\n",
       "    </tr>\n",
       "  </thead>\n",
       "  <tbody>\n",
       "    <tr>\n",
       "      <th>0</th>\n",
       "      <td>0.132499</td>\n",
       "      <td>0.280247</td>\n",
       "    </tr>\n",
       "    <tr>\n",
       "      <th>1</th>\n",
       "      <td>0.078647</td>\n",
       "      <td>0.508606</td>\n",
       "    </tr>\n",
       "  </tbody>\n",
       "</table>\n",
       "</div>"
      ],
      "text/plain": [
       "Prediction         0         1\n",
       "True                          \n",
       "0           0.132499  0.280247\n",
       "1           0.078647  0.508606"
      ]
     },
     "metadata": {},
     "output_type": "display_data"
    },
    {
     "name": "stdout",
     "output_type": "stream",
     "text": [
      "Random Forest\n"
     ]
    },
    {
     "data": {
      "text/html": [
       "<div>\n",
       "<style scoped>\n",
       "    .dataframe tbody tr th:only-of-type {\n",
       "        vertical-align: middle;\n",
       "    }\n",
       "\n",
       "    .dataframe tbody tr th {\n",
       "        vertical-align: top;\n",
       "    }\n",
       "\n",
       "    .dataframe thead th {\n",
       "        text-align: right;\n",
       "    }\n",
       "</style>\n",
       "<table border=\"1\" class=\"dataframe\">\n",
       "  <thead>\n",
       "    <tr style=\"text-align: right;\">\n",
       "      <th>Prediction</th>\n",
       "      <th>0</th>\n",
       "      <th>1</th>\n",
       "    </tr>\n",
       "    <tr>\n",
       "      <th>True</th>\n",
       "      <th></th>\n",
       "      <th></th>\n",
       "    </tr>\n",
       "  </thead>\n",
       "  <tbody>\n",
       "    <tr>\n",
       "      <th>0</th>\n",
       "      <td>0.120683</td>\n",
       "      <td>0.292063</td>\n",
       "    </tr>\n",
       "    <tr>\n",
       "      <th>1</th>\n",
       "      <td>0.070843</td>\n",
       "      <td>0.516410</td>\n",
       "    </tr>\n",
       "  </tbody>\n",
       "</table>\n",
       "</div>"
      ],
      "text/plain": [
       "Prediction         0         1\n",
       "True                          \n",
       "0           0.120683  0.292063\n",
       "1           0.070843  0.516410"
      ]
     },
     "metadata": {},
     "output_type": "display_data"
    },
    {
     "name": "stdout",
     "output_type": "stream",
     "text": [
      "Logistical Regression\n"
     ]
    },
    {
     "data": {
      "text/html": [
       "<div>\n",
       "<style scoped>\n",
       "    .dataframe tbody tr th:only-of-type {\n",
       "        vertical-align: middle;\n",
       "    }\n",
       "\n",
       "    .dataframe tbody tr th {\n",
       "        vertical-align: top;\n",
       "    }\n",
       "\n",
       "    .dataframe thead th {\n",
       "        text-align: right;\n",
       "    }\n",
       "</style>\n",
       "<table border=\"1\" class=\"dataframe\">\n",
       "  <thead>\n",
       "    <tr style=\"text-align: right;\">\n",
       "      <th>Prediction</th>\n",
       "      <th>0</th>\n",
       "      <th>1</th>\n",
       "    </tr>\n",
       "    <tr>\n",
       "      <th>True</th>\n",
       "      <th></th>\n",
       "      <th></th>\n",
       "    </tr>\n",
       "  </thead>\n",
       "  <tbody>\n",
       "    <tr>\n",
       "      <th>0</th>\n",
       "      <td>0.158374</td>\n",
       "      <td>0.254372</td>\n",
       "    </tr>\n",
       "    <tr>\n",
       "      <th>1</th>\n",
       "      <td>0.085870</td>\n",
       "      <td>0.501384</td>\n",
       "    </tr>\n",
       "  </tbody>\n",
       "</table>\n",
       "</div>"
      ],
      "text/plain": [
       "Prediction         0         1\n",
       "True                          \n",
       "0           0.158374  0.254372\n",
       "1           0.085870  0.501384"
      ]
     },
     "metadata": {},
     "output_type": "display_data"
    }
   ],
   "source": [
    "# Crosstab\n",
    "print('Decision Tree')\n",
    "display(pd.crosstab(y_test,tree_pred,normalize=True, rownames=['True'], colnames=['Prediction']))\n",
    "print('Random Forest')\n",
    "display(pd.crosstab(y_test,rfc_pred,normalize=True, rownames=['True'], colnames=['Prediction']))\n",
    "print('Logistical Regression')\n",
    "display(pd.crosstab(y_test,log_pred,normalize=True, rownames=['True'], colnames=['Prediction']))"
   ]
  },
  {
   "cell_type": "code",
   "execution_count": 35,
   "id": "c1213057",
   "metadata": {
    "scrolled": false
   },
   "outputs": [
    {
     "name": "stdout",
     "output_type": "stream",
     "text": [
      "Decision Tree \n",
      "               precision    recall  f1-score   support\n",
      "\n",
      "           0       0.63      0.32      0.42     14915\n",
      "           1       0.64      0.87      0.74     21221\n",
      "\n",
      "    accuracy                           0.64     36136\n",
      "   macro avg       0.64      0.59      0.58     36136\n",
      "weighted avg       0.64      0.64      0.61     36136\n",
      "\n",
      "Random Forest \n",
      "               precision    recall  f1-score   support\n",
      "\n",
      "           0       0.63      0.29      0.40     14915\n",
      "           1       0.64      0.88      0.74     21221\n",
      "\n",
      "    accuracy                           0.64     36136\n",
      "   macro avg       0.63      0.59      0.57     36136\n",
      "weighted avg       0.64      0.64      0.60     36136\n",
      "\n",
      "Logistical Regression \n",
      "               precision    recall  f1-score   support\n",
      "\n",
      "           0       0.65      0.38      0.48     14915\n",
      "           1       0.66      0.85      0.75     21221\n",
      "\n",
      "    accuracy                           0.66     36136\n",
      "   macro avg       0.66      0.62      0.61     36136\n",
      "weighted avg       0.66      0.66      0.64     36136\n",
      "\n"
     ]
    }
   ],
   "source": [
    "# Classification Report\n",
    "from sklearn.metrics import classification_report\n",
    "print('Decision Tree \\n',classification_report(y_test,tree_pred))\n",
    "print('Random Forest \\n',classification_report(y_test,rfc_pred))\n",
    "print('Logistical Regression \\n',classification_report(y_test,log_pred))"
   ]
  },
  {
   "cell_type": "code",
   "execution_count": 36,
   "id": "b7bbd3e5",
   "metadata": {},
   "outputs": [
    {
     "data": {
      "text/plain": [
       "1    0.58169\n",
       "0    0.41831\n",
       "Name: status, dtype: float64"
      ]
     },
     "execution_count": 36,
     "metadata": {},
     "output_type": "execute_result"
    }
   ],
   "source": [
    "df_y.value_counts(normalize=True)"
   ]
  },
  {
   "cell_type": "code",
   "execution_count": 37,
   "id": "0c19437a",
   "metadata": {
    "scrolled": true
   },
   "outputs": [],
   "source": [
    "# Buildung the Coefficient DataFrame\n",
    "log_importance=pd.DataFrame({'Variables':X_train_merge.columns,'Coefficient':log.coef_[0]})\n",
    "log_importance_negatives=log_importance.sort_values('Coefficient',ascending=True)\n",
    "log_importance_positives=log_importance.sort_values('Coefficient',ascending=False)"
   ]
  },
  {
   "cell_type": "code",
   "execution_count": 38,
   "id": "d9291225",
   "metadata": {
    "scrolled": true
   },
   "outputs": [
    {
     "data": {
      "text/html": [
       "<div>\n",
       "<style scoped>\n",
       "    .dataframe tbody tr th:only-of-type {\n",
       "        vertical-align: middle;\n",
       "    }\n",
       "\n",
       "    .dataframe tbody tr th {\n",
       "        vertical-align: top;\n",
       "    }\n",
       "\n",
       "    .dataframe thead th {\n",
       "        text-align: right;\n",
       "    }\n",
       "</style>\n",
       "<table border=\"1\" class=\"dataframe\">\n",
       "  <thead>\n",
       "    <tr style=\"text-align: right;\">\n",
       "      <th></th>\n",
       "      <th>Variables</th>\n",
       "      <th>Coefficient</th>\n",
       "    </tr>\n",
       "  </thead>\n",
       "  <tbody>\n",
       "    <tr>\n",
       "      <th>0</th>\n",
       "      <td>goal_usd</td>\n",
       "      <td>-16.331057</td>\n",
       "    </tr>\n",
       "    <tr>\n",
       "      <th>15</th>\n",
       "      <td>creator_projects_1</td>\n",
       "      <td>-1.716606</td>\n",
       "    </tr>\n",
       "    <tr>\n",
       "      <th>17</th>\n",
       "      <td>creator_projects_2-5</td>\n",
       "      <td>-0.823954</td>\n",
       "    </tr>\n",
       "    <tr>\n",
       "      <th>5</th>\n",
       "      <td>country_South America and Mexico</td>\n",
       "      <td>-0.532928</td>\n",
       "    </tr>\n",
       "    <tr>\n",
       "      <th>14</th>\n",
       "      <td>main_category_Others</td>\n",
       "      <td>-0.162137</td>\n",
       "    </tr>\n",
       "  </tbody>\n",
       "</table>\n",
       "</div>"
      ],
      "text/plain": [
       "                           Variables  Coefficient\n",
       "0                           goal_usd   -16.331057\n",
       "15                creator_projects_1    -1.716606\n",
       "17              creator_projects_2-5    -0.823954\n",
       "5   country_South America and Mexico    -0.532928\n",
       "14              main_category_Others    -0.162137"
      ]
     },
     "metadata": {},
     "output_type": "display_data"
    },
    {
     "data": {
      "text/html": [
       "<div>\n",
       "<style scoped>\n",
       "    .dataframe tbody tr th:only-of-type {\n",
       "        vertical-align: middle;\n",
       "    }\n",
       "\n",
       "    .dataframe tbody tr th {\n",
       "        vertical-align: top;\n",
       "    }\n",
       "\n",
       "    .dataframe thead th {\n",
       "        text-align: right;\n",
       "    }\n",
       "</style>\n",
       "<table border=\"1\" class=\"dataframe\">\n",
       "  <thead>\n",
       "    <tr style=\"text-align: right;\">\n",
       "      <th></th>\n",
       "      <th>Variables</th>\n",
       "      <th>Coefficient</th>\n",
       "    </tr>\n",
       "  </thead>\n",
       "  <tbody>\n",
       "    <tr>\n",
       "      <th>16</th>\n",
       "      <td>creator_projects_16-30</td>\n",
       "      <td>1.614308</td>\n",
       "    </tr>\n",
       "    <tr>\n",
       "      <th>18</th>\n",
       "      <td>creator_projects_31+</td>\n",
       "      <td>1.170958</td>\n",
       "    </tr>\n",
       "    <tr>\n",
       "      <th>1</th>\n",
       "      <td>country_Asia</td>\n",
       "      <td>0.775024</td>\n",
       "    </tr>\n",
       "    <tr>\n",
       "      <th>13</th>\n",
       "      <td>main_category_Entertainment</td>\n",
       "      <td>0.651088</td>\n",
       "    </tr>\n",
       "    <tr>\n",
       "      <th>19</th>\n",
       "      <td>creator_projects_6-15</td>\n",
       "      <td>0.429060</td>\n",
       "    </tr>\n",
       "  </tbody>\n",
       "</table>\n",
       "</div>"
      ],
      "text/plain": [
       "                      Variables  Coefficient\n",
       "16       creator_projects_16-30     1.614308\n",
       "18         creator_projects_31+     1.170958\n",
       "1                  country_Asia     0.775024\n",
       "13  main_category_Entertainment     0.651088\n",
       "19        creator_projects_6-15     0.429060"
      ]
     },
     "metadata": {},
     "output_type": "display_data"
    }
   ],
   "source": [
    "display(log_importance_negatives.head())\n",
    "display(log_importance_positives.head())"
   ]
  },
  {
   "cell_type": "code",
   "execution_count": 39,
   "id": "3424e0a3",
   "metadata": {
    "scrolled": false
   },
   "outputs": [
    {
     "data": {
      "image/png": "[encoded data removed]",
      "text/plain": [
       "<Figure size 700x700 with 1 Axes>"
      ]
     },
     "metadata": {},
     "output_type": "display_data"
    },
    {
     "data": {
      "image/png": "[encoded data removed]",
      "text/plain": [
       "<Figure size 700x700 with 1 Axes>"
      ]
     },
     "metadata": {},
     "output_type": "display_data"
    }
   ],
   "source": [
    "# Plotting the Coefficeint DataFrame\n",
    "plt.figure(figsize=[7,7])\n",
    "plt.plot(log_importance_negatives['Variables'][0:5],log_importance_negatives['Coefficient'][0:5])\n",
    "plt.ylabel('Coefficient')\n",
    "plt.xlabel('Variables')\n",
    "plt.xticks(rotation=45)\n",
    "plt.title('Top 5 negative coefficients');\n",
    "plt.show()\n",
    "plt.figure(figsize=[7,7])\n",
    "plt.plot(log_importance_positives['Variables'][0:5],log_importance_positives['Coefficient'][0:5])\n",
    "plt.ylabel('Coefficient')\n",
    "plt.xlabel('Variables')\n",
    "plt.xticks(rotation=45)\n",
    "plt.title('Top 5 positive coefficients');"
   ]
  },
  {
   "attachments": {},
   "cell_type": "markdown",
   "id": "a978d230",
   "metadata": {},
   "source": [
    "#### Optimize (best) model"
   ]
  },
  {
   "cell_type": "code",
   "execution_count": 40,
   "id": "d0c1e575",
   "metadata": {},
   "outputs": [
    {
     "name": "stdout",
     "output_type": "stream",
     "text": [
      "(Optimized) Logistical Regression accuracy: 0.6597022359973433\n"
     ]
    }
   ],
   "source": [
    "# Logistical Regression\n",
    "log2=LogisticRegression(max_iter=10000)\n",
    "log2.fit(X_train_merge,y_train)\n",
    "log2_pred=log.predict(X_test_merge)\n",
    "print('(Optimized) Logistical Regression accuracy:',log2.score(X_test_merge,y_test))"
   ]
  },
  {
   "cell_type": "code",
   "execution_count": 41,
   "id": "517b2aa2",
   "metadata": {},
   "outputs": [
    {
     "name": "stdout",
     "output_type": "stream",
     "text": [
      "Logistical Regression\n"
     ]
    },
    {
     "data": {
      "text/html": [
       "<div>\n",
       "<style scoped>\n",
       "    .dataframe tbody tr th:only-of-type {\n",
       "        vertical-align: middle;\n",
       "    }\n",
       "\n",
       "    .dataframe tbody tr th {\n",
       "        vertical-align: top;\n",
       "    }\n",
       "\n",
       "    .dataframe thead th {\n",
       "        text-align: right;\n",
       "    }\n",
       "</style>\n",
       "<table border=\"1\" class=\"dataframe\">\n",
       "  <thead>\n",
       "    <tr style=\"text-align: right;\">\n",
       "      <th>Prediction</th>\n",
       "      <th>0</th>\n",
       "      <th>1</th>\n",
       "    </tr>\n",
       "    <tr>\n",
       "      <th>True</th>\n",
       "      <th></th>\n",
       "      <th></th>\n",
       "    </tr>\n",
       "  </thead>\n",
       "  <tbody>\n",
       "    <tr>\n",
       "      <th>0</th>\n",
       "      <td>0.158374</td>\n",
       "      <td>0.254372</td>\n",
       "    </tr>\n",
       "    <tr>\n",
       "      <th>1</th>\n",
       "      <td>0.085870</td>\n",
       "      <td>0.501384</td>\n",
       "    </tr>\n",
       "  </tbody>\n",
       "</table>\n",
       "</div>"
      ],
      "text/plain": [
       "Prediction         0         1\n",
       "True                          \n",
       "0           0.158374  0.254372\n",
       "1           0.085870  0.501384"
      ]
     },
     "metadata": {},
     "output_type": "display_data"
    }
   ],
   "source": [
    "# confusion matrix\n",
    "print('Logistical Regression')\n",
    "display(pd.crosstab(y_test,log2_pred,normalize=True, rownames=['True'], colnames=['Prediction'])) # no substantial difference"
   ]
  },
  {
   "cell_type": "code",
   "execution_count": 42,
   "id": "72951ce2",
   "metadata": {},
   "outputs": [
    {
     "name": "stdout",
     "output_type": "stream",
     "text": [
      "Logistical Regression \n",
      "               precision    recall  f1-score   support\n",
      "\n",
      "           0       0.65      0.38      0.48     14915\n",
      "           1       0.66      0.85      0.75     21221\n",
      "\n",
      "    accuracy                           0.66     36136\n",
      "   macro avg       0.66      0.62      0.61     36136\n",
      "weighted avg       0.66      0.66      0.64     36136\n",
      "\n"
     ]
    }
   ],
   "source": [
    "# classification report\n",
    "print('Logistical Regression \\n',classification_report(y_test,log2_pred))"
   ]
  }
 ],
 "metadata": {
  "kernelspec": {
   "display_name": "Python 3 (ipykernel)",
   "language": "python",
   "name": "python3"
  },
  "language_info": {
   "codemirror_mode": {
    "name": "ipython",
    "version": 3
   },
   "file_extension": ".py",
   "mimetype": "text/x-python",
   "name": "python",
   "nbconvert_exporter": "python",
   "pygments_lexer": "ipython3",
   "version": "3.10.9"
  }
 },
 "nbformat": 4,
 "nbformat_minor": 5
}
