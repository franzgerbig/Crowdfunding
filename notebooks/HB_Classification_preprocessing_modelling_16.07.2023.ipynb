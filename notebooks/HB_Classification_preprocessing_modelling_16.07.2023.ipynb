{
 "cells": [
  {
   "attachments": {},
   "cell_type": "markdown",
   "id": "c21a358a",
   "metadata": {},
   "source": [
    "### Import"
   ]
  },
  {
   "cell_type": "code",
   "execution_count": 1,
   "id": "7f0a58e4",
   "metadata": {},
   "outputs": [],
   "source": [
    "import pandas as pd\n",
    "import numpy as np\n",
    "import matplotlib.pyplot as plt\n",
    "import seaborn as sns\n",
    "import scipy.stats as stats\n",
    "%matplotlib inline"
   ]
  },
  {
   "cell_type": "code",
   "execution_count": 2,
   "id": "bfcfccbd",
   "metadata": {},
   "outputs": [
    {
     "data": {
      "text/html": [
       "<div>\n",
       "<style scoped>\n",
       "    .dataframe tbody tr th:only-of-type {\n",
       "        vertical-align: middle;\n",
       "    }\n",
       "\n",
       "    .dataframe tbody tr th {\n",
       "        vertical-align: top;\n",
       "    }\n",
       "\n",
       "    .dataframe thead th {\n",
       "        text-align: right;\n",
       "    }\n",
       "</style>\n",
       "<table border=\"1\" class=\"dataframe\">\n",
       "  <thead>\n",
       "    <tr style=\"text-align: right;\">\n",
       "      <th></th>\n",
       "      <th>currency</th>\n",
       "      <th>backers_count</th>\n",
       "      <th>country</th>\n",
       "      <th>status</th>\n",
       "      <th>usd_pledged</th>\n",
       "      <th>main_category</th>\n",
       "      <th>creator_projects</th>\n",
       "      <th>goal_usd</th>\n",
       "      <th>city</th>\n",
       "      <th>launched_year</th>\n",
       "      <th>launched_day</th>\n",
       "      <th>duration</th>\n",
       "    </tr>\n",
       "    <tr>\n",
       "      <th>id</th>\n",
       "      <th></th>\n",
       "      <th></th>\n",
       "      <th></th>\n",
       "      <th></th>\n",
       "      <th></th>\n",
       "      <th></th>\n",
       "      <th></th>\n",
       "      <th></th>\n",
       "      <th></th>\n",
       "      <th></th>\n",
       "      <th></th>\n",
       "      <th></th>\n",
       "    </tr>\n",
       "  </thead>\n",
       "  <tbody>\n",
       "    <tr>\n",
       "      <th>1714728788</th>\n",
       "      <td>CAD</td>\n",
       "      <td>16</td>\n",
       "      <td>CA</td>\n",
       "      <td>failed</td>\n",
       "      <td>577.902078</td>\n",
       "      <td>food</td>\n",
       "      <td>1</td>\n",
       "      <td>785.82065</td>\n",
       "      <td>Victoria</td>\n",
       "      <td>2018</td>\n",
       "      <td>Sat</td>\n",
       "      <td>60.0</td>\n",
       "    </tr>\n",
       "    <tr>\n",
       "      <th>1639965256</th>\n",
       "      <td>USD</td>\n",
       "      <td>7</td>\n",
       "      <td>US</td>\n",
       "      <td>successful</td>\n",
       "      <td>211.000000</td>\n",
       "      <td>publishing</td>\n",
       "      <td>1</td>\n",
       "      <td>93.00000</td>\n",
       "      <td>San Diego</td>\n",
       "      <td>2014</td>\n",
       "      <td>Fri</td>\n",
       "      <td>24.0</td>\n",
       "    </tr>\n",
       "    <tr>\n",
       "      <th>1582062943</th>\n",
       "      <td>USD</td>\n",
       "      <td>99</td>\n",
       "      <td>US</td>\n",
       "      <td>successful</td>\n",
       "      <td>4697.000000</td>\n",
       "      <td>food</td>\n",
       "      <td>1</td>\n",
       "      <td>1500.00000</td>\n",
       "      <td>Philadelphia</td>\n",
       "      <td>2020</td>\n",
       "      <td>Mon</td>\n",
       "      <td>30.0</td>\n",
       "    </tr>\n",
       "    <tr>\n",
       "      <th>1888984372</th>\n",
       "      <td>USD</td>\n",
       "      <td>3</td>\n",
       "      <td>US</td>\n",
       "      <td>failed</td>\n",
       "      <td>222.000000</td>\n",
       "      <td>technology</td>\n",
       "      <td>1</td>\n",
       "      <td>25000.00000</td>\n",
       "      <td>Chicago</td>\n",
       "      <td>2019</td>\n",
       "      <td>Wed</td>\n",
       "      <td>60.0</td>\n",
       "    </tr>\n",
       "    <tr>\n",
       "      <th>1409770586</th>\n",
       "      <td>USD</td>\n",
       "      <td>100</td>\n",
       "      <td>US</td>\n",
       "      <td>successful</td>\n",
       "      <td>5410.000000</td>\n",
       "      <td>publishing</td>\n",
       "      <td>1</td>\n",
       "      <td>5000.00000</td>\n",
       "      <td>Madrid</td>\n",
       "      <td>2015</td>\n",
       "      <td>Thu</td>\n",
       "      <td>30.0</td>\n",
       "    </tr>\n",
       "  </tbody>\n",
       "</table>\n",
       "</div>"
      ],
      "text/plain": [
       "           currency  backers_count country      status  usd_pledged  \\\n",
       "id                                                                    \n",
       "1714728788      CAD             16      CA      failed   577.902078   \n",
       "1639965256      USD              7      US  successful   211.000000   \n",
       "1582062943      USD             99      US  successful  4697.000000   \n",
       "1888984372      USD              3      US      failed   222.000000   \n",
       "1409770586      USD            100      US  successful  5410.000000   \n",
       "\n",
       "           main_category creator_projects     goal_usd          city  \\\n",
       "id                                                                     \n",
       "1714728788          food                1    785.82065      Victoria   \n",
       "1639965256    publishing                1     93.00000     San Diego   \n",
       "1582062943          food                1   1500.00000  Philadelphia   \n",
       "1888984372    technology                1  25000.00000       Chicago   \n",
       "1409770586    publishing                1   5000.00000        Madrid   \n",
       "\n",
       "            launched_year launched_day  duration  \n",
       "id                                                \n",
       "1714728788           2018          Sat      60.0  \n",
       "1639965256           2014          Fri      24.0  \n",
       "1582062943           2020          Mon      30.0  \n",
       "1888984372           2019          Wed      60.0  \n",
       "1409770586           2015          Thu      30.0  "
      ]
     },
     "metadata": {},
     "output_type": "display_data"
    },
    {
     "name": "stdout",
     "output_type": "stream",
     "text": [
      "<class 'pandas.core.frame.DataFrame'>\n",
      "Int64Index: 180675 entries, 1714728788 to 1126079486\n",
      "Data columns (total 12 columns):\n",
      " #   Column            Non-Null Count   Dtype  \n",
      "---  ------            --------------   -----  \n",
      " 0   currency          180675 non-null  object \n",
      " 1   backers_count     180675 non-null  int64  \n",
      " 2   country           180675 non-null  object \n",
      " 3   status            180675 non-null  object \n",
      " 4   usd_pledged       180675 non-null  float64\n",
      " 5   main_category     180675 non-null  object \n",
      " 6   creator_projects  180675 non-null  object \n",
      " 7   goal_usd          180675 non-null  float64\n",
      " 8   city              180675 non-null  object \n",
      " 9   launched_year     180675 non-null  int64  \n",
      " 10  launched_day      180675 non-null  object \n",
      " 11  duration          180675 non-null  float64\n",
      "dtypes: float64(3), int64(2), object(7)\n",
      "memory usage: 17.9+ MB\n"
     ]
    },
    {
     "data": {
      "text/plain": [
       "None"
      ]
     },
     "metadata": {},
     "output_type": "display_data"
    }
   ],
   "source": [
    "imp=r\"C:\\Users\\bosse\\Desktop\\Notebooks\\Data\\Project\\Kaggle_dedub.csv\"\n",
    "imp=r\"C:\\Users\\Franz.000\\Documents\\GitHub\\MAY23_BDA_INT_Crowdfunding\\data\\kaggle\\Kaggle_deduplicated.csv\"\n",
    "df=pd.read_csv(imp,index_col='id')\n",
    "df.drop(columns='Unnamed: 0',inplace=True)\n",
    "display(df.head())\n",
    "display(df.info())"
   ]
  },
  {
   "cell_type": "code",
   "execution_count": 4,
   "id": "1ec38293",
   "metadata": {},
   "outputs": [],
   "source": [
    "# Potential Simplification of variables\n",
    "df['country'].replace(['GB','CA'],'GB,CA',inplace=True)\n",
    "df['country'].replace(['DE','FR','IT','ES','NL','SE','DK','CH','IE','BE','AT','NO','LU','PL','GR','SI'],'Europe',inplace=True)\n",
    "df['country'].replace(['HK','SG','JP'],'Asia',inplace=True)\n",
    "df['country'].replace(['MX'],'South America and Mexico',inplace=True)\n",
    "df['country'].replace(['AU','NZ'],'Australia and new Zealand',inplace=True)\n",
    "df['main_category'].replace(['music','film & video','games','comics','dance'],'Entertainment',inplace=True)\n",
    "df['main_category'].replace(['art','fashion','design','photography','theater'],'Culture',inplace=True)\n",
    "df['main_category'].replace(['technology','publishing','food','crafts','journalism'],'Others',inplace=True)\n",
    "df['currency'].replace(['AUD','MXN','SEK','HKD','NZD','DKK','SGD','CHF','JPY','NOK','PLN'],'Others',inplace=True)"
   ]
  },
  {
   "attachments": {},
   "cell_type": "markdown",
   "id": "57af1db3",
   "metadata": {},
   "source": [
    "### Split of the data"
   ]
  },
  {
   "cell_type": "code",
   "execution_count": 5,
   "id": "f034861c",
   "metadata": {
    "scrolled": true
   },
   "outputs": [],
   "source": [
    "# Target Variable\n",
    "df['status'].replace(['successful','failed'],[1,0],inplace=True)\n",
    "df_y=df['status']"
   ]
  },
  {
   "cell_type": "code",
   "execution_count": 6,
   "id": "f71c0031",
   "metadata": {
    "scrolled": true
   },
   "outputs": [],
   "source": [
    "from sklearn.model_selection import train_test_split\n",
    "X_train,X_test,y_train,y_test=train_test_split(df.drop(columns='status'),df_y,test_size=0.2,random_state=42)"
   ]
  },
  {
   "cell_type": "code",
   "execution_count": 12,
   "id": "3128a2f0",
   "metadata": {},
   "outputs": [],
   "source": [
    "# Chosen Variables\n",
    "not_used_list=['city', 'usd_pledged','backers_count']\n",
    "num_list=['goal_usd','duration']\n",
    "cat_list=['country','currency','main_category','creator_projects']"
   ]
  },
  {
   "attachments": {},
   "cell_type": "markdown",
   "id": "0f31a633",
   "metadata": {},
   "source": [
    "### Preprocessing of the data"
   ]
  },
  {
   "cell_type": "code",
   "execution_count": 10,
   "id": "0232e206",
   "metadata": {
    "scrolled": true
   },
   "outputs": [
    {
     "name": "stderr",
     "output_type": "stream",
     "text": [
      "C:\\Users\\Franz.000\\AppData\\Local\\Temp\\ipykernel_3616\\1827690632.py:7: SettingWithCopyWarning: \n",
      "A value is trying to be set on a copy of a slice from a DataFrame.\n",
      "Try using .loc[row_indexer,col_indexer] = value instead\n",
      "\n",
      "See the caveats in the documentation: https://pandas.pydata.org/pandas-docs/stable/user_guide/indexing.html#returning-a-view-versus-a-copy\n",
      "  X_train_num[num_list]=sc.fit_transform(X_train[num_list])\n",
      "C:\\Users\\Franz.000\\AppData\\Local\\Temp\\ipykernel_3616\\1827690632.py:8: SettingWithCopyWarning: \n",
      "A value is trying to be set on a copy of a slice from a DataFrame.\n",
      "Try using .loc[row_indexer,col_indexer] = value instead\n",
      "\n",
      "See the caveats in the documentation: https://pandas.pydata.org/pandas-docs/stable/user_guide/indexing.html#returning-a-view-versus-a-copy\n",
      "  X_test_num[num_list]=sc.fit_transform(X_test[num_list])\n"
     ]
    }
   ],
   "source": [
    "# standardizing of the numerical variables\n",
    "from sklearn.preprocessing import StandardScaler\n",
    "sc=StandardScaler()\n",
    "# \n",
    "X_train_num=X_train[num_list]\n",
    "X_test_num=X_test[num_list]\n",
    "X_train_num[num_list]=sc.fit_transform(X_train[num_list])\n",
    "X_test_num[num_list]=sc.fit_transform(X_test[num_list])"
   ]
  },
  {
   "cell_type": "code",
   "execution_count": 13,
   "id": "c5edcc12",
   "metadata": {
    "scrolled": true
   },
   "outputs": [
    {
     "name": "stderr",
     "output_type": "stream",
     "text": [
      "c:\\Users\\Franz.000\\anaconda3\\lib\\site-packages\\sklearn\\preprocessing\\_encoders.py:828: FutureWarning: `sparse` was renamed to `sparse_output` in version 1.2 and will be removed in 1.4. `sparse_output` is ignored unless you leave `sparse` to its default value.\n",
      "  warnings.warn(\n"
     ]
    }
   ],
   "source": [
    "# OneHotEncoding of the categorical variable of X_train\n",
    "from sklearn.preprocessing import OneHotEncoder\n",
    "ohe=OneHotEncoder(sparse=False)\n",
    "ohe_train=ohe.fit_transform(X_train[cat_list])\n",
    "column_name=ohe.get_feature_names_out(cat_list)\n",
    "X_train_ohe=pd.DataFrame(ohe_train,columns=column_name,index=X_train.index)"
   ]
  },
  {
   "cell_type": "code",
   "execution_count": 14,
   "id": "253942ca",
   "metadata": {
    "scrolled": true
   },
   "outputs": [
    {
     "name": "stderr",
     "output_type": "stream",
     "text": [
      "c:\\Users\\Franz.000\\anaconda3\\lib\\site-packages\\sklearn\\preprocessing\\_encoders.py:828: FutureWarning: `sparse` was renamed to `sparse_output` in version 1.2 and will be removed in 1.4. `sparse_output` is ignored unless you leave `sparse` to its default value.\n",
      "  warnings.warn(\n"
     ]
    }
   ],
   "source": [
    "# OHE X_test variable\n",
    "ohe2=OneHotEncoder(sparse=False)\n",
    "ohe_test=ohe2.fit_transform(X_test[cat_list])\n",
    "column_name2=ohe2.get_feature_names_out(cat_list)\n",
    "X_test_ohe=pd.DataFrame(ohe_test,columns=column_name2,index=X_test.index)"
   ]
  },
  {
   "cell_type": "code",
   "execution_count": null,
   "id": "da16b13c",
   "metadata": {},
   "outputs": [
    {
     "data": {
      "text/plain": [
       "11439"
      ]
     },
     "execution_count": 10,
     "metadata": {},
     "output_type": "execute_result"
    }
   ],
   "source": [
    "len(X_train['city'].value_counts())\n",
    "# The variable city contain over 11000 different entries, ohe possible with so many variables?\n",
    "# For the time being, city variable will be dropped"
   ]
  },
  {
   "cell_type": "code",
   "execution_count": 15,
   "id": "511ce896",
   "metadata": {
    "scrolled": false
   },
   "outputs": [
    {
     "data": {
      "text/html": [
       "<div>\n",
       "<style scoped>\n",
       "    .dataframe tbody tr th:only-of-type {\n",
       "        vertical-align: middle;\n",
       "    }\n",
       "\n",
       "    .dataframe tbody tr th {\n",
       "        vertical-align: top;\n",
       "    }\n",
       "\n",
       "    .dataframe thead th {\n",
       "        text-align: right;\n",
       "    }\n",
       "</style>\n",
       "<table border=\"1\" class=\"dataframe\">\n",
       "  <thead>\n",
       "    <tr style=\"text-align: right;\">\n",
       "      <th></th>\n",
       "      <th>goal_usd</th>\n",
       "      <th>duration</th>\n",
       "      <th>country_Asia</th>\n",
       "      <th>country_Australia and new Zealand</th>\n",
       "      <th>country_Europe</th>\n",
       "      <th>country_GB,CA</th>\n",
       "      <th>country_South America and Mexico</th>\n",
       "      <th>country_US</th>\n",
       "      <th>currency_CAD</th>\n",
       "      <th>currency_EUR</th>\n",
       "      <th>...</th>\n",
       "      <th>currency_Others</th>\n",
       "      <th>currency_USD</th>\n",
       "      <th>main_category_Culture</th>\n",
       "      <th>main_category_Entertainment</th>\n",
       "      <th>main_category_Others</th>\n",
       "      <th>creator_projects_1</th>\n",
       "      <th>creator_projects_15-29</th>\n",
       "      <th>creator_projects_2-5</th>\n",
       "      <th>creator_projects_30+</th>\n",
       "      <th>creator_projects_6-14</th>\n",
       "    </tr>\n",
       "    <tr>\n",
       "      <th>id</th>\n",
       "      <th></th>\n",
       "      <th></th>\n",
       "      <th></th>\n",
       "      <th></th>\n",
       "      <th></th>\n",
       "      <th></th>\n",
       "      <th></th>\n",
       "      <th></th>\n",
       "      <th></th>\n",
       "      <th></th>\n",
       "      <th></th>\n",
       "      <th></th>\n",
       "      <th></th>\n",
       "      <th></th>\n",
       "      <th></th>\n",
       "      <th></th>\n",
       "      <th></th>\n",
       "      <th></th>\n",
       "      <th></th>\n",
       "      <th></th>\n",
       "      <th></th>\n",
       "    </tr>\n",
       "  </thead>\n",
       "  <tbody>\n",
       "    <tr>\n",
       "      <th>2006359095</th>\n",
       "      <td>-0.034819</td>\n",
       "      <td>-0.243614</td>\n",
       "      <td>0.0</td>\n",
       "      <td>0.0</td>\n",
       "      <td>0.0</td>\n",
       "      <td>0.0</td>\n",
       "      <td>0.0</td>\n",
       "      <td>1.0</td>\n",
       "      <td>0.0</td>\n",
       "      <td>0.0</td>\n",
       "      <td>...</td>\n",
       "      <td>0.0</td>\n",
       "      <td>1.0</td>\n",
       "      <td>1.0</td>\n",
       "      <td>0.0</td>\n",
       "      <td>0.0</td>\n",
       "      <td>1.0</td>\n",
       "      <td>0.0</td>\n",
       "      <td>0.0</td>\n",
       "      <td>0.0</td>\n",
       "      <td>0.0</td>\n",
       "    </tr>\n",
       "    <tr>\n",
       "      <th>435659495</th>\n",
       "      <td>-0.019571</td>\n",
       "      <td>4.696336</td>\n",
       "      <td>0.0</td>\n",
       "      <td>0.0</td>\n",
       "      <td>0.0</td>\n",
       "      <td>0.0</td>\n",
       "      <td>0.0</td>\n",
       "      <td>1.0</td>\n",
       "      <td>0.0</td>\n",
       "      <td>0.0</td>\n",
       "      <td>...</td>\n",
       "      <td>0.0</td>\n",
       "      <td>1.0</td>\n",
       "      <td>1.0</td>\n",
       "      <td>0.0</td>\n",
       "      <td>0.0</td>\n",
       "      <td>1.0</td>\n",
       "      <td>0.0</td>\n",
       "      <td>0.0</td>\n",
       "      <td>0.0</td>\n",
       "      <td>0.0</td>\n",
       "    </tr>\n",
       "    <tr>\n",
       "      <th>358453393</th>\n",
       "      <td>-0.029101</td>\n",
       "      <td>2.226361</td>\n",
       "      <td>0.0</td>\n",
       "      <td>0.0</td>\n",
       "      <td>0.0</td>\n",
       "      <td>0.0</td>\n",
       "      <td>0.0</td>\n",
       "      <td>1.0</td>\n",
       "      <td>0.0</td>\n",
       "      <td>0.0</td>\n",
       "      <td>...</td>\n",
       "      <td>0.0</td>\n",
       "      <td>1.0</td>\n",
       "      <td>0.0</td>\n",
       "      <td>1.0</td>\n",
       "      <td>0.0</td>\n",
       "      <td>1.0</td>\n",
       "      <td>0.0</td>\n",
       "      <td>0.0</td>\n",
       "      <td>0.0</td>\n",
       "      <td>0.0</td>\n",
       "    </tr>\n",
       "    <tr>\n",
       "      <th>1251003856</th>\n",
       "      <td>-0.034737</td>\n",
       "      <td>2.226361</td>\n",
       "      <td>0.0</td>\n",
       "      <td>0.0</td>\n",
       "      <td>1.0</td>\n",
       "      <td>0.0</td>\n",
       "      <td>0.0</td>\n",
       "      <td>0.0</td>\n",
       "      <td>0.0</td>\n",
       "      <td>0.0</td>\n",
       "      <td>...</td>\n",
       "      <td>1.0</td>\n",
       "      <td>0.0</td>\n",
       "      <td>0.0</td>\n",
       "      <td>1.0</td>\n",
       "      <td>0.0</td>\n",
       "      <td>1.0</td>\n",
       "      <td>0.0</td>\n",
       "      <td>0.0</td>\n",
       "      <td>0.0</td>\n",
       "      <td>0.0</td>\n",
       "    </tr>\n",
       "    <tr>\n",
       "      <th>1864683346</th>\n",
       "      <td>-0.033866</td>\n",
       "      <td>2.226361</td>\n",
       "      <td>0.0</td>\n",
       "      <td>0.0</td>\n",
       "      <td>0.0</td>\n",
       "      <td>0.0</td>\n",
       "      <td>0.0</td>\n",
       "      <td>1.0</td>\n",
       "      <td>0.0</td>\n",
       "      <td>0.0</td>\n",
       "      <td>...</td>\n",
       "      <td>0.0</td>\n",
       "      <td>1.0</td>\n",
       "      <td>1.0</td>\n",
       "      <td>0.0</td>\n",
       "      <td>0.0</td>\n",
       "      <td>1.0</td>\n",
       "      <td>0.0</td>\n",
       "      <td>0.0</td>\n",
       "      <td>0.0</td>\n",
       "      <td>0.0</td>\n",
       "    </tr>\n",
       "    <tr>\n",
       "      <th>...</th>\n",
       "      <td>...</td>\n",
       "      <td>...</td>\n",
       "      <td>...</td>\n",
       "      <td>...</td>\n",
       "      <td>...</td>\n",
       "      <td>...</td>\n",
       "      <td>...</td>\n",
       "      <td>...</td>\n",
       "      <td>...</td>\n",
       "      <td>...</td>\n",
       "      <td>...</td>\n",
       "      <td>...</td>\n",
       "      <td>...</td>\n",
       "      <td>...</td>\n",
       "      <td>...</td>\n",
       "      <td>...</td>\n",
       "      <td>...</td>\n",
       "      <td>...</td>\n",
       "      <td>...</td>\n",
       "      <td>...</td>\n",
       "      <td>...</td>\n",
       "    </tr>\n",
       "    <tr>\n",
       "      <th>1690059260</th>\n",
       "      <td>-0.031960</td>\n",
       "      <td>0.826709</td>\n",
       "      <td>0.0</td>\n",
       "      <td>0.0</td>\n",
       "      <td>0.0</td>\n",
       "      <td>0.0</td>\n",
       "      <td>0.0</td>\n",
       "      <td>1.0</td>\n",
       "      <td>0.0</td>\n",
       "      <td>0.0</td>\n",
       "      <td>...</td>\n",
       "      <td>0.0</td>\n",
       "      <td>1.0</td>\n",
       "      <td>0.0</td>\n",
       "      <td>0.0</td>\n",
       "      <td>1.0</td>\n",
       "      <td>1.0</td>\n",
       "      <td>0.0</td>\n",
       "      <td>0.0</td>\n",
       "      <td>0.0</td>\n",
       "      <td>0.0</td>\n",
       "    </tr>\n",
       "    <tr>\n",
       "      <th>1228470056</th>\n",
       "      <td>-0.036340</td>\n",
       "      <td>-0.243614</td>\n",
       "      <td>0.0</td>\n",
       "      <td>0.0</td>\n",
       "      <td>0.0</td>\n",
       "      <td>1.0</td>\n",
       "      <td>0.0</td>\n",
       "      <td>0.0</td>\n",
       "      <td>0.0</td>\n",
       "      <td>0.0</td>\n",
       "      <td>...</td>\n",
       "      <td>0.0</td>\n",
       "      <td>0.0</td>\n",
       "      <td>1.0</td>\n",
       "      <td>0.0</td>\n",
       "      <td>0.0</td>\n",
       "      <td>1.0</td>\n",
       "      <td>0.0</td>\n",
       "      <td>0.0</td>\n",
       "      <td>0.0</td>\n",
       "      <td>0.0</td>\n",
       "    </tr>\n",
       "    <tr>\n",
       "      <th>939849090</th>\n",
       "      <td>-0.034819</td>\n",
       "      <td>-0.078949</td>\n",
       "      <td>0.0</td>\n",
       "      <td>0.0</td>\n",
       "      <td>0.0</td>\n",
       "      <td>0.0</td>\n",
       "      <td>0.0</td>\n",
       "      <td>1.0</td>\n",
       "      <td>0.0</td>\n",
       "      <td>0.0</td>\n",
       "      <td>...</td>\n",
       "      <td>0.0</td>\n",
       "      <td>1.0</td>\n",
       "      <td>0.0</td>\n",
       "      <td>1.0</td>\n",
       "      <td>0.0</td>\n",
       "      <td>1.0</td>\n",
       "      <td>0.0</td>\n",
       "      <td>0.0</td>\n",
       "      <td>0.0</td>\n",
       "      <td>0.0</td>\n",
       "    </tr>\n",
       "    <tr>\n",
       "      <th>1018935525</th>\n",
       "      <td>-0.033866</td>\n",
       "      <td>2.226361</td>\n",
       "      <td>0.0</td>\n",
       "      <td>0.0</td>\n",
       "      <td>0.0</td>\n",
       "      <td>0.0</td>\n",
       "      <td>0.0</td>\n",
       "      <td>1.0</td>\n",
       "      <td>0.0</td>\n",
       "      <td>0.0</td>\n",
       "      <td>...</td>\n",
       "      <td>0.0</td>\n",
       "      <td>1.0</td>\n",
       "      <td>0.0</td>\n",
       "      <td>1.0</td>\n",
       "      <td>0.0</td>\n",
       "      <td>1.0</td>\n",
       "      <td>0.0</td>\n",
       "      <td>0.0</td>\n",
       "      <td>0.0</td>\n",
       "      <td>0.0</td>\n",
       "    </tr>\n",
       "    <tr>\n",
       "      <th>1253332592</th>\n",
       "      <td>-0.027404</td>\n",
       "      <td>-0.243614</td>\n",
       "      <td>0.0</td>\n",
       "      <td>0.0</td>\n",
       "      <td>1.0</td>\n",
       "      <td>0.0</td>\n",
       "      <td>0.0</td>\n",
       "      <td>0.0</td>\n",
       "      <td>0.0</td>\n",
       "      <td>1.0</td>\n",
       "      <td>...</td>\n",
       "      <td>0.0</td>\n",
       "      <td>0.0</td>\n",
       "      <td>0.0</td>\n",
       "      <td>0.0</td>\n",
       "      <td>1.0</td>\n",
       "      <td>1.0</td>\n",
       "      <td>0.0</td>\n",
       "      <td>0.0</td>\n",
       "      <td>0.0</td>\n",
       "      <td>0.0</td>\n",
       "    </tr>\n",
       "  </tbody>\n",
       "</table>\n",
       "<p>144540 rows × 21 columns</p>\n",
       "</div>"
      ],
      "text/plain": [
       "            goal_usd  duration  country_Asia  \\\n",
       "id                                             \n",
       "2006359095 -0.034819 -0.243614           0.0   \n",
       "435659495  -0.019571  4.696336           0.0   \n",
       "358453393  -0.029101  2.226361           0.0   \n",
       "1251003856 -0.034737  2.226361           0.0   \n",
       "1864683346 -0.033866  2.226361           0.0   \n",
       "...              ...       ...           ...   \n",
       "1690059260 -0.031960  0.826709           0.0   \n",
       "1228470056 -0.036340 -0.243614           0.0   \n",
       "939849090  -0.034819 -0.078949           0.0   \n",
       "1018935525 -0.033866  2.226361           0.0   \n",
       "1253332592 -0.027404 -0.243614           0.0   \n",
       "\n",
       "            country_Australia and new Zealand  country_Europe  country_GB,CA  \\\n",
       "id                                                                             \n",
       "2006359095                                0.0             0.0            0.0   \n",
       "435659495                                 0.0             0.0            0.0   \n",
       "358453393                                 0.0             0.0            0.0   \n",
       "1251003856                                0.0             1.0            0.0   \n",
       "1864683346                                0.0             0.0            0.0   \n",
       "...                                       ...             ...            ...   \n",
       "1690059260                                0.0             0.0            0.0   \n",
       "1228470056                                0.0             0.0            1.0   \n",
       "939849090                                 0.0             0.0            0.0   \n",
       "1018935525                                0.0             0.0            0.0   \n",
       "1253332592                                0.0             1.0            0.0   \n",
       "\n",
       "            country_South America and Mexico  country_US  currency_CAD  \\\n",
       "id                                                                       \n",
       "2006359095                               0.0         1.0           0.0   \n",
       "435659495                                0.0         1.0           0.0   \n",
       "358453393                                0.0         1.0           0.0   \n",
       "1251003856                               0.0         0.0           0.0   \n",
       "1864683346                               0.0         1.0           0.0   \n",
       "...                                      ...         ...           ...   \n",
       "1690059260                               0.0         1.0           0.0   \n",
       "1228470056                               0.0         0.0           0.0   \n",
       "939849090                                0.0         1.0           0.0   \n",
       "1018935525                               0.0         1.0           0.0   \n",
       "1253332592                               0.0         0.0           0.0   \n",
       "\n",
       "            currency_EUR  ...  currency_Others  currency_USD  \\\n",
       "id                        ...                                  \n",
       "2006359095           0.0  ...              0.0           1.0   \n",
       "435659495            0.0  ...              0.0           1.0   \n",
       "358453393            0.0  ...              0.0           1.0   \n",
       "1251003856           0.0  ...              1.0           0.0   \n",
       "1864683346           0.0  ...              0.0           1.0   \n",
       "...                  ...  ...              ...           ...   \n",
       "1690059260           0.0  ...              0.0           1.0   \n",
       "1228470056           0.0  ...              0.0           0.0   \n",
       "939849090            0.0  ...              0.0           1.0   \n",
       "1018935525           0.0  ...              0.0           1.0   \n",
       "1253332592           1.0  ...              0.0           0.0   \n",
       "\n",
       "            main_category_Culture  main_category_Entertainment  \\\n",
       "id                                                               \n",
       "2006359095                    1.0                          0.0   \n",
       "435659495                     1.0                          0.0   \n",
       "358453393                     0.0                          1.0   \n",
       "1251003856                    0.0                          1.0   \n",
       "1864683346                    1.0                          0.0   \n",
       "...                           ...                          ...   \n",
       "1690059260                    0.0                          0.0   \n",
       "1228470056                    1.0                          0.0   \n",
       "939849090                     0.0                          1.0   \n",
       "1018935525                    0.0                          1.0   \n",
       "1253332592                    0.0                          0.0   \n",
       "\n",
       "            main_category_Others  creator_projects_1  creator_projects_15-29  \\\n",
       "id                                                                             \n",
       "2006359095                   0.0                 1.0                     0.0   \n",
       "435659495                    0.0                 1.0                     0.0   \n",
       "358453393                    0.0                 1.0                     0.0   \n",
       "1251003856                   0.0                 1.0                     0.0   \n",
       "1864683346                   0.0                 1.0                     0.0   \n",
       "...                          ...                 ...                     ...   \n",
       "1690059260                   1.0                 1.0                     0.0   \n",
       "1228470056                   0.0                 1.0                     0.0   \n",
       "939849090                    0.0                 1.0                     0.0   \n",
       "1018935525                   0.0                 1.0                     0.0   \n",
       "1253332592                   1.0                 1.0                     0.0   \n",
       "\n",
       "            creator_projects_2-5  creator_projects_30+  creator_projects_6-14  \n",
       "id                                                                             \n",
       "2006359095                   0.0                   0.0                    0.0  \n",
       "435659495                    0.0                   0.0                    0.0  \n",
       "358453393                    0.0                   0.0                    0.0  \n",
       "1251003856                   0.0                   0.0                    0.0  \n",
       "1864683346                   0.0                   0.0                    0.0  \n",
       "...                          ...                   ...                    ...  \n",
       "1690059260                   0.0                   0.0                    0.0  \n",
       "1228470056                   0.0                   0.0                    0.0  \n",
       "939849090                    0.0                   0.0                    0.0  \n",
       "1018935525                   0.0                   0.0                    0.0  \n",
       "1253332592                   0.0                   0.0                    0.0  \n",
       "\n",
       "[144540 rows x 21 columns]"
      ]
     },
     "execution_count": 15,
     "metadata": {},
     "output_type": "execute_result"
    }
   ],
   "source": [
    "X_train_merge_org=pd.concat([X_train_num,X_train_ohe],axis=1)\n",
    "X_test_merge=pd.concat([X_test_num,X_test_ohe],axis=1)\n",
    "X_train_merge_org"
   ]
  },
  {
   "attachments": {},
   "cell_type": "markdown",
   "id": "617c7322",
   "metadata": {},
   "source": [
    "#### Resampling and Analysisvariable"
   ]
  },
  {
   "cell_type": "code",
   "execution_count": 16,
   "id": "d0c7b169",
   "metadata": {},
   "outputs": [
    {
     "data": {
      "text/plain": [
       "167996"
      ]
     },
     "execution_count": 16,
     "metadata": {},
     "output_type": "execute_result"
    }
   ],
   "source": [
    "from imblearn.over_sampling import RandomOverSampler \n",
    "rOs =RandomOverSampler()\n",
    "X_over,y_over =rOs.fit_resample(X_train_merge_org,y_train)\n",
    "len(X_over)"
   ]
  },
  {
   "cell_type": "code",
   "execution_count": 17,
   "id": "d79c9bf7",
   "metadata": {},
   "outputs": [
    {
     "data": {
      "text/plain": [
       "121084"
      ]
     },
     "execution_count": 17,
     "metadata": {},
     "output_type": "execute_result"
    }
   ],
   "source": [
    "from imblearn.under_sampling import RandomUnderSampler\n",
    "rUs=RandomUnderSampler()\n",
    "x_under,y_under=rUs.fit_resample(X_train_merge_org,y_train)\n",
    "len(x_under)"
   ]
  },
  {
   "cell_type": "code",
   "execution_count": 18,
   "id": "fcac9f46",
   "metadata": {},
   "outputs": [],
   "source": [
    "# Variable for the Analysis\n",
    "X_train_merge=X_train_merge_org\n",
    "y_train=y_train"
   ]
  },
  {
   "attachments": {},
   "cell_type": "markdown",
   "id": "545161d8",
   "metadata": {},
   "source": [
    "### Modelling of the data"
   ]
  },
  {
   "attachments": {},
   "cell_type": "markdown",
   "id": "d7b07fc8",
   "metadata": {},
   "source": [
    "Which model to chose?\n",
    "- Classification. tree or regression?\n",
    "\n",
    "Which metric to evaluate?\n",
    "- Eigentlich ja nur Modelle mit den Daten füttern Verbindung zum Project eher unwichtig, keine Projektdaten\n",
    "\n"
   ]
  },
  {
   "cell_type": "code",
   "execution_count": 19,
   "id": "16389a66",
   "metadata": {},
   "outputs": [],
   "source": [
    "# Maschine learning\n",
    "from sklearn.tree import DecisionTreeClassifier\n",
    "from sklearn.linear_model import LogisticRegression\n",
    "from sklearn import neighbors"
   ]
  },
  {
   "cell_type": "code",
   "execution_count": 20,
   "id": "2943d097",
   "metadata": {
    "scrolled": true
   },
   "outputs": [
    {
     "ename": "KeyError",
     "evalue": "\"['country_SI', 'currency_PLN'] not found in axis\"",
     "output_type": "error",
     "traceback": [
      "\u001b[1;31m---------------------------------------------------------------------------\u001b[0m",
      "\u001b[1;31mKeyError\u001b[0m                                  Traceback (most recent call last)",
      "Cell \u001b[1;32mIn[20], line 1\u001b[0m\n\u001b[1;32m----> 1\u001b[0m X_train_merge\u001b[39m.\u001b[39;49mdrop([\u001b[39m'\u001b[39;49m\u001b[39mcountry_SI\u001b[39;49m\u001b[39m'\u001b[39;49m,\u001b[39m'\u001b[39;49m\u001b[39mcurrency_PLN\u001b[39;49m\u001b[39m'\u001b[39;49m],axis\u001b[39m=\u001b[39;49m\u001b[39m1\u001b[39;49m,inplace\u001b[39m=\u001b[39;49m\u001b[39mTrue\u001b[39;49;00m)\n",
      "File \u001b[1;32mc:\\Users\\Franz.000\\anaconda3\\lib\\site-packages\\pandas\\util\\_decorators.py:331\u001b[0m, in \u001b[0;36mdeprecate_nonkeyword_arguments.<locals>.decorate.<locals>.wrapper\u001b[1;34m(*args, **kwargs)\u001b[0m\n\u001b[0;32m    325\u001b[0m \u001b[39mif\u001b[39;00m \u001b[39mlen\u001b[39m(args) \u001b[39m>\u001b[39m num_allow_args:\n\u001b[0;32m    326\u001b[0m     warnings\u001b[39m.\u001b[39mwarn(\n\u001b[0;32m    327\u001b[0m         msg\u001b[39m.\u001b[39mformat(arguments\u001b[39m=\u001b[39m_format_argument_list(allow_args)),\n\u001b[0;32m    328\u001b[0m         \u001b[39mFutureWarning\u001b[39;00m,\n\u001b[0;32m    329\u001b[0m         stacklevel\u001b[39m=\u001b[39mfind_stack_level(),\n\u001b[0;32m    330\u001b[0m     )\n\u001b[1;32m--> 331\u001b[0m \u001b[39mreturn\u001b[39;00m func(\u001b[39m*\u001b[39margs, \u001b[39m*\u001b[39m\u001b[39m*\u001b[39mkwargs)\n",
      "File \u001b[1;32mc:\\Users\\Franz.000\\anaconda3\\lib\\site-packages\\pandas\\core\\frame.py:5399\u001b[0m, in \u001b[0;36mDataFrame.drop\u001b[1;34m(self, labels, axis, index, columns, level, inplace, errors)\u001b[0m\n\u001b[0;32m   5251\u001b[0m \u001b[39m@deprecate_nonkeyword_arguments\u001b[39m(version\u001b[39m=\u001b[39m\u001b[39mNone\u001b[39;00m, allowed_args\u001b[39m=\u001b[39m[\u001b[39m\"\u001b[39m\u001b[39mself\u001b[39m\u001b[39m\"\u001b[39m, \u001b[39m\"\u001b[39m\u001b[39mlabels\u001b[39m\u001b[39m\"\u001b[39m])\n\u001b[0;32m   5252\u001b[0m \u001b[39mdef\u001b[39;00m \u001b[39mdrop\u001b[39m(  \u001b[39m# type: ignore[override]\u001b[39;00m\n\u001b[0;32m   5253\u001b[0m     \u001b[39mself\u001b[39m,\n\u001b[1;32m   (...)\u001b[0m\n\u001b[0;32m   5260\u001b[0m     errors: IgnoreRaise \u001b[39m=\u001b[39m \u001b[39m\"\u001b[39m\u001b[39mraise\u001b[39m\u001b[39m\"\u001b[39m,\n\u001b[0;32m   5261\u001b[0m ) \u001b[39m-\u001b[39m\u001b[39m>\u001b[39m DataFrame \u001b[39m|\u001b[39m \u001b[39mNone\u001b[39;00m:\n\u001b[0;32m   5262\u001b[0m \u001b[39m    \u001b[39m\u001b[39m\"\"\"\u001b[39;00m\n\u001b[0;32m   5263\u001b[0m \u001b[39m    Drop specified labels from rows or columns.\u001b[39;00m\n\u001b[0;32m   5264\u001b[0m \n\u001b[1;32m   (...)\u001b[0m\n\u001b[0;32m   5397\u001b[0m \u001b[39m            weight  1.0     0.8\u001b[39;00m\n\u001b[0;32m   5398\u001b[0m \u001b[39m    \"\"\"\u001b[39;00m\n\u001b[1;32m-> 5399\u001b[0m     \u001b[39mreturn\u001b[39;00m \u001b[39msuper\u001b[39;49m()\u001b[39m.\u001b[39;49mdrop(\n\u001b[0;32m   5400\u001b[0m         labels\u001b[39m=\u001b[39;49mlabels,\n\u001b[0;32m   5401\u001b[0m         axis\u001b[39m=\u001b[39;49maxis,\n\u001b[0;32m   5402\u001b[0m         index\u001b[39m=\u001b[39;49mindex,\n\u001b[0;32m   5403\u001b[0m         columns\u001b[39m=\u001b[39;49mcolumns,\n\u001b[0;32m   5404\u001b[0m         level\u001b[39m=\u001b[39;49mlevel,\n\u001b[0;32m   5405\u001b[0m         inplace\u001b[39m=\u001b[39;49minplace,\n\u001b[0;32m   5406\u001b[0m         errors\u001b[39m=\u001b[39;49merrors,\n\u001b[0;32m   5407\u001b[0m     )\n",
      "File \u001b[1;32mc:\\Users\\Franz.000\\anaconda3\\lib\\site-packages\\pandas\\util\\_decorators.py:331\u001b[0m, in \u001b[0;36mdeprecate_nonkeyword_arguments.<locals>.decorate.<locals>.wrapper\u001b[1;34m(*args, **kwargs)\u001b[0m\n\u001b[0;32m    325\u001b[0m \u001b[39mif\u001b[39;00m \u001b[39mlen\u001b[39m(args) \u001b[39m>\u001b[39m num_allow_args:\n\u001b[0;32m    326\u001b[0m     warnings\u001b[39m.\u001b[39mwarn(\n\u001b[0;32m    327\u001b[0m         msg\u001b[39m.\u001b[39mformat(arguments\u001b[39m=\u001b[39m_format_argument_list(allow_args)),\n\u001b[0;32m    328\u001b[0m         \u001b[39mFutureWarning\u001b[39;00m,\n\u001b[0;32m    329\u001b[0m         stacklevel\u001b[39m=\u001b[39mfind_stack_level(),\n\u001b[0;32m    330\u001b[0m     )\n\u001b[1;32m--> 331\u001b[0m \u001b[39mreturn\u001b[39;00m func(\u001b[39m*\u001b[39margs, \u001b[39m*\u001b[39m\u001b[39m*\u001b[39mkwargs)\n",
      "File \u001b[1;32mc:\\Users\\Franz.000\\anaconda3\\lib\\site-packages\\pandas\\core\\generic.py:4505\u001b[0m, in \u001b[0;36mNDFrame.drop\u001b[1;34m(self, labels, axis, index, columns, level, inplace, errors)\u001b[0m\n\u001b[0;32m   4503\u001b[0m \u001b[39mfor\u001b[39;00m axis, labels \u001b[39min\u001b[39;00m axes\u001b[39m.\u001b[39mitems():\n\u001b[0;32m   4504\u001b[0m     \u001b[39mif\u001b[39;00m labels \u001b[39mis\u001b[39;00m \u001b[39mnot\u001b[39;00m \u001b[39mNone\u001b[39;00m:\n\u001b[1;32m-> 4505\u001b[0m         obj \u001b[39m=\u001b[39m obj\u001b[39m.\u001b[39;49m_drop_axis(labels, axis, level\u001b[39m=\u001b[39;49mlevel, errors\u001b[39m=\u001b[39;49merrors)\n\u001b[0;32m   4507\u001b[0m \u001b[39mif\u001b[39;00m inplace:\n\u001b[0;32m   4508\u001b[0m     \u001b[39mself\u001b[39m\u001b[39m.\u001b[39m_update_inplace(obj)\n",
      "File \u001b[1;32mc:\\Users\\Franz.000\\anaconda3\\lib\\site-packages\\pandas\\core\\generic.py:4546\u001b[0m, in \u001b[0;36mNDFrame._drop_axis\u001b[1;34m(self, labels, axis, level, errors, only_slice)\u001b[0m\n\u001b[0;32m   4544\u001b[0m         new_axis \u001b[39m=\u001b[39m axis\u001b[39m.\u001b[39mdrop(labels, level\u001b[39m=\u001b[39mlevel, errors\u001b[39m=\u001b[39merrors)\n\u001b[0;32m   4545\u001b[0m     \u001b[39melse\u001b[39;00m:\n\u001b[1;32m-> 4546\u001b[0m         new_axis \u001b[39m=\u001b[39m axis\u001b[39m.\u001b[39;49mdrop(labels, errors\u001b[39m=\u001b[39;49merrors)\n\u001b[0;32m   4547\u001b[0m     indexer \u001b[39m=\u001b[39m axis\u001b[39m.\u001b[39mget_indexer(new_axis)\n\u001b[0;32m   4549\u001b[0m \u001b[39m# Case for non-unique axis\u001b[39;00m\n\u001b[0;32m   4550\u001b[0m \u001b[39melse\u001b[39;00m:\n",
      "File \u001b[1;32mc:\\Users\\Franz.000\\anaconda3\\lib\\site-packages\\pandas\\core\\indexes\\base.py:6934\u001b[0m, in \u001b[0;36mIndex.drop\u001b[1;34m(self, labels, errors)\u001b[0m\n\u001b[0;32m   6932\u001b[0m \u001b[39mif\u001b[39;00m mask\u001b[39m.\u001b[39many():\n\u001b[0;32m   6933\u001b[0m     \u001b[39mif\u001b[39;00m errors \u001b[39m!=\u001b[39m \u001b[39m\"\u001b[39m\u001b[39mignore\u001b[39m\u001b[39m\"\u001b[39m:\n\u001b[1;32m-> 6934\u001b[0m         \u001b[39mraise\u001b[39;00m \u001b[39mKeyError\u001b[39;00m(\u001b[39mf\u001b[39m\u001b[39m\"\u001b[39m\u001b[39m{\u001b[39;00m\u001b[39mlist\u001b[39m(labels[mask])\u001b[39m}\u001b[39;00m\u001b[39m not found in axis\u001b[39m\u001b[39m\"\u001b[39m)\n\u001b[0;32m   6935\u001b[0m     indexer \u001b[39m=\u001b[39m indexer[\u001b[39m~\u001b[39mmask]\n\u001b[0;32m   6936\u001b[0m \u001b[39mreturn\u001b[39;00m \u001b[39mself\u001b[39m\u001b[39m.\u001b[39mdelete(indexer)\n",
      "\u001b[1;31mKeyError\u001b[0m: \"['country_SI', 'currency_PLN'] not found in axis\""
     ]
    }
   ],
   "source": [
    "X_train_merge.drop(['country_SI','currency_PLN'],axis=1,inplace=True)"
   ]
  },
  {
   "cell_type": "code",
   "execution_count": 21,
   "id": "1bf9b88d",
   "metadata": {
    "scrolled": true
   },
   "outputs": [
    {
     "name": "stdout",
     "output_type": "stream",
     "text": [
      "Decision Tree R2 value: 0.6034869240348693\n"
     ]
    }
   ],
   "source": [
    "# Classification tree\n",
    "tree=DecisionTreeClassifier()\n",
    "tree.fit(X_train_merge,y_train)\n",
    "tree_pred=tree.predict(X_test_merge)\n",
    "print('Decision Tree R2 value:',tree.score(X_test_merge,y_test))"
   ]
  },
  {
   "cell_type": "code",
   "execution_count": 22,
   "id": "29f143f9",
   "metadata": {
    "scrolled": true
   },
   "outputs": [
    {
     "name": "stdout",
     "output_type": "stream",
     "text": [
      "Logistical Regression R2 value: 0.660661408606614\n"
     ]
    },
    {
     "name": "stderr",
     "output_type": "stream",
     "text": [
      "c:\\Users\\Franz.000\\anaconda3\\lib\\site-packages\\sklearn\\linear_model\\_logistic.py:458: ConvergenceWarning: lbfgs failed to converge (status=1):\n",
      "STOP: TOTAL NO. of ITERATIONS REACHED LIMIT.\n",
      "\n",
      "Increase the number of iterations (max_iter) or scale the data as shown in:\n",
      "    https://scikit-learn.org/stable/modules/preprocessing.html\n",
      "Please also refer to the documentation for alternative solver options:\n",
      "    https://scikit-learn.org/stable/modules/linear_model.html#logistic-regression\n",
      "  n_iter_i = _check_optimize_result(\n"
     ]
    }
   ],
   "source": [
    "# Logistical Regression\n",
    "log=LogisticRegression()\n",
    "log.fit(X_train_merge,y_train)\n",
    "log_pred=log.predict(X_test_merge)\n",
    "print('Logistical Regression R2 value:',log.score(X_test_merge,y_test))"
   ]
  },
  {
   "cell_type": "code",
   "execution_count": 24,
   "id": "9e2111b1",
   "metadata": {},
   "outputs": [
    {
     "name": "stdout",
     "output_type": "stream",
     "text": [
      "K-nearest neighbours classification R2 value: 0.6374152483741525\n"
     ]
    }
   ],
   "source": [
    "# KNN\n",
    "knn=neighbors.KNeighborsClassifier()\n",
    "knn.fit(X_train_merge,y_train)\n",
    "knn_pred=knn.predict(X_test_merge)\n",
    "print('K-nearest neighbours classification R2 value:',knn.score(X_test_merge,y_test))"
   ]
  },
  {
   "cell_type": "code",
   "execution_count": null,
   "id": "932335f2",
   "metadata": {
    "scrolled": false
   },
   "outputs": [],
   "source": [
    "# Crosstab\n",
    "print('Decision Tree')\n",
    "display(pd.crosstab(y_test,tree_pred,normalize=True, rownames=['True'], colnames=['Prediction']))\n",
    "print('Logistical Regression')\n",
    "display(pd.crosstab(y_test,log_pred,normalize=True, rownames=['True'], colnames=['Prediction']))\n",
    "print('KNN')\n",
    "display(pd.crosstab(y_test,knn_pred,normalize=True, rownames=['True'], colnames=['Prediction']))"
   ]
  },
  {
   "cell_type": "code",
   "execution_count": 1,
   "id": "c1213057",
   "metadata": {
    "scrolled": false
   },
   "outputs": [
    {
     "ename": "NameError",
     "evalue": "name 'y_test' is not defined",
     "output_type": "error",
     "traceback": [
      "\u001b[1;31m---------------------------------------------------------------------------\u001b[0m",
      "\u001b[1;31mNameError\u001b[0m                                 Traceback (most recent call last)",
      "Cell \u001b[1;32mIn[1], line 3\u001b[0m\n\u001b[0;32m      1\u001b[0m \u001b[39m# Classification Report\u001b[39;00m\n\u001b[0;32m      2\u001b[0m \u001b[39mfrom\u001b[39;00m \u001b[39msklearn\u001b[39;00m\u001b[39m.\u001b[39;00m\u001b[39mmetrics\u001b[39;00m \u001b[39mimport\u001b[39;00m classification_report\n\u001b[1;32m----> 3\u001b[0m \u001b[39mprint\u001b[39m(\u001b[39m'\u001b[39m\u001b[39mDecision Tree \u001b[39m\u001b[39m\\n\u001b[39;00m\u001b[39m'\u001b[39m,classification_report(y_test,tree_pred))\n\u001b[0;32m      4\u001b[0m \u001b[39mprint\u001b[39m(\u001b[39m'\u001b[39m\u001b[39mLogistical Regression \u001b[39m\u001b[39m\\n\u001b[39;00m\u001b[39m'\u001b[39m,classification_report(y_test,log_pred))\n\u001b[0;32m      5\u001b[0m \u001b[39mprint\u001b[39m(\u001b[39m'\u001b[39m\u001b[39mKNN \u001b[39m\u001b[39m\\n\u001b[39;00m\u001b[39m'\u001b[39m,classification_report(y_test,knn_pred))\n",
      "\u001b[1;31mNameError\u001b[0m: name 'y_test' is not defined"
     ]
    }
   ],
   "source": [
    "# Classification Report\n",
    "from sklearn.metrics import classification_report\n",
    "print('Decision Tree \\n',classification_report(y_test,tree_pred))\n",
    "print('Logistical Regression \\n',classification_report(y_test,log_pred))\n",
    "print('KNN \\n',classification_report(y_test,knn_pred))"
   ]
  },
  {
   "cell_type": "code",
   "execution_count": null,
   "id": "b7bbd3e5",
   "metadata": {},
   "outputs": [],
   "source": [
    "df_y.value_counts(normalize=True)"
   ]
  },
  {
   "cell_type": "code",
   "execution_count": null,
   "id": "de9d06cb",
   "metadata": {},
   "outputs": [],
   "source": [
    "# Conclusion\n",
    "print('we can see that the logistical regresson has the better overall value with a F1 Score of 0.9, it interesting that the decision tree has significant lower values for false positives')"
   ]
  },
  {
   "cell_type": "code",
   "execution_count": null,
   "id": "0c19437a",
   "metadata": {
    "scrolled": true
   },
   "outputs": [],
   "source": [
    "# Buildung the Coefficient DataFrame\n",
    "log_importance=pd.DataFrame({'Variables':X_train_merge.columns,'Coefficient':log.coef_[0]})\n",
    "log_importance_negatives=log_importance.sort_values('Coefficient',ascending=True)\n",
    "log_importance_positives=log_importance.sort_values('Coefficient',ascending=False)\n",
    "display(log_importance_positives)"
   ]
  },
  {
   "cell_type": "code",
   "execution_count": null,
   "id": "d9291225",
   "metadata": {
    "scrolled": true
   },
   "outputs": [],
   "source": [
    "display(log_importance_negatives)"
   ]
  },
  {
   "cell_type": "code",
   "execution_count": null,
   "id": "3424e0a3",
   "metadata": {
    "scrolled": false
   },
   "outputs": [],
   "source": [
    "# Plotting the Coefficeint DataFrame\n",
    "plt.figure(figsize=[10,10])\n",
    "plt.plot(log_importance_negatives['Variables'][0:5],log_importance_negatives['Coefficient'][0:5])\n",
    "plt.ylabel('Coefficient')\n",
    "plt.xlabel('Variables')\n",
    "plt.title('Top 5 negative Coefficients');\n",
    "plt.show()\n",
    "plt.figure(figsize=[10,10])\n",
    "plt.plot(log_importance_positives['Variables'][0:5],log_importance_positives['Coefficient'][0:5])\n",
    "plt.ylabel('Coefficient')\n",
    "plt.xlabel('Variables')\n",
    "plt.title('Top 5 positives Coefficients');"
   ]
  },
  {
   "attachments": {},
   "cell_type": "markdown",
   "id": "ddfecbf0",
   "metadata": {},
   "source": [
    "#### Tests"
   ]
  },
  {
   "cell_type": "code",
   "execution_count": null,
   "id": "a978d230",
   "metadata": {},
   "outputs": [],
   "source": []
  }
 ],
 "metadata": {
  "kernelspec": {
   "display_name": "Python 3 (ipykernel)",
   "language": "python",
   "name": "python3"
  },
  "language_info": {
   "codemirror_mode": {
    "name": "ipython",
    "version": 3
   },
   "file_extension": ".py",
   "mimetype": "text/x-python",
   "name": "python",
   "nbconvert_exporter": "python",
   "pygments_lexer": "ipython3",
   "version": "3.10.9"
  }
 },
 "nbformat": 4,
 "nbformat_minor": 5
}
