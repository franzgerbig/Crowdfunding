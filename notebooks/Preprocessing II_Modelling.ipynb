{
 "cells": [
  {
   "attachments": {},
   "cell_type": "markdown",
   "id": "c21a358a",
   "metadata": {},
   "source": [
    "### Import"
   ]
  },
  {
   "cell_type": "code",
   "execution_count": 1,
   "id": "7f0a58e4",
   "metadata": {},
   "outputs": [],
   "source": [
    "import pandas as pd\n",
    "import numpy as np\n",
    "import matplotlib.pyplot as plt\n",
    "import seaborn as sns\n",
    "import scipy.stats as stats\n",
    "%matplotlib inline"
   ]
  },
  {
   "cell_type": "code",
   "execution_count": 66,
   "id": "09e91858",
   "metadata": {},
   "outputs": [],
   "source": [
    "# Customazation oif the Variables, yes =1 and no =0\n",
    "# simplification of countries\n",
    "simp_country=1\n",
    "# Simplification of currency\n",
    "simp_currency=1\n",
    "# Simplification of main_category:\n",
    "simp_category=1\n",
    "# overestimation\n",
    "over_estimation=0\n",
    "# Underestimation\n",
    "under_estimation=0\n",
    "# Categorization of the backers count\n",
    "# Attention: Very costly computation \n",
    "cat_backers_count=0"
   ]
  },
  {
   "cell_type": "code",
   "execution_count": 67,
   "id": "bc5704c5",
   "metadata": {},
   "outputs": [],
   "source": [
    "# Chosen Variables\n",
    "not_used_list=['city', 'usd_pledged','sub_category','backers_count','launched_year']\n",
    "num_list=['goal_usd']\n",
    "cat_list=['country','currency','main_category','creator_projects']"
   ]
  },
  {
   "cell_type": "code",
   "execution_count": 68,
   "id": "89131ca2",
   "metadata": {},
   "outputs": [],
   "source": [
    "# The variable city contain over 11000 different entries, ohe possible with so many variables?\n",
    "# For the time being, city variable will be dropped"
   ]
  },
  {
   "attachments": {},
   "cell_type": "markdown",
   "id": "92c8e235",
   "metadata": {},
   "source": [
    "### data import"
   ]
  },
  {
   "cell_type": "code",
   "execution_count": 2,
   "id": "bfcfccbd",
   "metadata": {},
   "outputs": [
    {
     "data": {
      "text/html": [
       "<div>\n",
       "<style scoped>\n",
       "    .dataframe tbody tr th:only-of-type {\n",
       "        vertical-align: middle;\n",
       "    }\n",
       "\n",
       "    .dataframe tbody tr th {\n",
       "        vertical-align: top;\n",
       "    }\n",
       "\n",
       "    .dataframe thead th {\n",
       "        text-align: right;\n",
       "    }\n",
       "</style>\n",
       "<table border=\"1\" class=\"dataframe\">\n",
       "  <thead>\n",
       "    <tr style=\"text-align: right;\">\n",
       "      <th></th>\n",
       "      <th>currency</th>\n",
       "      <th>backers_count</th>\n",
       "      <th>country</th>\n",
       "      <th>status</th>\n",
       "      <th>usd_pledged</th>\n",
       "      <th>main_category</th>\n",
       "      <th>goal_usd</th>\n",
       "      <th>city</th>\n",
       "      <th>duration</th>\n",
       "      <th>launched_year</th>\n",
       "      <th>creator_projects</th>\n",
       "    </tr>\n",
       "    <tr>\n",
       "      <th>id</th>\n",
       "      <th></th>\n",
       "      <th></th>\n",
       "      <th></th>\n",
       "      <th></th>\n",
       "      <th></th>\n",
       "      <th></th>\n",
       "      <th></th>\n",
       "      <th></th>\n",
       "      <th></th>\n",
       "      <th></th>\n",
       "      <th></th>\n",
       "    </tr>\n",
       "  </thead>\n",
       "  <tbody>\n",
       "    <tr>\n",
       "      <th>1714728788</th>\n",
       "      <td>CAD</td>\n",
       "      <td>16</td>\n",
       "      <td>CA</td>\n",
       "      <td>failed</td>\n",
       "      <td>577.902078</td>\n",
       "      <td>food</td>\n",
       "      <td>785.82065</td>\n",
       "      <td>Victoria</td>\n",
       "      <td>60.0</td>\n",
       "      <td>2018</td>\n",
       "      <td>1</td>\n",
       "    </tr>\n",
       "    <tr>\n",
       "      <th>1639965256</th>\n",
       "      <td>USD</td>\n",
       "      <td>7</td>\n",
       "      <td>US</td>\n",
       "      <td>successful</td>\n",
       "      <td>211.000000</td>\n",
       "      <td>publishing</td>\n",
       "      <td>93.00000</td>\n",
       "      <td>San Diego</td>\n",
       "      <td>24.0</td>\n",
       "      <td>2014</td>\n",
       "      <td>1</td>\n",
       "    </tr>\n",
       "    <tr>\n",
       "      <th>1582062943</th>\n",
       "      <td>USD</td>\n",
       "      <td>99</td>\n",
       "      <td>US</td>\n",
       "      <td>successful</td>\n",
       "      <td>4697.000000</td>\n",
       "      <td>food</td>\n",
       "      <td>1500.00000</td>\n",
       "      <td>Philadelphia</td>\n",
       "      <td>30.0</td>\n",
       "      <td>2020</td>\n",
       "      <td>1</td>\n",
       "    </tr>\n",
       "    <tr>\n",
       "      <th>1888984372</th>\n",
       "      <td>USD</td>\n",
       "      <td>3</td>\n",
       "      <td>US</td>\n",
       "      <td>failed</td>\n",
       "      <td>222.000000</td>\n",
       "      <td>technology</td>\n",
       "      <td>25000.00000</td>\n",
       "      <td>Chicago</td>\n",
       "      <td>60.0</td>\n",
       "      <td>2019</td>\n",
       "      <td>1</td>\n",
       "    </tr>\n",
       "    <tr>\n",
       "      <th>1409770586</th>\n",
       "      <td>USD</td>\n",
       "      <td>100</td>\n",
       "      <td>US</td>\n",
       "      <td>successful</td>\n",
       "      <td>5410.000000</td>\n",
       "      <td>publishing</td>\n",
       "      <td>5000.00000</td>\n",
       "      <td>Madrid</td>\n",
       "      <td>30.0</td>\n",
       "      <td>2015</td>\n",
       "      <td>1</td>\n",
       "    </tr>\n",
       "  </tbody>\n",
       "</table>\n",
       "</div>"
      ],
      "text/plain": [
       "           currency  backers_count country      status  usd_pledged  \\\n",
       "id                                                                    \n",
       "1714728788      CAD             16      CA      failed   577.902078   \n",
       "1639965256      USD              7      US  successful   211.000000   \n",
       "1582062943      USD             99      US  successful  4697.000000   \n",
       "1888984372      USD              3      US      failed   222.000000   \n",
       "1409770586      USD            100      US  successful  5410.000000   \n",
       "\n",
       "           main_category     goal_usd          city  duration  launched_year  \\\n",
       "id                                                                             \n",
       "1714728788          food    785.82065      Victoria      60.0           2018   \n",
       "1639965256    publishing     93.00000     San Diego      24.0           2014   \n",
       "1582062943          food   1500.00000  Philadelphia      30.0           2020   \n",
       "1888984372    technology  25000.00000       Chicago      60.0           2019   \n",
       "1409770586    publishing   5000.00000        Madrid      30.0           2015   \n",
       "\n",
       "           creator_projects  \n",
       "id                           \n",
       "1714728788                1  \n",
       "1639965256                1  \n",
       "1582062943                1  \n",
       "1888984372                1  \n",
       "1409770586                1  "
      ]
     },
     "metadata": {},
     "output_type": "display_data"
    },
    {
     "name": "stdout",
     "output_type": "stream",
     "text": [
      "<class 'pandas.core.frame.DataFrame'>\n",
      "Int64Index: 180677 entries, 1714728788 to 1126079486\n",
      "Data columns (total 11 columns):\n",
      " #   Column            Non-Null Count   Dtype  \n",
      "---  ------            --------------   -----  \n",
      " 0   currency          180677 non-null  object \n",
      " 1   backers_count     180677 non-null  int64  \n",
      " 2   country           180677 non-null  object \n",
      " 3   status            180677 non-null  object \n",
      " 4   usd_pledged       180677 non-null  float64\n",
      " 5   main_category     180677 non-null  object \n",
      " 6   goal_usd          180677 non-null  float64\n",
      " 7   city              180677 non-null  object \n",
      " 8   duration          180677 non-null  float64\n",
      " 9   launched_year     180677 non-null  int64  \n",
      " 10  creator_projects  180677 non-null  object \n",
      "dtypes: float64(3), int64(2), object(6)\n",
      "memory usage: 16.5+ MB\n"
     ]
    },
    {
     "data": {
      "text/plain": [
       "None"
      ]
     },
     "metadata": {},
     "output_type": "display_data"
    }
   ],
   "source": [
    "imp=r\"...\\GitHub\\MAY23_BDA_INT_Crowdfunding\\data\\kaggle\\Kaggle_deduplicated.csv\"\n",
    "df=pd.read_csv(imp,index_col='id')\n",
    "df.drop(columns='Unnamed: 0',inplace=True)\n",
    "display(df.head())\n",
    "display(df.info())"
   ]
  },
  {
   "cell_type": "code",
   "execution_count": 5,
   "id": "bd26ee5a",
   "metadata": {},
   "outputs": [],
   "source": [
    "df['status'].replace(['successful','failed'],[1,0],inplace=True)"
   ]
  },
  {
   "cell_type": "code",
   "execution_count": 10,
   "id": "3935daa9",
   "metadata": {},
   "outputs": [],
   "source": [
    "for c in df.country:\n",
    "    df.loc[df[\"country\"]==c,\"success_rate\"]=sum(df.status)/len(df.status)\n",
    "df[\"success_rate\"].value_counts()"
   ]
  },
  {
   "cell_type": "code",
   "execution_count": 4,
   "id": "d3936209",
   "metadata": {},
   "outputs": [
    {
     "data": {
      "text/html": [
       "<div>\n",
       "<style scoped>\n",
       "    .dataframe tbody tr th:only-of-type {\n",
       "        vertical-align: middle;\n",
       "    }\n",
       "\n",
       "    .dataframe tbody tr th {\n",
       "        vertical-align: top;\n",
       "    }\n",
       "\n",
       "    .dataframe thead th {\n",
       "        text-align: right;\n",
       "    }\n",
       "</style>\n",
       "<table border=\"1\" class=\"dataframe\">\n",
       "  <thead>\n",
       "    <tr style=\"text-align: right;\">\n",
       "      <th>status</th>\n",
       "      <th>failed</th>\n",
       "      <th>successful</th>\n",
       "    </tr>\n",
       "    <tr>\n",
       "      <th>country</th>\n",
       "      <th></th>\n",
       "      <th></th>\n",
       "    </tr>\n",
       "  </thead>\n",
       "  <tbody>\n",
       "    <tr>\n",
       "      <th>AT</th>\n",
       "      <td>267</td>\n",
       "      <td>178</td>\n",
       "    </tr>\n",
       "    <tr>\n",
       "      <th>AU</th>\n",
       "      <td>2028</td>\n",
       "      <td>2165</td>\n",
       "    </tr>\n",
       "    <tr>\n",
       "      <th>BE</th>\n",
       "      <td>309</td>\n",
       "      <td>240</td>\n",
       "    </tr>\n",
       "    <tr>\n",
       "      <th>CA</th>\n",
       "      <td>3665</td>\n",
       "      <td>4669</td>\n",
       "    </tr>\n",
       "    <tr>\n",
       "      <th>CH</th>\n",
       "      <td>350</td>\n",
       "      <td>287</td>\n",
       "    </tr>\n",
       "    <tr>\n",
       "      <th>DE</th>\n",
       "      <td>1727</td>\n",
       "      <td>1494</td>\n",
       "    </tr>\n",
       "    <tr>\n",
       "      <th>DK</th>\n",
       "      <td>344</td>\n",
       "      <td>461</td>\n",
       "    </tr>\n",
       "    <tr>\n",
       "      <th>ES</th>\n",
       "      <td>1086</td>\n",
       "      <td>911</td>\n",
       "    </tr>\n",
       "    <tr>\n",
       "      <th>FR</th>\n",
       "      <td>1147</td>\n",
       "      <td>1463</td>\n",
       "    </tr>\n",
       "    <tr>\n",
       "      <th>GB</th>\n",
       "      <td>7590</td>\n",
       "      <td>12663</td>\n",
       "    </tr>\n",
       "    <tr>\n",
       "      <th>GR</th>\n",
       "      <td>0</td>\n",
       "      <td>10</td>\n",
       "    </tr>\n",
       "    <tr>\n",
       "      <th>HK</th>\n",
       "      <td>279</td>\n",
       "      <td>864</td>\n",
       "    </tr>\n",
       "    <tr>\n",
       "      <th>IE</th>\n",
       "      <td>296</td>\n",
       "      <td>260</td>\n",
       "    </tr>\n",
       "    <tr>\n",
       "      <th>IT</th>\n",
       "      <td>1510</td>\n",
       "      <td>753</td>\n",
       "    </tr>\n",
       "    <tr>\n",
       "      <th>JP</th>\n",
       "      <td>183</td>\n",
       "      <td>299</td>\n",
       "    </tr>\n",
       "    <tr>\n",
       "      <th>LU</th>\n",
       "      <td>24</td>\n",
       "      <td>32</td>\n",
       "    </tr>\n",
       "    <tr>\n",
       "      <th>MX</th>\n",
       "      <td>1513</td>\n",
       "      <td>1066</td>\n",
       "    </tr>\n",
       "    <tr>\n",
       "      <th>NL</th>\n",
       "      <td>866</td>\n",
       "      <td>703</td>\n",
       "    </tr>\n",
       "    <tr>\n",
       "      <th>NO</th>\n",
       "      <td>226</td>\n",
       "      <td>207</td>\n",
       "    </tr>\n",
       "    <tr>\n",
       "      <th>NZ</th>\n",
       "      <td>369</td>\n",
       "      <td>427</td>\n",
       "    </tr>\n",
       "    <tr>\n",
       "      <th>PL</th>\n",
       "      <td>3</td>\n",
       "      <td>13</td>\n",
       "    </tr>\n",
       "    <tr>\n",
       "      <th>SE</th>\n",
       "      <td>610</td>\n",
       "      <td>694</td>\n",
       "    </tr>\n",
       "    <tr>\n",
       "      <th>SG</th>\n",
       "      <td>255</td>\n",
       "      <td>433</td>\n",
       "    </tr>\n",
       "    <tr>\n",
       "      <th>SI</th>\n",
       "      <td>0</td>\n",
       "      <td>2</td>\n",
       "    </tr>\n",
       "    <tr>\n",
       "      <th>US</th>\n",
       "      <td>50932</td>\n",
       "      <td>74804</td>\n",
       "    </tr>\n",
       "  </tbody>\n",
       "</table>\n",
       "</div>"
      ],
      "text/plain": [
       "status   failed  successful\n",
       "country                    \n",
       "AT          267         178\n",
       "AU         2028        2165\n",
       "BE          309         240\n",
       "CA         3665        4669\n",
       "CH          350         287\n",
       "DE         1727        1494\n",
       "DK          344         461\n",
       "ES         1086         911\n",
       "FR         1147        1463\n",
       "GB         7590       12663\n",
       "GR            0          10\n",
       "HK          279         864\n",
       "IE          296         260\n",
       "IT         1510         753\n",
       "JP          183         299\n",
       "LU           24          32\n",
       "MX         1513        1066\n",
       "NL          866         703\n",
       "NO          226         207\n",
       "NZ          369         427\n",
       "PL            3          13\n",
       "SE          610         694\n",
       "SG          255         433\n",
       "SI            0           2\n",
       "US        50932       74804"
      ]
     },
     "execution_count": 4,
     "metadata": {},
     "output_type": "execute_result"
    }
   ],
   "source": [
    "pd.crosstab(df.country,df.status,normalize='index')"
   ]
  },
  {
   "attachments": {},
   "cell_type": "markdown",
   "id": "4a5ca59c",
   "metadata": {},
   "source": [
    "### Variable Simplifications"
   ]
  },
  {
   "cell_type": "code",
   "execution_count": 70,
   "id": "940a00d1",
   "metadata": {},
   "outputs": [],
   "source": [
    "# Categorisation of the backers count\n",
    "if cat_backers_count==1:\n",
    "    df['backers_count'].replace(range(0,101),'0-100',inplace=True)\n",
    "    df['backers_count'].replace(range(101,1001),'101-1000',inplace=True)\n",
    "    df['backers_count'].replace(range(1001,10001),'1001-10000',inplace=True)\n",
    "    df['backers_count'].replace(range(10001,200000),'10000+',inplace=True)"
   ]
  },
  {
   "cell_type": "code",
   "execution_count": 71,
   "id": "1ec38293",
   "metadata": {},
   "outputs": [],
   "source": [
    "# Potential Simplification of variables\n",
    "if simp_country==1:\n",
    "    df['country'].replace(['GB','CA'],'GB,CA',inplace=True)\n",
    "    df['country'].replace(['DE','FR','IT','ES','NL','SE','DK','CH','IE','BE','AT','NO','LU','PL','GR','SI'],'Europe',inplace=True)\n",
    "    df['country'].replace(['HK','SG','JP'],'Asia',inplace=True)\n",
    "    df['country'].replace(['MX'],'South America and Mexico',inplace=True)\n",
    "    df['country'].replace(['AU','NZ'],'Australia and new Zealand',inplace=True)"
   ]
  },
  {
   "cell_type": "code",
   "execution_count": 72,
   "id": "f50f7601",
   "metadata": {},
   "outputs": [],
   "source": [
    "if simp_category==1:\n",
    "    df['main_category'].replace(['music','film & video','games','comics','dance'],'Entertainment',inplace=True)\n",
    "    df['main_category'].replace(['art','fashion','design','photography','theater'],'Culture',inplace=True)\n",
    "    df['main_category'].replace(['technology','publishing','food','crafts','journalism'],'Others',inplace=True)"
   ]
  },
  {
   "cell_type": "code",
   "execution_count": 73,
   "id": "0d2fd473",
   "metadata": {},
   "outputs": [],
   "source": [
    "if simp_currency==1:\n",
    "    df['currency'].replace(['AUD','MXN','SEK','HKD','NZD','DKK','SGD','CHF','JPY','NOK','PLN'],'Others',inplace=True)"
   ]
  },
  {
   "attachments": {},
   "cell_type": "markdown",
   "id": "57af1db3",
   "metadata": {},
   "source": [
    "### Split of the data"
   ]
  },
  {
   "cell_type": "code",
   "execution_count": 74,
   "id": "f034861c",
   "metadata": {
    "scrolled": true
   },
   "outputs": [],
   "source": [
    "# Target Variable\n",
    "df['status'].replace(['successful','failed'],[1,0],inplace=True)\n",
    "df_y=df['status']"
   ]
  },
  {
   "cell_type": "code",
   "execution_count": 75,
   "id": "f71c0031",
   "metadata": {
    "scrolled": true
   },
   "outputs": [],
   "source": [
    "from sklearn.model_selection import train_test_split\n",
    "X_train,X_test,y_train,y_test=train_test_split(df.drop(columns='status',axis=1),df_y,test_size=0.2,random_state=42)"
   ]
  },
  {
   "attachments": {},
   "cell_type": "markdown",
   "id": "0f31a633",
   "metadata": {},
   "source": [
    "### Preprocessing of the data"
   ]
  },
  {
   "cell_type": "code",
   "execution_count": 76,
   "id": "0232e206",
   "metadata": {
    "scrolled": true
   },
   "outputs": [
    {
     "name": "stderr",
     "output_type": "stream",
     "text": [
      "C:\\Users\\Franz.000\\AppData\\Local\\Temp\\ipykernel_6848\\1827690632.py:7: SettingWithCopyWarning: \n",
      "A value is trying to be set on a copy of a slice from a DataFrame.\n",
      "Try using .loc[row_indexer,col_indexer] = value instead\n",
      "\n",
      "See the caveats in the documentation: https://pandas.pydata.org/pandas-docs/stable/user_guide/indexing.html#returning-a-view-versus-a-copy\n",
      "  X_train_num[num_list]=sc.fit_transform(X_train[num_list])\n",
      "C:\\Users\\Franz.000\\AppData\\Local\\Temp\\ipykernel_6848\\1827690632.py:8: SettingWithCopyWarning: \n",
      "A value is trying to be set on a copy of a slice from a DataFrame.\n",
      "Try using .loc[row_indexer,col_indexer] = value instead\n",
      "\n",
      "See the caveats in the documentation: https://pandas.pydata.org/pandas-docs/stable/user_guide/indexing.html#returning-a-view-versus-a-copy\n",
      "  X_test_num[num_list]=sc.fit_transform(X_test[num_list])\n"
     ]
    }
   ],
   "source": [
    "# standardizing of the numerical variables\n",
    "from sklearn.preprocessing import StandardScaler\n",
    "sc=StandardScaler()\n",
    "# \n",
    "X_train_num=X_train[num_list]\n",
    "X_test_num=X_test[num_list]\n",
    "X_train_num[num_list]=sc.fit_transform(X_train[num_list])\n",
    "X_test_num[num_list]=sc.fit_transform(X_test[num_list])"
   ]
  },
  {
   "cell_type": "code",
   "execution_count": 77,
   "id": "c5edcc12",
   "metadata": {
    "scrolled": true
   },
   "outputs": [
    {
     "name": "stderr",
     "output_type": "stream",
     "text": [
      "c:\\Users\\Franz.000\\anaconda3\\lib\\site-packages\\sklearn\\preprocessing\\_encoders.py:828: FutureWarning: `sparse` was renamed to `sparse_output` in version 1.2 and will be removed in 1.4. `sparse_output` is ignored unless you leave `sparse` to its default value.\n",
      "  warnings.warn(\n"
     ]
    }
   ],
   "source": [
    "# OneHotEncoding of the categorical variable of X_train\n",
    "from sklearn.preprocessing import OneHotEncoder\n",
    "ohe=OneHotEncoder(sparse=False)\n",
    "ohe_train=ohe.fit_transform(X_train[cat_list])\n",
    "column_name=ohe.get_feature_names_out(cat_list)\n",
    "X_train_ohe=pd.DataFrame(ohe_train,columns=column_name,index=X_train.index)"
   ]
  },
  {
   "cell_type": "code",
   "execution_count": 78,
   "id": "253942ca",
   "metadata": {
    "scrolled": true
   },
   "outputs": [
    {
     "name": "stderr",
     "output_type": "stream",
     "text": [
      "c:\\Users\\Franz.000\\anaconda3\\lib\\site-packages\\sklearn\\preprocessing\\_encoders.py:828: FutureWarning: `sparse` was renamed to `sparse_output` in version 1.2 and will be removed in 1.4. `sparse_output` is ignored unless you leave `sparse` to its default value.\n",
      "  warnings.warn(\n"
     ]
    }
   ],
   "source": [
    "# OHE X_test variable\n",
    "ohe2=OneHotEncoder(sparse=False)\n",
    "ohe_test=ohe2.fit_transform(X_test[cat_list])\n",
    "column_name2=ohe2.get_feature_names_out(cat_list)\n",
    "X_test_ohe=pd.DataFrame(ohe_test,columns=column_name2,index=X_test.index)"
   ]
  },
  {
   "cell_type": "code",
   "execution_count": 79,
   "id": "511ce896",
   "metadata": {
    "scrolled": false
   },
   "outputs": [
    {
     "data": {
      "text/html": [
       "<div>\n",
       "<style scoped>\n",
       "    .dataframe tbody tr th:only-of-type {\n",
       "        vertical-align: middle;\n",
       "    }\n",
       "\n",
       "    .dataframe tbody tr th {\n",
       "        vertical-align: top;\n",
       "    }\n",
       "\n",
       "    .dataframe thead th {\n",
       "        text-align: right;\n",
       "    }\n",
       "</style>\n",
       "<table border=\"1\" class=\"dataframe\">\n",
       "  <thead>\n",
       "    <tr style=\"text-align: right;\">\n",
       "      <th></th>\n",
       "      <th>goal_usd</th>\n",
       "      <th>country_Asia</th>\n",
       "      <th>country_Australia and new Zealand</th>\n",
       "      <th>country_Europe</th>\n",
       "      <th>country_GB,CA</th>\n",
       "      <th>country_South America and Mexico</th>\n",
       "      <th>country_US</th>\n",
       "      <th>currency_CAD</th>\n",
       "      <th>currency_EUR</th>\n",
       "      <th>currency_GBP</th>\n",
       "      <th>currency_Others</th>\n",
       "      <th>currency_USD</th>\n",
       "      <th>main_category_Culture</th>\n",
       "      <th>main_category_Entertainment</th>\n",
       "      <th>main_category_Others</th>\n",
       "      <th>creator_projects_1</th>\n",
       "      <th>creator_projects_16-30</th>\n",
       "      <th>creator_projects_2-5</th>\n",
       "      <th>creator_projects_31+</th>\n",
       "      <th>creator_projects_6-15</th>\n",
       "    </tr>\n",
       "    <tr>\n",
       "      <th>id</th>\n",
       "      <th></th>\n",
       "      <th></th>\n",
       "      <th></th>\n",
       "      <th></th>\n",
       "      <th></th>\n",
       "      <th></th>\n",
       "      <th></th>\n",
       "      <th></th>\n",
       "      <th></th>\n",
       "      <th></th>\n",
       "      <th></th>\n",
       "      <th></th>\n",
       "      <th></th>\n",
       "      <th></th>\n",
       "      <th></th>\n",
       "      <th></th>\n",
       "      <th></th>\n",
       "      <th></th>\n",
       "      <th></th>\n",
       "      <th></th>\n",
       "    </tr>\n",
       "  </thead>\n",
       "  <tbody>\n",
       "    <tr>\n",
       "      <th>781204563</th>\n",
       "      <td>-0.036060</td>\n",
       "      <td>0.0</td>\n",
       "      <td>0.0</td>\n",
       "      <td>0.0</td>\n",
       "      <td>0.0</td>\n",
       "      <td>0.0</td>\n",
       "      <td>1.0</td>\n",
       "      <td>0.0</td>\n",
       "      <td>0.0</td>\n",
       "      <td>0.0</td>\n",
       "      <td>0.0</td>\n",
       "      <td>1.0</td>\n",
       "      <td>0.0</td>\n",
       "      <td>1.0</td>\n",
       "      <td>0.0</td>\n",
       "      <td>1.0</td>\n",
       "      <td>0.0</td>\n",
       "      <td>0.0</td>\n",
       "      <td>0.0</td>\n",
       "      <td>0.0</td>\n",
       "    </tr>\n",
       "    <tr>\n",
       "      <th>778958499</th>\n",
       "      <td>-0.031843</td>\n",
       "      <td>0.0</td>\n",
       "      <td>0.0</td>\n",
       "      <td>0.0</td>\n",
       "      <td>0.0</td>\n",
       "      <td>0.0</td>\n",
       "      <td>1.0</td>\n",
       "      <td>0.0</td>\n",
       "      <td>0.0</td>\n",
       "      <td>0.0</td>\n",
       "      <td>0.0</td>\n",
       "      <td>1.0</td>\n",
       "      <td>0.0</td>\n",
       "      <td>1.0</td>\n",
       "      <td>0.0</td>\n",
       "      <td>1.0</td>\n",
       "      <td>0.0</td>\n",
       "      <td>0.0</td>\n",
       "      <td>0.0</td>\n",
       "      <td>0.0</td>\n",
       "    </tr>\n",
       "    <tr>\n",
       "      <th>819008480</th>\n",
       "      <td>-0.034430</td>\n",
       "      <td>0.0</td>\n",
       "      <td>0.0</td>\n",
       "      <td>0.0</td>\n",
       "      <td>0.0</td>\n",
       "      <td>0.0</td>\n",
       "      <td>1.0</td>\n",
       "      <td>0.0</td>\n",
       "      <td>0.0</td>\n",
       "      <td>0.0</td>\n",
       "      <td>0.0</td>\n",
       "      <td>1.0</td>\n",
       "      <td>0.0</td>\n",
       "      <td>0.0</td>\n",
       "      <td>1.0</td>\n",
       "      <td>1.0</td>\n",
       "      <td>0.0</td>\n",
       "      <td>0.0</td>\n",
       "      <td>0.0</td>\n",
       "      <td>0.0</td>\n",
       "    </tr>\n",
       "    <tr>\n",
       "      <th>1251003856</th>\n",
       "      <td>-0.034635</td>\n",
       "      <td>0.0</td>\n",
       "      <td>0.0</td>\n",
       "      <td>1.0</td>\n",
       "      <td>0.0</td>\n",
       "      <td>0.0</td>\n",
       "      <td>0.0</td>\n",
       "      <td>0.0</td>\n",
       "      <td>0.0</td>\n",
       "      <td>0.0</td>\n",
       "      <td>1.0</td>\n",
       "      <td>0.0</td>\n",
       "      <td>0.0</td>\n",
       "      <td>1.0</td>\n",
       "      <td>0.0</td>\n",
       "      <td>1.0</td>\n",
       "      <td>0.0</td>\n",
       "      <td>0.0</td>\n",
       "      <td>0.0</td>\n",
       "      <td>0.0</td>\n",
       "    </tr>\n",
       "    <tr>\n",
       "      <th>116494538</th>\n",
       "      <td>-0.034965</td>\n",
       "      <td>1.0</td>\n",
       "      <td>0.0</td>\n",
       "      <td>0.0</td>\n",
       "      <td>0.0</td>\n",
       "      <td>0.0</td>\n",
       "      <td>0.0</td>\n",
       "      <td>0.0</td>\n",
       "      <td>0.0</td>\n",
       "      <td>0.0</td>\n",
       "      <td>1.0</td>\n",
       "      <td>0.0</td>\n",
       "      <td>1.0</td>\n",
       "      <td>0.0</td>\n",
       "      <td>0.0</td>\n",
       "      <td>1.0</td>\n",
       "      <td>0.0</td>\n",
       "      <td>0.0</td>\n",
       "      <td>0.0</td>\n",
       "      <td>0.0</td>\n",
       "    </tr>\n",
       "    <tr>\n",
       "      <th>...</th>\n",
       "      <td>...</td>\n",
       "      <td>...</td>\n",
       "      <td>...</td>\n",
       "      <td>...</td>\n",
       "      <td>...</td>\n",
       "      <td>...</td>\n",
       "      <td>...</td>\n",
       "      <td>...</td>\n",
       "      <td>...</td>\n",
       "      <td>...</td>\n",
       "      <td>...</td>\n",
       "      <td>...</td>\n",
       "      <td>...</td>\n",
       "      <td>...</td>\n",
       "      <td>...</td>\n",
       "      <td>...</td>\n",
       "      <td>...</td>\n",
       "      <td>...</td>\n",
       "      <td>...</td>\n",
       "      <td>...</td>\n",
       "    </tr>\n",
       "    <tr>\n",
       "      <th>1849998769</th>\n",
       "      <td>-0.035197</td>\n",
       "      <td>0.0</td>\n",
       "      <td>0.0</td>\n",
       "      <td>0.0</td>\n",
       "      <td>0.0</td>\n",
       "      <td>0.0</td>\n",
       "      <td>1.0</td>\n",
       "      <td>0.0</td>\n",
       "      <td>0.0</td>\n",
       "      <td>0.0</td>\n",
       "      <td>0.0</td>\n",
       "      <td>1.0</td>\n",
       "      <td>0.0</td>\n",
       "      <td>1.0</td>\n",
       "      <td>0.0</td>\n",
       "      <td>1.0</td>\n",
       "      <td>0.0</td>\n",
       "      <td>0.0</td>\n",
       "      <td>0.0</td>\n",
       "      <td>0.0</td>\n",
       "    </tr>\n",
       "    <tr>\n",
       "      <th>270142259</th>\n",
       "      <td>-0.036155</td>\n",
       "      <td>0.0</td>\n",
       "      <td>0.0</td>\n",
       "      <td>0.0</td>\n",
       "      <td>0.0</td>\n",
       "      <td>0.0</td>\n",
       "      <td>1.0</td>\n",
       "      <td>0.0</td>\n",
       "      <td>0.0</td>\n",
       "      <td>0.0</td>\n",
       "      <td>0.0</td>\n",
       "      <td>1.0</td>\n",
       "      <td>0.0</td>\n",
       "      <td>0.0</td>\n",
       "      <td>1.0</td>\n",
       "      <td>1.0</td>\n",
       "      <td>0.0</td>\n",
       "      <td>0.0</td>\n",
       "      <td>0.0</td>\n",
       "      <td>0.0</td>\n",
       "    </tr>\n",
       "    <tr>\n",
       "      <th>802024238</th>\n",
       "      <td>0.011285</td>\n",
       "      <td>0.0</td>\n",
       "      <td>0.0</td>\n",
       "      <td>0.0</td>\n",
       "      <td>0.0</td>\n",
       "      <td>0.0</td>\n",
       "      <td>1.0</td>\n",
       "      <td>0.0</td>\n",
       "      <td>0.0</td>\n",
       "      <td>0.0</td>\n",
       "      <td>0.0</td>\n",
       "      <td>1.0</td>\n",
       "      <td>0.0</td>\n",
       "      <td>0.0</td>\n",
       "      <td>1.0</td>\n",
       "      <td>1.0</td>\n",
       "      <td>0.0</td>\n",
       "      <td>0.0</td>\n",
       "      <td>0.0</td>\n",
       "      <td>0.0</td>\n",
       "    </tr>\n",
       "    <tr>\n",
       "      <th>1157969</th>\n",
       "      <td>-0.033408</td>\n",
       "      <td>0.0</td>\n",
       "      <td>0.0</td>\n",
       "      <td>0.0</td>\n",
       "      <td>1.0</td>\n",
       "      <td>0.0</td>\n",
       "      <td>0.0</td>\n",
       "      <td>0.0</td>\n",
       "      <td>0.0</td>\n",
       "      <td>1.0</td>\n",
       "      <td>0.0</td>\n",
       "      <td>0.0</td>\n",
       "      <td>1.0</td>\n",
       "      <td>0.0</td>\n",
       "      <td>0.0</td>\n",
       "      <td>1.0</td>\n",
       "      <td>0.0</td>\n",
       "      <td>0.0</td>\n",
       "      <td>0.0</td>\n",
       "      <td>0.0</td>\n",
       "    </tr>\n",
       "    <tr>\n",
       "      <th>974522518</th>\n",
       "      <td>-0.034718</td>\n",
       "      <td>0.0</td>\n",
       "      <td>0.0</td>\n",
       "      <td>0.0</td>\n",
       "      <td>0.0</td>\n",
       "      <td>0.0</td>\n",
       "      <td>1.0</td>\n",
       "      <td>0.0</td>\n",
       "      <td>0.0</td>\n",
       "      <td>0.0</td>\n",
       "      <td>0.0</td>\n",
       "      <td>1.0</td>\n",
       "      <td>1.0</td>\n",
       "      <td>0.0</td>\n",
       "      <td>0.0</td>\n",
       "      <td>1.0</td>\n",
       "      <td>0.0</td>\n",
       "      <td>0.0</td>\n",
       "      <td>0.0</td>\n",
       "      <td>0.0</td>\n",
       "    </tr>\n",
       "  </tbody>\n",
       "</table>\n",
       "<p>144541 rows × 20 columns</p>\n",
       "</div>"
      ],
      "text/plain": [
       "            goal_usd  country_Asia  country_Australia and new Zealand  \\\n",
       "id                                                                      \n",
       "781204563  -0.036060           0.0                                0.0   \n",
       "778958499  -0.031843           0.0                                0.0   \n",
       "819008480  -0.034430           0.0                                0.0   \n",
       "1251003856 -0.034635           0.0                                0.0   \n",
       "116494538  -0.034965           1.0                                0.0   \n",
       "...              ...           ...                                ...   \n",
       "1849998769 -0.035197           0.0                                0.0   \n",
       "270142259  -0.036155           0.0                                0.0   \n",
       "802024238   0.011285           0.0                                0.0   \n",
       "1157969    -0.033408           0.0                                0.0   \n",
       "974522518  -0.034718           0.0                                0.0   \n",
       "\n",
       "            country_Europe  country_GB,CA  country_South America and Mexico  \\\n",
       "id                                                                            \n",
       "781204563              0.0            0.0                               0.0   \n",
       "778958499              0.0            0.0                               0.0   \n",
       "819008480              0.0            0.0                               0.0   \n",
       "1251003856             1.0            0.0                               0.0   \n",
       "116494538              0.0            0.0                               0.0   \n",
       "...                    ...            ...                               ...   \n",
       "1849998769             0.0            0.0                               0.0   \n",
       "270142259              0.0            0.0                               0.0   \n",
       "802024238              0.0            0.0                               0.0   \n",
       "1157969                0.0            1.0                               0.0   \n",
       "974522518              0.0            0.0                               0.0   \n",
       "\n",
       "            country_US  currency_CAD  currency_EUR  currency_GBP  \\\n",
       "id                                                                 \n",
       "781204563          1.0           0.0           0.0           0.0   \n",
       "778958499          1.0           0.0           0.0           0.0   \n",
       "819008480          1.0           0.0           0.0           0.0   \n",
       "1251003856         0.0           0.0           0.0           0.0   \n",
       "116494538          0.0           0.0           0.0           0.0   \n",
       "...                ...           ...           ...           ...   \n",
       "1849998769         1.0           0.0           0.0           0.0   \n",
       "270142259          1.0           0.0           0.0           0.0   \n",
       "802024238          1.0           0.0           0.0           0.0   \n",
       "1157969            0.0           0.0           0.0           1.0   \n",
       "974522518          1.0           0.0           0.0           0.0   \n",
       "\n",
       "            currency_Others  currency_USD  main_category_Culture  \\\n",
       "id                                                                 \n",
       "781204563               0.0           1.0                    0.0   \n",
       "778958499               0.0           1.0                    0.0   \n",
       "819008480               0.0           1.0                    0.0   \n",
       "1251003856              1.0           0.0                    0.0   \n",
       "116494538               1.0           0.0                    1.0   \n",
       "...                     ...           ...                    ...   \n",
       "1849998769              0.0           1.0                    0.0   \n",
       "270142259               0.0           1.0                    0.0   \n",
       "802024238               0.0           1.0                    0.0   \n",
       "1157969                 0.0           0.0                    1.0   \n",
       "974522518               0.0           1.0                    1.0   \n",
       "\n",
       "            main_category_Entertainment  main_category_Others  \\\n",
       "id                                                              \n",
       "781204563                           1.0                   0.0   \n",
       "778958499                           1.0                   0.0   \n",
       "819008480                           0.0                   1.0   \n",
       "1251003856                          1.0                   0.0   \n",
       "116494538                           0.0                   0.0   \n",
       "...                                 ...                   ...   \n",
       "1849998769                          1.0                   0.0   \n",
       "270142259                           0.0                   1.0   \n",
       "802024238                           0.0                   1.0   \n",
       "1157969                             0.0                   0.0   \n",
       "974522518                           0.0                   0.0   \n",
       "\n",
       "            creator_projects_1  creator_projects_16-30  creator_projects_2-5  \\\n",
       "id                                                                             \n",
       "781204563                  1.0                     0.0                   0.0   \n",
       "778958499                  1.0                     0.0                   0.0   \n",
       "819008480                  1.0                     0.0                   0.0   \n",
       "1251003856                 1.0                     0.0                   0.0   \n",
       "116494538                  1.0                     0.0                   0.0   \n",
       "...                        ...                     ...                   ...   \n",
       "1849998769                 1.0                     0.0                   0.0   \n",
       "270142259                  1.0                     0.0                   0.0   \n",
       "802024238                  1.0                     0.0                   0.0   \n",
       "1157969                    1.0                     0.0                   0.0   \n",
       "974522518                  1.0                     0.0                   0.0   \n",
       "\n",
       "            creator_projects_31+  creator_projects_6-15  \n",
       "id                                                       \n",
       "781204563                    0.0                    0.0  \n",
       "778958499                    0.0                    0.0  \n",
       "819008480                    0.0                    0.0  \n",
       "1251003856                   0.0                    0.0  \n",
       "116494538                    0.0                    0.0  \n",
       "...                          ...                    ...  \n",
       "1849998769                   0.0                    0.0  \n",
       "270142259                    0.0                    0.0  \n",
       "802024238                    0.0                    0.0  \n",
       "1157969                      0.0                    0.0  \n",
       "974522518                    0.0                    0.0  \n",
       "\n",
       "[144541 rows x 20 columns]"
      ]
     },
     "execution_count": 79,
     "metadata": {},
     "output_type": "execute_result"
    }
   ],
   "source": [
    "X_train_merge_org=pd.concat([X_train_num,X_train_ohe],axis=1)\n",
    "X_test_merge=pd.concat([X_test_num,X_test_ohe],axis=1)\n",
    "X_train_merge_org"
   ]
  },
  {
   "attachments": {},
   "cell_type": "markdown",
   "id": "617c7322",
   "metadata": {},
   "source": [
    "#### Resampling and Analysisvariable"
   ]
  },
  {
   "cell_type": "code",
   "execution_count": 80,
   "id": "d0c7b169",
   "metadata": {},
   "outputs": [],
   "source": [
    "if over_estimation==1:\n",
    "    from imblearn.over_sampling import RandomOverSampler \n",
    "    rOs=RandomOverSampler()\n",
    "    X_over,y_over=rOs.fit_resample(X_train_merge_org,y_train)\n",
    "    X_train_merge=X_over\n",
    "    y_train=y_over\n",
    "else:\n",
    "    X_train_merge=X_train_merge_org"
   ]
  },
  {
   "cell_type": "code",
   "execution_count": 81,
   "id": "d79c9bf7",
   "metadata": {},
   "outputs": [],
   "source": [
    "if under_estimation==1:\n",
    "    from imblearn.under_sampling import RandomUnderSampler\n",
    "    rUs=RandomUnderSampler()\n",
    "    X_under,y_under=rUs.fit_resample(X_train_merge_org,y_train)\n",
    "    X_train_merge=X_under\n",
    "    y_train=y_under"
   ]
  },
  {
   "cell_type": "code",
   "execution_count": 82,
   "id": "696920f3",
   "metadata": {},
   "outputs": [
    {
     "data": {
      "text/plain": [
       "144541"
      ]
     },
     "execution_count": 82,
     "metadata": {},
     "output_type": "execute_result"
    }
   ],
   "source": [
    "len(X_train_merge)"
   ]
  },
  {
   "attachments": {},
   "cell_type": "markdown",
   "id": "545161d8",
   "metadata": {},
   "source": [
    "### Modelling of the data"
   ]
  },
  {
   "attachments": {},
   "cell_type": "markdown",
   "id": "d7b07fc8",
   "metadata": {},
   "source": [
    "Which model to chose?\n",
    "- Classification. tree or regression?\n",
    "\n",
    "Which metric to evaluate?\n",
    "- Eigentlich ja nur Modelle mit den Daten füttern Verbindung zum Project eher unwichtig, keine Projektdaten\n",
    "\n"
   ]
  },
  {
   "cell_type": "code",
   "execution_count": 83,
   "id": "16389a66",
   "metadata": {},
   "outputs": [],
   "source": [
    "# Maschine learning\n",
    "from sklearn.tree import DecisionTreeClassifier\n",
    "from sklearn.ensemble import RandomForestClassifier\n",
    "from sklearn.linear_model import LogisticRegression\n",
    "from sklearn import neighbors"
   ]
  },
  {
   "cell_type": "code",
   "execution_count": 84,
   "id": "38ff01b7",
   "metadata": {},
   "outputs": [
    {
     "name": "stdout",
     "output_type": "stream",
     "text": [
      "The following models are computed with the countries, currencies, and main categories grouped into new categorical variables of less modalities. Over or undersampling is not used (the necessity to do so, was checked).\n"
     ]
    }
   ],
   "source": [
    "if (simp_country==1) & (simp_currency==1) & (simp_category==1) & (over_estimation==0) & (under_estimation==0):\n",
    "    print(\"The following models are computed with the countries, currencies, and main categories grouped into new categorical variables of less modalities. Over or undersampling is not used (the necessity to do so, was checked).\")\n",
    "elif (simp_country==0) & (simp_currency==0) & (simp_category==0) & (over_estimation==0) & (under_estimation==0):\n",
    "    print(\"The following models are computed with the countries, currencies, and main categories as the original categorical variables with all modalities. Over or undersampling is not used (the necessity to do so, was checked).\")"
   ]
  },
  {
   "cell_type": "code",
   "execution_count": 85,
   "id": "d56569f6",
   "metadata": {},
   "outputs": [],
   "source": [
    "# Potential one hot encoder problem\n",
    "# Some values are unique which cuases a mismatch in columns\n",
    "for item in X_train_merge.columns:\n",
    "    if item not in X_test_merge.columns:\n",
    "        print('Error',item)\n",
    "        X_test_merge[item]=0"
   ]
  },
  {
   "cell_type": "code",
   "execution_count": 86,
   "id": "1beb0ab4",
   "metadata": {},
   "outputs": [],
   "source": [
    "# Potential one hot encoder problem\n",
    "for item in X_test_merge.columns:\n",
    "    if item not in X_train_merge.columns:\n",
    "        print('Error',item)\n",
    "        X_train_merge[item]=0"
   ]
  },
  {
   "cell_type": "code",
   "execution_count": 87,
   "id": "1bf9b88d",
   "metadata": {
    "scrolled": true
   },
   "outputs": [
    {
     "name": "stdout",
     "output_type": "stream",
     "text": [
      "Decision Tree R2 value: 0.5929267212751826\n"
     ]
    }
   ],
   "source": [
    "# Classification tree\n",
    "tree=DecisionTreeClassifier()\n",
    "tree.fit(X_train_merge,y_train)\n",
    "tree_pred=tree.predict(X_test_merge)\n",
    "print('Decision Tree R2 value:',tree.score(X_test_merge,y_test))"
   ]
  },
  {
   "cell_type": "code",
   "execution_count": 88,
   "id": "6f322978",
   "metadata": {
    "scrolled": true
   },
   "outputs": [
    {
     "name": "stdout",
     "output_type": "stream",
     "text": [
      "Random Forest R2 value: 0.5961644897055568\n"
     ]
    }
   ],
   "source": [
    "# Random Forest\n",
    "rfc=RandomForestClassifier()\n",
    "rfc.fit(X_train_merge,y_train)\n",
    "rfc_pred=rfc.predict(X_test_merge)\n",
    "print('Random Forest R2 value:',rfc.score(X_test_merge,y_test))"
   ]
  },
  {
   "cell_type": "code",
   "execution_count": 89,
   "id": "29f143f9",
   "metadata": {
    "scrolled": true
   },
   "outputs": [
    {
     "name": "stdout",
     "output_type": "stream",
     "text": [
      "Logistical Regression R2 value: 0.6486606154527341\n"
     ]
    }
   ],
   "source": [
    "# Logistical Regression\n",
    "log=LogisticRegression()\n",
    "log.fit(X_train_merge,y_train)\n",
    "log_pred=log.predict(X_test_merge)\n",
    "print('Logistical Regression R2 value:',log.score(X_test_merge,y_test))"
   ]
  },
  {
   "cell_type": "code",
   "execution_count": 90,
   "id": "9e2111b1",
   "metadata": {},
   "outputs": [
    {
     "name": "stdout",
     "output_type": "stream",
     "text": [
      "K-nearest neighbours classification R2 value: 0.6164212973212309\n"
     ]
    }
   ],
   "source": [
    "# KNN\n",
    "knn=neighbors.KNeighborsClassifier()\n",
    "knn.fit(X_train_merge,y_train)\n",
    "knn_pred=knn.predict(X_test_merge)\n",
    "print('K-nearest neighbours classification R2 value:',knn.score(X_test_merge,y_test))"
   ]
  },
  {
   "cell_type": "code",
   "execution_count": 91,
   "id": "932335f2",
   "metadata": {
    "scrolled": false
   },
   "outputs": [
    {
     "name": "stdout",
     "output_type": "stream",
     "text": [
      "Decision Tree\n"
     ]
    },
    {
     "data": {
      "text/html": [
       "<div>\n",
       "<style scoped>\n",
       "    .dataframe tbody tr th:only-of-type {\n",
       "        vertical-align: middle;\n",
       "    }\n",
       "\n",
       "    .dataframe tbody tr th {\n",
       "        vertical-align: top;\n",
       "    }\n",
       "\n",
       "    .dataframe thead th {\n",
       "        text-align: right;\n",
       "    }\n",
       "</style>\n",
       "<table border=\"1\" class=\"dataframe\">\n",
       "  <thead>\n",
       "    <tr style=\"text-align: right;\">\n",
       "      <th>Prediction</th>\n",
       "      <th>0</th>\n",
       "      <th>1</th>\n",
       "    </tr>\n",
       "    <tr>\n",
       "      <th>True</th>\n",
       "      <th></th>\n",
       "      <th></th>\n",
       "    </tr>\n",
       "  </thead>\n",
       "  <tbody>\n",
       "    <tr>\n",
       "      <th>0</th>\n",
       "      <td>0.225980</td>\n",
       "      <td>0.191582</td>\n",
       "    </tr>\n",
       "    <tr>\n",
       "      <th>1</th>\n",
       "      <td>0.215491</td>\n",
       "      <td>0.366947</td>\n",
       "    </tr>\n",
       "  </tbody>\n",
       "</table>\n",
       "</div>"
      ],
      "text/plain": [
       "Prediction         0         1\n",
       "True                          \n",
       "0           0.225980  0.191582\n",
       "1           0.215491  0.366947"
      ]
     },
     "metadata": {},
     "output_type": "display_data"
    },
    {
     "name": "stdout",
     "output_type": "stream",
     "text": [
      "Random Forest\n"
     ]
    },
    {
     "data": {
      "text/html": [
       "<div>\n",
       "<style scoped>\n",
       "    .dataframe tbody tr th:only-of-type {\n",
       "        vertical-align: middle;\n",
       "    }\n",
       "\n",
       "    .dataframe tbody tr th {\n",
       "        vertical-align: top;\n",
       "    }\n",
       "\n",
       "    .dataframe thead th {\n",
       "        text-align: right;\n",
       "    }\n",
       "</style>\n",
       "<table border=\"1\" class=\"dataframe\">\n",
       "  <thead>\n",
       "    <tr style=\"text-align: right;\">\n",
       "      <th>Prediction</th>\n",
       "      <th>0</th>\n",
       "      <th>1</th>\n",
       "    </tr>\n",
       "    <tr>\n",
       "      <th>True</th>\n",
       "      <th></th>\n",
       "      <th></th>\n",
       "    </tr>\n",
       "  </thead>\n",
       "  <tbody>\n",
       "    <tr>\n",
       "      <th>0</th>\n",
       "      <td>0.214468</td>\n",
       "      <td>0.203094</td>\n",
       "    </tr>\n",
       "    <tr>\n",
       "      <th>1</th>\n",
       "      <td>0.200742</td>\n",
       "      <td>0.381697</td>\n",
       "    </tr>\n",
       "  </tbody>\n",
       "</table>\n",
       "</div>"
      ],
      "text/plain": [
       "Prediction         0         1\n",
       "True                          \n",
       "0           0.214468  0.203094\n",
       "1           0.200742  0.381697"
      ]
     },
     "metadata": {},
     "output_type": "display_data"
    },
    {
     "name": "stdout",
     "output_type": "stream",
     "text": [
      "Logistical Regression\n"
     ]
    },
    {
     "data": {
      "text/html": [
       "<div>\n",
       "<style scoped>\n",
       "    .dataframe tbody tr th:only-of-type {\n",
       "        vertical-align: middle;\n",
       "    }\n",
       "\n",
       "    .dataframe tbody tr th {\n",
       "        vertical-align: top;\n",
       "    }\n",
       "\n",
       "    .dataframe thead th {\n",
       "        text-align: right;\n",
       "    }\n",
       "</style>\n",
       "<table border=\"1\" class=\"dataframe\">\n",
       "  <thead>\n",
       "    <tr style=\"text-align: right;\">\n",
       "      <th>Prediction</th>\n",
       "      <th>0</th>\n",
       "      <th>1</th>\n",
       "    </tr>\n",
       "    <tr>\n",
       "      <th>True</th>\n",
       "      <th></th>\n",
       "      <th></th>\n",
       "    </tr>\n",
       "  </thead>\n",
       "  <tbody>\n",
       "    <tr>\n",
       "      <th>0</th>\n",
       "      <td>0.201572</td>\n",
       "      <td>0.215990</td>\n",
       "    </tr>\n",
       "    <tr>\n",
       "      <th>1</th>\n",
       "      <td>0.135350</td>\n",
       "      <td>0.447089</td>\n",
       "    </tr>\n",
       "  </tbody>\n",
       "</table>\n",
       "</div>"
      ],
      "text/plain": [
       "Prediction         0         1\n",
       "True                          \n",
       "0           0.201572  0.215990\n",
       "1           0.135350  0.447089"
      ]
     },
     "metadata": {},
     "output_type": "display_data"
    },
    {
     "name": "stdout",
     "output_type": "stream",
     "text": [
      "KNN\n"
     ]
    },
    {
     "data": {
      "text/html": [
       "<div>\n",
       "<style scoped>\n",
       "    .dataframe tbody tr th:only-of-type {\n",
       "        vertical-align: middle;\n",
       "    }\n",
       "\n",
       "    .dataframe tbody tr th {\n",
       "        vertical-align: top;\n",
       "    }\n",
       "\n",
       "    .dataframe thead th {\n",
       "        text-align: right;\n",
       "    }\n",
       "</style>\n",
       "<table border=\"1\" class=\"dataframe\">\n",
       "  <thead>\n",
       "    <tr style=\"text-align: right;\">\n",
       "      <th>Prediction</th>\n",
       "      <th>0</th>\n",
       "      <th>1</th>\n",
       "    </tr>\n",
       "    <tr>\n",
       "      <th>True</th>\n",
       "      <th></th>\n",
       "      <th></th>\n",
       "    </tr>\n",
       "  </thead>\n",
       "  <tbody>\n",
       "    <tr>\n",
       "      <th>0</th>\n",
       "      <td>0.200908</td>\n",
       "      <td>0.216654</td>\n",
       "    </tr>\n",
       "    <tr>\n",
       "      <th>1</th>\n",
       "      <td>0.166925</td>\n",
       "      <td>0.415514</td>\n",
       "    </tr>\n",
       "  </tbody>\n",
       "</table>\n",
       "</div>"
      ],
      "text/plain": [
       "Prediction         0         1\n",
       "True                          \n",
       "0           0.200908  0.216654\n",
       "1           0.166925  0.415514"
      ]
     },
     "metadata": {},
     "output_type": "display_data"
    }
   ],
   "source": [
    "# Crosstab\n",
    "print('Decision Tree')\n",
    "display(pd.crosstab(y_test,tree_pred,normalize=True, rownames=['True'], colnames=['Prediction']))\n",
    "print('Random Forest')\n",
    "display(pd.crosstab(y_test,rfc_pred,normalize=True, rownames=['True'], colnames=['Prediction']))\n",
    "print('Logistical Regression')\n",
    "display(pd.crosstab(y_test,log_pred,normalize=True, rownames=['True'], colnames=['Prediction']))\n",
    "print('KNN')\n",
    "display(pd.crosstab(y_test,knn_pred,normalize=True, rownames=['True'], colnames=['Prediction']))"
   ]
  },
  {
   "cell_type": "code",
   "execution_count": 92,
   "id": "c1213057",
   "metadata": {
    "scrolled": false
   },
   "outputs": [
    {
     "name": "stdout",
     "output_type": "stream",
     "text": [
      "Decision Tree \n",
      "               precision    recall  f1-score   support\n",
      "\n",
      "           0       0.51      0.54      0.53     15089\n",
      "           1       0.66      0.63      0.64     21047\n",
      "\n",
      "    accuracy                           0.59     36136\n",
      "   macro avg       0.58      0.59      0.58     36136\n",
      "weighted avg       0.60      0.59      0.59     36136\n",
      "\n",
      "Random Forest \n",
      "               precision    recall  f1-score   support\n",
      "\n",
      "           0       0.52      0.51      0.52     15089\n",
      "           1       0.65      0.66      0.65     21047\n",
      "\n",
      "    accuracy                           0.60     36136\n",
      "   macro avg       0.58      0.58      0.58     36136\n",
      "weighted avg       0.60      0.60      0.60     36136\n",
      "\n",
      "Logistical Regression \n",
      "               precision    recall  f1-score   support\n",
      "\n",
      "           0       0.60      0.48      0.53     15089\n",
      "           1       0.67      0.77      0.72     21047\n",
      "\n",
      "    accuracy                           0.65     36136\n",
      "   macro avg       0.64      0.63      0.63     36136\n",
      "weighted avg       0.64      0.65      0.64     36136\n",
      "\n",
      "KNN \n",
      "               precision    recall  f1-score   support\n",
      "\n",
      "           0       0.55      0.48      0.51     15089\n",
      "           1       0.66      0.71      0.68     21047\n",
      "\n",
      "    accuracy                           0.62     36136\n",
      "   macro avg       0.60      0.60      0.60     36136\n",
      "weighted avg       0.61      0.62      0.61     36136\n",
      "\n"
     ]
    }
   ],
   "source": [
    "# Classification Report\n",
    "from sklearn.metrics import classification_report\n",
    "print('Decision Tree \\n',classification_report(y_test,tree_pred))\n",
    "print('Random Forest \\n',classification_report(y_test,rfc_pred))\n",
    "print('Logistical Regression \\n',classification_report(y_test,log_pred))\n",
    "print('KNN \\n',classification_report(y_test,knn_pred))"
   ]
  },
  {
   "cell_type": "code",
   "execution_count": 93,
   "id": "b7bbd3e5",
   "metadata": {},
   "outputs": [
    {
     "data": {
      "text/plain": [
       "1    0.58169\n",
       "0    0.41831\n",
       "Name: status, dtype: float64"
      ]
     },
     "execution_count": 93,
     "metadata": {},
     "output_type": "execute_result"
    }
   ],
   "source": [
    "df_y.value_counts(normalize=True)"
   ]
  },
  {
   "cell_type": "code",
   "execution_count": 94,
   "id": "de9d06cb",
   "metadata": {},
   "outputs": [
    {
     "name": "stdout",
     "output_type": "stream",
     "text": [
      "we can see that the logistical regresson has the best overall value with an F1 Score of 0.78 (as well as the KNN), inspite of failing to converge with the default solver lbfgs (the limit of iterations reached). Moreover, the logistic regression model has the highest precision (avoiding false positives). It is interesting that the KNN model scores better on the recall (avoids false negatives better.)\n"
     ]
    }
   ],
   "source": [
    "# Conclusion\n",
    "print('We can see that the logistical regresson has the best overall value with an F1 Score of 0.78 (as well as the KNN), inspite of failing to converge with the default solver lbfgs (the limit of iterations reached). Moreover, the logistic regression model has the highest precision (avoiding false positives). It is interesting that the KNN model scores better on the recall (avoids false negatives better.)')"
   ]
  },
  {
   "cell_type": "code",
   "execution_count": 95,
   "id": "0c19437a",
   "metadata": {
    "scrolled": true
   },
   "outputs": [],
   "source": [
    "# Buildung the Coefficient DataFrame\n",
    "log_importance=pd.DataFrame({'Variables':X_train_merge.columns,'Coefficient':log.coef_[0]})\n",
    "log_importance_negatives=log_importance.sort_values('Coefficient',ascending=True)\n",
    "log_importance_positives=log_importance.sort_values('Coefficient',ascending=False)"
   ]
  },
  {
   "cell_type": "code",
   "execution_count": 96,
   "id": "d9291225",
   "metadata": {
    "scrolled": true
   },
   "outputs": [
    {
     "data": {
      "text/html": [
       "<div>\n",
       "<style scoped>\n",
       "    .dataframe tbody tr th:only-of-type {\n",
       "        vertical-align: middle;\n",
       "    }\n",
       "\n",
       "    .dataframe tbody tr th {\n",
       "        vertical-align: top;\n",
       "    }\n",
       "\n",
       "    .dataframe thead th {\n",
       "        text-align: right;\n",
       "    }\n",
       "</style>\n",
       "<table border=\"1\" class=\"dataframe\">\n",
       "  <thead>\n",
       "    <tr style=\"text-align: right;\">\n",
       "      <th></th>\n",
       "      <th>Variables</th>\n",
       "      <th>Coefficient</th>\n",
       "    </tr>\n",
       "  </thead>\n",
       "  <tbody>\n",
       "    <tr>\n",
       "      <th>0</th>\n",
       "      <td>goal_usd</td>\n",
       "      <td>-14.695584</td>\n",
       "    </tr>\n",
       "    <tr>\n",
       "      <th>15</th>\n",
       "      <td>creator_projects_1</td>\n",
       "      <td>-1.771741</td>\n",
       "    </tr>\n",
       "    <tr>\n",
       "      <th>17</th>\n",
       "      <td>creator_projects_2-5</td>\n",
       "      <td>-0.865229</td>\n",
       "    </tr>\n",
       "    <tr>\n",
       "      <th>5</th>\n",
       "      <td>country_South America and Mexico</td>\n",
       "      <td>-0.485315</td>\n",
       "    </tr>\n",
       "    <tr>\n",
       "      <th>14</th>\n",
       "      <td>main_category_Others</td>\n",
       "      <td>-0.146148</td>\n",
       "    </tr>\n",
       "  </tbody>\n",
       "</table>\n",
       "</div>"
      ],
      "text/plain": [
       "                           Variables  Coefficient\n",
       "0                           goal_usd   -14.695584\n",
       "15                creator_projects_1    -1.771741\n",
       "17              creator_projects_2-5    -0.865229\n",
       "5   country_South America and Mexico    -0.485315\n",
       "14              main_category_Others    -0.146148"
      ]
     },
     "metadata": {},
     "output_type": "display_data"
    },
    {
     "data": {
      "text/html": [
       "<div>\n",
       "<style scoped>\n",
       "    .dataframe tbody tr th:only-of-type {\n",
       "        vertical-align: middle;\n",
       "    }\n",
       "\n",
       "    .dataframe tbody tr th {\n",
       "        vertical-align: top;\n",
       "    }\n",
       "\n",
       "    .dataframe thead th {\n",
       "        text-align: right;\n",
       "    }\n",
       "</style>\n",
       "<table border=\"1\" class=\"dataframe\">\n",
       "  <thead>\n",
       "    <tr style=\"text-align: right;\">\n",
       "      <th></th>\n",
       "      <th>Variables</th>\n",
       "      <th>Coefficient</th>\n",
       "    </tr>\n",
       "  </thead>\n",
       "  <tbody>\n",
       "    <tr>\n",
       "      <th>16</th>\n",
       "      <td>creator_projects_16-30</td>\n",
       "      <td>1.563243</td>\n",
       "    </tr>\n",
       "    <tr>\n",
       "      <th>18</th>\n",
       "      <td>creator_projects_31+</td>\n",
       "      <td>1.392820</td>\n",
       "    </tr>\n",
       "    <tr>\n",
       "      <th>1</th>\n",
       "      <td>country_Asia</td>\n",
       "      <td>0.732426</td>\n",
       "    </tr>\n",
       "    <tr>\n",
       "      <th>13</th>\n",
       "      <td>main_category_Entertainment</td>\n",
       "      <td>0.656110</td>\n",
       "    </tr>\n",
       "    <tr>\n",
       "      <th>19</th>\n",
       "      <td>creator_projects_6-15</td>\n",
       "      <td>0.387409</td>\n",
       "    </tr>\n",
       "  </tbody>\n",
       "</table>\n",
       "</div>"
      ],
      "text/plain": [
       "                      Variables  Coefficient\n",
       "16       creator_projects_16-30     1.563243\n",
       "18         creator_projects_31+     1.392820\n",
       "1                  country_Asia     0.732426\n",
       "13  main_category_Entertainment     0.656110\n",
       "19        creator_projects_6-15     0.387409"
      ]
     },
     "metadata": {},
     "output_type": "display_data"
    }
   ],
   "source": [
    "display(log_importance_negatives.head())\n",
    "display(log_importance_positives.head())"
   ]
  },
  {
   "cell_type": "code",
   "execution_count": 97,
   "id": "3424e0a3",
   "metadata": {
    "scrolled": false
   },
   "outputs": [
    {
     "data": {
      "image/png": "[encoded data removed]",
      "text/plain": [
       "<Figure size 700x700 with 1 Axes>"
      ]
     },
     "metadata": {},
     "output_type": "display_data"
    },
    {
     "data": {
      "image/png": "[encoded data removed]",
      "text/plain": [
       "<Figure size 700x700 with 1 Axes>"
      ]
     },
     "metadata": {},
     "output_type": "display_data"
    }
   ],
   "source": [
    "# Plotting the Coefficeint DataFrame\n",
    "plt.figure(figsize=[7,7])\n",
    "plt.plot(log_importance_negatives['Variables'][0:5],log_importance_negatives['Coefficient'][0:5])\n",
    "plt.ylabel('Coefficient')\n",
    "plt.xlabel('Variables')\n",
    "plt.xticks(rotation=45)\n",
    "plt.title('Top 5 negative coefficients');\n",
    "plt.show()\n",
    "plt.figure(figsize=[7,7])\n",
    "plt.plot(log_importance_positives['Variables'][0:5],log_importance_positives['Coefficient'][0:5])\n",
    "plt.ylabel('Coefficient')\n",
    "plt.xlabel('Variables')\n",
    "plt.xticks(rotation=45)\n",
    "plt.title('Top 5 positive coefficients');"
   ]
  },
  {
   "attachments": {},
   "cell_type": "markdown",
   "id": "ddfecbf0",
   "metadata": {},
   "source": [
    "#### Tests"
   ]
  },
  {
   "attachments": {},
   "cell_type": "markdown",
   "id": "a978d230",
   "metadata": {},
   "source": [
    "#### Optimize (best) model"
   ]
  },
  {
   "cell_type": "code",
   "execution_count": 98,
   "id": "d0c1e575",
   "metadata": {},
   "outputs": [
    {
     "name": "stdout",
     "output_type": "stream",
     "text": [
      "(Optimized) Logistical Regression R2 value: 0.6486606154527341\n"
     ]
    }
   ],
   "source": [
    "# Logistical Regression\n",
    "log2=LogisticRegression(max_iter=10000)\n",
    "log2.fit(X_train_merge,y_train)\n",
    "log2_pred=log.predict(X_test_merge)\n",
    "print('(Optimized) Logistical Regression R2 value:',log2.score(X_test_merge,y_test)) # same as of 4th decimal digit (at least)"
   ]
  },
  {
   "cell_type": "code",
   "execution_count": 99,
   "id": "517b2aa2",
   "metadata": {},
   "outputs": [
    {
     "name": "stdout",
     "output_type": "stream",
     "text": [
      "Logistical Regression\n"
     ]
    },
    {
     "data": {
      "text/html": [
       "<div>\n",
       "<style scoped>\n",
       "    .dataframe tbody tr th:only-of-type {\n",
       "        vertical-align: middle;\n",
       "    }\n",
       "\n",
       "    .dataframe tbody tr th {\n",
       "        vertical-align: top;\n",
       "    }\n",
       "\n",
       "    .dataframe thead th {\n",
       "        text-align: right;\n",
       "    }\n",
       "</style>\n",
       "<table border=\"1\" class=\"dataframe\">\n",
       "  <thead>\n",
       "    <tr style=\"text-align: right;\">\n",
       "      <th>Prediction</th>\n",
       "      <th>0</th>\n",
       "      <th>1</th>\n",
       "    </tr>\n",
       "    <tr>\n",
       "      <th>True</th>\n",
       "      <th></th>\n",
       "      <th></th>\n",
       "    </tr>\n",
       "  </thead>\n",
       "  <tbody>\n",
       "    <tr>\n",
       "      <th>0</th>\n",
       "      <td>0.201572</td>\n",
       "      <td>0.215990</td>\n",
       "    </tr>\n",
       "    <tr>\n",
       "      <th>1</th>\n",
       "      <td>0.135350</td>\n",
       "      <td>0.447089</td>\n",
       "    </tr>\n",
       "  </tbody>\n",
       "</table>\n",
       "</div>"
      ],
      "text/plain": [
       "Prediction         0         1\n",
       "True                          \n",
       "0           0.201572  0.215990\n",
       "1           0.135350  0.447089"
      ]
     },
     "metadata": {},
     "output_type": "display_data"
    }
   ],
   "source": [
    "# confusion matrix\n",
    "print('Logistical Regression')\n",
    "display(pd.crosstab(y_test,log2_pred,normalize=True, rownames=['True'], colnames=['Prediction'])) # no substantial difference"
   ]
  },
  {
   "cell_type": "code",
   "execution_count": 100,
   "id": "72951ce2",
   "metadata": {},
   "outputs": [
    {
     "name": "stdout",
     "output_type": "stream",
     "text": [
      "Logistical Regression \n",
      "               precision    recall  f1-score   support\n",
      "\n",
      "           0       0.60      0.48      0.53     15089\n",
      "           1       0.67      0.77      0.72     21047\n",
      "\n",
      "    accuracy                           0.65     36136\n",
      "   macro avg       0.64      0.63      0.63     36136\n",
      "weighted avg       0.64      0.65      0.64     36136\n",
      "\n"
     ]
    }
   ],
   "source": [
    "# classification report\n",
    "print('Logistical Regression \\n',classification_report(y_test,log2_pred)) # no substantial difference"
   ]
  }
 ],
 "metadata": {
  "kernelspec": {
   "display_name": "Python 3 (ipykernel)",
   "language": "python",
   "name": "python3"
  },
  "language_info": {
   "codemirror_mode": {
    "name": "ipython",
    "version": 3
   },
   "file_extension": ".py",
   "mimetype": "text/x-python",
   "name": "python",
   "nbconvert_exporter": "python",
   "pygments_lexer": "ipython3",
   "version": "3.10.9"
  }
 },
 "nbformat": 4,
 "nbformat_minor": 5
}
