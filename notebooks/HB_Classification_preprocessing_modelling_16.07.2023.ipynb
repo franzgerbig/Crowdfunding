{
 "cells": [
  {
   "attachments": {},
   "cell_type": "markdown",
   "id": "c21a358a",
   "metadata": {},
   "source": [
    "### Import"
   ]
  },
  {
   "cell_type": "code",
   "execution_count": 89,
   "id": "7f0a58e4",
   "metadata": {},
   "outputs": [],
   "source": [
    "import pandas as pd\n",
    "import numpy as np\n",
    "import matplotlib.pyplot as plt\n",
    "import seaborn as sns\n",
    "import scipy.stats as stats\n",
    "%matplotlib inline"
   ]
  },
  {
   "cell_type": "code",
   "execution_count": 90,
   "id": "bfcfccbd",
   "metadata": {},
   "outputs": [
    {
     "data": {
      "text/html": [
       "<div>\n",
       "<style scoped>\n",
       "    .dataframe tbody tr th:only-of-type {\n",
       "        vertical-align: middle;\n",
       "    }\n",
       "\n",
       "    .dataframe tbody tr th {\n",
       "        vertical-align: top;\n",
       "    }\n",
       "\n",
       "    .dataframe thead th {\n",
       "        text-align: right;\n",
       "    }\n",
       "</style>\n",
       "<table border=\"1\" class=\"dataframe\">\n",
       "  <thead>\n",
       "    <tr style=\"text-align: right;\">\n",
       "      <th></th>\n",
       "      <th>currency</th>\n",
       "      <th>backers_count</th>\n",
       "      <th>country</th>\n",
       "      <th>status</th>\n",
       "      <th>usd_pledged</th>\n",
       "      <th>main_category</th>\n",
       "      <th>goal_usd</th>\n",
       "      <th>city</th>\n",
       "      <th>duration</th>\n",
       "      <th>launched_year</th>\n",
       "      <th>creator_projects</th>\n",
       "    </tr>\n",
       "    <tr>\n",
       "      <th>id</th>\n",
       "      <th></th>\n",
       "      <th></th>\n",
       "      <th></th>\n",
       "      <th></th>\n",
       "      <th></th>\n",
       "      <th></th>\n",
       "      <th></th>\n",
       "      <th></th>\n",
       "      <th></th>\n",
       "      <th></th>\n",
       "      <th></th>\n",
       "    </tr>\n",
       "  </thead>\n",
       "  <tbody>\n",
       "    <tr>\n",
       "      <th>1714728788</th>\n",
       "      <td>CAD</td>\n",
       "      <td>16</td>\n",
       "      <td>CA</td>\n",
       "      <td>failed</td>\n",
       "      <td>577.902078</td>\n",
       "      <td>Farms</td>\n",
       "      <td>785.82065</td>\n",
       "      <td>Victoria</td>\n",
       "      <td>60.0</td>\n",
       "      <td>2018</td>\n",
       "      <td>1</td>\n",
       "    </tr>\n",
       "    <tr>\n",
       "      <th>1639965256</th>\n",
       "      <td>USD</td>\n",
       "      <td>7</td>\n",
       "      <td>US</td>\n",
       "      <td>successful</td>\n",
       "      <td>211.000000</td>\n",
       "      <td>Academic</td>\n",
       "      <td>93.00000</td>\n",
       "      <td>San Diego</td>\n",
       "      <td>24.0</td>\n",
       "      <td>2014</td>\n",
       "      <td>1</td>\n",
       "    </tr>\n",
       "    <tr>\n",
       "      <th>1582062943</th>\n",
       "      <td>USD</td>\n",
       "      <td>99</td>\n",
       "      <td>US</td>\n",
       "      <td>successful</td>\n",
       "      <td>4697.000000</td>\n",
       "      <td>Small Batch</td>\n",
       "      <td>1500.00000</td>\n",
       "      <td>Philadelphia</td>\n",
       "      <td>30.0</td>\n",
       "      <td>2020</td>\n",
       "      <td>1</td>\n",
       "    </tr>\n",
       "    <tr>\n",
       "      <th>1888984372</th>\n",
       "      <td>USD</td>\n",
       "      <td>3</td>\n",
       "      <td>US</td>\n",
       "      <td>failed</td>\n",
       "      <td>222.000000</td>\n",
       "      <td>Gadgets</td>\n",
       "      <td>25000.00000</td>\n",
       "      <td>Chicago</td>\n",
       "      <td>60.0</td>\n",
       "      <td>2019</td>\n",
       "      <td>1</td>\n",
       "    </tr>\n",
       "    <tr>\n",
       "      <th>1409770586</th>\n",
       "      <td>USD</td>\n",
       "      <td>100</td>\n",
       "      <td>US</td>\n",
       "      <td>successful</td>\n",
       "      <td>5410.000000</td>\n",
       "      <td>Radio &amp; Podcasts</td>\n",
       "      <td>5000.00000</td>\n",
       "      <td>Madrid</td>\n",
       "      <td>30.0</td>\n",
       "      <td>2015</td>\n",
       "      <td>1</td>\n",
       "    </tr>\n",
       "  </tbody>\n",
       "</table>\n",
       "</div>"
      ],
      "text/plain": [
       "           currency  backers_count country      status  usd_pledged  \\\n",
       "id                                                                    \n",
       "1714728788      CAD             16      CA      failed   577.902078   \n",
       "1639965256      USD              7      US  successful   211.000000   \n",
       "1582062943      USD             99      US  successful  4697.000000   \n",
       "1888984372      USD              3      US      failed   222.000000   \n",
       "1409770586      USD            100      US  successful  5410.000000   \n",
       "\n",
       "               main_category     goal_usd          city  duration  \\\n",
       "id                                                                  \n",
       "1714728788             Farms    785.82065      Victoria      60.0   \n",
       "1639965256          Academic     93.00000     San Diego      24.0   \n",
       "1582062943       Small Batch   1500.00000  Philadelphia      30.0   \n",
       "1888984372           Gadgets  25000.00000       Chicago      60.0   \n",
       "1409770586  Radio & Podcasts   5000.00000        Madrid      30.0   \n",
       "\n",
       "            launched_year creator_projects  \n",
       "id                                          \n",
       "1714728788           2018                1  \n",
       "1639965256           2014                1  \n",
       "1582062943           2020                1  \n",
       "1888984372           2019                1  \n",
       "1409770586           2015                1  "
      ]
     },
     "metadata": {},
     "output_type": "display_data"
    },
    {
     "name": "stdout",
     "output_type": "stream",
     "text": [
      "<class 'pandas.core.frame.DataFrame'>\n",
      "Int64Index: 180677 entries, 1714728788 to 1126079486\n",
      "Data columns (total 11 columns):\n",
      " #   Column            Non-Null Count   Dtype  \n",
      "---  ------            --------------   -----  \n",
      " 0   currency          180677 non-null  object \n",
      " 1   backers_count     180677 non-null  int64  \n",
      " 2   country           180677 non-null  object \n",
      " 3   status            180677 non-null  object \n",
      " 4   usd_pledged       180677 non-null  float64\n",
      " 5   main_category     180677 non-null  object \n",
      " 6   goal_usd          180677 non-null  float64\n",
      " 7   city              180677 non-null  object \n",
      " 8   duration          180677 non-null  float64\n",
      " 9   launched_year     180677 non-null  int64  \n",
      " 10  creator_projects  180677 non-null  object \n",
      "dtypes: float64(3), int64(2), object(6)\n",
      "memory usage: 16.5+ MB\n"
     ]
    },
    {
     "data": {
      "text/plain": [
       "None"
      ]
     },
     "metadata": {},
     "output_type": "display_data"
    }
   ],
   "source": [
    "imp=r\"C:\\Users\\bosse\\Desktop\\Notebooks\\Data\\Project\\Kaggle_dedub.csv\"\n",
    "imp=r\"C:\\Users\\Franz.000\\Documents\\GitHub\\MAY23_BDA_INT_Crowdfunding\\data\\kaggle\\Kaggle_deduplicated.csv\"\n",
    "df=pd.read_csv(imp,index_col='id')\n",
    "df.drop(columns='Unnamed: 0',inplace=True)\n",
    "display(df.head())\n",
    "display(df.info())"
   ]
  },
  {
   "cell_type": "code",
   "execution_count": 91,
   "id": "1ec38293",
   "metadata": {},
   "outputs": [],
   "source": [
    "# Potential Simplification of variables\n",
    "df['country'].replace(['GB','CA'],'GB,CA',inplace=True)\n",
    "df['country'].replace(['DE','FR','IT','ES','NL','SE','DK','CH','IE','BE','AT','NO','LU','PL','GR','SI'],'Europe',inplace=True)\n",
    "df['country'].replace(['HK','SG','JP'],'Asia',inplace=True)\n",
    "df['country'].replace(['MX'],'South America and Mexico',inplace=True)\n",
    "df['country'].replace(['AU','NZ'],'Australia and new Zealand',inplace=True)\n",
    "df['main_category'].replace(['music','film & video','games','comics','dance'],'Entertainment',inplace=True)\n",
    "df['main_category'].replace(['art','fashion','design','photography','theater'],'Culture',inplace=True)\n",
    "df['main_category'].replace(['technology','publishing','food','crafts','journalism'],'Others',inplace=True)\n",
    "df['currency'].replace(['AUD','MXN','SEK','HKD','NZD','DKK','SGD','CHF','JPY','NOK','PLN'],'Others',inplace=True)"
   ]
  },
  {
   "attachments": {},
   "cell_type": "markdown",
   "id": "57af1db3",
   "metadata": {},
   "source": [
    "### Split of the data"
   ]
  },
  {
   "cell_type": "code",
   "execution_count": 92,
   "id": "f034861c",
   "metadata": {
    "scrolled": true
   },
   "outputs": [],
   "source": [
    "# Target Variable\n",
    "df['status'].replace(['successful','failed'],[1,0],inplace=True)\n",
    "df_y=df['status']"
   ]
  },
  {
   "cell_type": "code",
   "execution_count": 93,
   "id": "f71c0031",
   "metadata": {
    "scrolled": true
   },
   "outputs": [],
   "source": [
    "from sklearn.model_selection import train_test_split\n",
    "X_train,X_test,y_train,y_test=train_test_split(df.drop(columns='status',axis=1),df_y,test_size=0.2,random_state=42)"
   ]
  },
  {
   "cell_type": "code",
   "execution_count": 94,
   "id": "f22cbb7d",
   "metadata": {},
   "outputs": [
    {
     "data": {
      "text/plain": [
       "11495"
      ]
     },
     "execution_count": 94,
     "metadata": {},
     "output_type": "execute_result"
    }
   ],
   "source": [
    "len(X_train['city'].value_counts())\n",
    "# The variable city contain over 11000 different entries, ohe possible with so many variables?\n",
    "# For the time being, city variable will be dropped"
   ]
  },
  {
   "cell_type": "code",
   "execution_count": 95,
   "id": "3128a2f0",
   "metadata": {},
   "outputs": [],
   "source": [
    "# Chosen Variables\n",
    "not_used_list=['city', 'usd_pledged','backers_count']\n",
    "num_list=['goal_usd','duration']\n",
    "cat_list=['country','currency','main_category','creator_projects']"
   ]
  },
  {
   "attachments": {},
   "cell_type": "markdown",
   "id": "0f31a633",
   "metadata": {},
   "source": [
    "### Preprocessing of the data"
   ]
  },
  {
   "cell_type": "code",
   "execution_count": 96,
   "id": "0232e206",
   "metadata": {
    "scrolled": true
   },
   "outputs": [
    {
     "name": "stderr",
     "output_type": "stream",
     "text": [
      "C:\\Users\\Franz.000\\AppData\\Local\\Temp\\ipykernel_3820\\1827690632.py:7: SettingWithCopyWarning: \n",
      "A value is trying to be set on a copy of a slice from a DataFrame.\n",
      "Try using .loc[row_indexer,col_indexer] = value instead\n",
      "\n",
      "See the caveats in the documentation: https://pandas.pydata.org/pandas-docs/stable/user_guide/indexing.html#returning-a-view-versus-a-copy\n",
      "  X_train_num[num_list]=sc.fit_transform(X_train[num_list])\n",
      "C:\\Users\\Franz.000\\AppData\\Local\\Temp\\ipykernel_3820\\1827690632.py:8: SettingWithCopyWarning: \n",
      "A value is trying to be set on a copy of a slice from a DataFrame.\n",
      "Try using .loc[row_indexer,col_indexer] = value instead\n",
      "\n",
      "See the caveats in the documentation: https://pandas.pydata.org/pandas-docs/stable/user_guide/indexing.html#returning-a-view-versus-a-copy\n",
      "  X_test_num[num_list]=sc.fit_transform(X_test[num_list])\n"
     ]
    }
   ],
   "source": [
    "# standardizing of the numerical variables\n",
    "from sklearn.preprocessing import StandardScaler\n",
    "sc=StandardScaler()\n",
    "# \n",
    "X_train_num=X_train[num_list]\n",
    "X_test_num=X_test[num_list]\n",
    "X_train_num[num_list]=sc.fit_transform(X_train[num_list])\n",
    "X_test_num[num_list]=sc.fit_transform(X_test[num_list])"
   ]
  },
  {
   "cell_type": "code",
   "execution_count": 97,
   "id": "c5edcc12",
   "metadata": {
    "scrolled": true
   },
   "outputs": [
    {
     "name": "stderr",
     "output_type": "stream",
     "text": [
      "c:\\Users\\Franz.000\\anaconda3\\lib\\site-packages\\sklearn\\preprocessing\\_encoders.py:828: FutureWarning: `sparse` was renamed to `sparse_output` in version 1.2 and will be removed in 1.4. `sparse_output` is ignored unless you leave `sparse` to its default value.\n",
      "  warnings.warn(\n"
     ]
    }
   ],
   "source": [
    "# OneHotEncoding of the categorical variable of X_train\n",
    "from sklearn.preprocessing import OneHotEncoder\n",
    "ohe=OneHotEncoder(sparse=False)\n",
    "ohe_train=ohe.fit_transform(X_train[cat_list])\n",
    "column_name=ohe.get_feature_names_out(cat_list)\n",
    "X_train_ohe=pd.DataFrame(ohe_train,columns=column_name,index=X_train.index)"
   ]
  },
  {
   "cell_type": "code",
   "execution_count": 98,
   "id": "253942ca",
   "metadata": {
    "scrolled": true
   },
   "outputs": [
    {
     "name": "stderr",
     "output_type": "stream",
     "text": [
      "c:\\Users\\Franz.000\\anaconda3\\lib\\site-packages\\sklearn\\preprocessing\\_encoders.py:828: FutureWarning: `sparse` was renamed to `sparse_output` in version 1.2 and will be removed in 1.4. `sparse_output` is ignored unless you leave `sparse` to its default value.\n",
      "  warnings.warn(\n"
     ]
    }
   ],
   "source": [
    "# OHE X_test variable\n",
    "ohe2=OneHotEncoder(sparse=False)\n",
    "ohe_test=ohe2.fit_transform(X_test[cat_list])\n",
    "column_name2=ohe2.get_feature_names_out(cat_list)\n",
    "X_test_ohe=pd.DataFrame(ohe_test,columns=column_name2,index=X_test.index)"
   ]
  },
  {
   "cell_type": "code",
   "execution_count": 99,
   "id": "511ce896",
   "metadata": {
    "scrolled": false
   },
   "outputs": [
    {
     "data": {
      "text/html": [
       "<div>\n",
       "<style scoped>\n",
       "    .dataframe tbody tr th:only-of-type {\n",
       "        vertical-align: middle;\n",
       "    }\n",
       "\n",
       "    .dataframe tbody tr th {\n",
       "        vertical-align: top;\n",
       "    }\n",
       "\n",
       "    .dataframe thead th {\n",
       "        text-align: right;\n",
       "    }\n",
       "</style>\n",
       "<table border=\"1\" class=\"dataframe\">\n",
       "  <thead>\n",
       "    <tr style=\"text-align: right;\">\n",
       "      <th></th>\n",
       "      <th>goal_usd</th>\n",
       "      <th>duration</th>\n",
       "      <th>country_Asia</th>\n",
       "      <th>country_Australia and new Zealand</th>\n",
       "      <th>country_Europe</th>\n",
       "      <th>country_GB,CA</th>\n",
       "      <th>country_South America and Mexico</th>\n",
       "      <th>country_US</th>\n",
       "      <th>currency_CAD</th>\n",
       "      <th>currency_EUR</th>\n",
       "      <th>...</th>\n",
       "      <th>main_category_Woodworking</th>\n",
       "      <th>main_category_Workshops</th>\n",
       "      <th>main_category_World Music</th>\n",
       "      <th>main_category_Young Adult</th>\n",
       "      <th>main_category_Zines</th>\n",
       "      <th>creator_projects_1</th>\n",
       "      <th>creator_projects_16-30</th>\n",
       "      <th>creator_projects_2-5</th>\n",
       "      <th>creator_projects_31+</th>\n",
       "      <th>creator_projects_6-15</th>\n",
       "    </tr>\n",
       "    <tr>\n",
       "      <th>id</th>\n",
       "      <th></th>\n",
       "      <th></th>\n",
       "      <th></th>\n",
       "      <th></th>\n",
       "      <th></th>\n",
       "      <th></th>\n",
       "      <th></th>\n",
       "      <th></th>\n",
       "      <th></th>\n",
       "      <th></th>\n",
       "      <th></th>\n",
       "      <th></th>\n",
       "      <th></th>\n",
       "      <th></th>\n",
       "      <th></th>\n",
       "      <th></th>\n",
       "      <th></th>\n",
       "      <th></th>\n",
       "      <th></th>\n",
       "      <th></th>\n",
       "      <th></th>\n",
       "    </tr>\n",
       "  </thead>\n",
       "  <tbody>\n",
       "    <tr>\n",
       "      <th>781204563</th>\n",
       "      <td>-0.036060</td>\n",
       "      <td>0.249055</td>\n",
       "      <td>0.0</td>\n",
       "      <td>0.0</td>\n",
       "      <td>0.0</td>\n",
       "      <td>0.0</td>\n",
       "      <td>0.0</td>\n",
       "      <td>1.0</td>\n",
       "      <td>0.0</td>\n",
       "      <td>0.0</td>\n",
       "      <td>...</td>\n",
       "      <td>0.0</td>\n",
       "      <td>0.0</td>\n",
       "      <td>0.0</td>\n",
       "      <td>0.0</td>\n",
       "      <td>0.0</td>\n",
       "      <td>1.0</td>\n",
       "      <td>0.0</td>\n",
       "      <td>0.0</td>\n",
       "      <td>0.0</td>\n",
       "      <td>0.0</td>\n",
       "    </tr>\n",
       "    <tr>\n",
       "      <th>778958499</th>\n",
       "      <td>-0.031843</td>\n",
       "      <td>-0.161888</td>\n",
       "      <td>0.0</td>\n",
       "      <td>0.0</td>\n",
       "      <td>0.0</td>\n",
       "      <td>0.0</td>\n",
       "      <td>0.0</td>\n",
       "      <td>1.0</td>\n",
       "      <td>0.0</td>\n",
       "      <td>0.0</td>\n",
       "      <td>...</td>\n",
       "      <td>0.0</td>\n",
       "      <td>0.0</td>\n",
       "      <td>0.0</td>\n",
       "      <td>0.0</td>\n",
       "      <td>0.0</td>\n",
       "      <td>1.0</td>\n",
       "      <td>0.0</td>\n",
       "      <td>0.0</td>\n",
       "      <td>0.0</td>\n",
       "      <td>0.0</td>\n",
       "    </tr>\n",
       "    <tr>\n",
       "      <th>819008480</th>\n",
       "      <td>-0.034430</td>\n",
       "      <td>-0.244077</td>\n",
       "      <td>0.0</td>\n",
       "      <td>0.0</td>\n",
       "      <td>0.0</td>\n",
       "      <td>0.0</td>\n",
       "      <td>0.0</td>\n",
       "      <td>1.0</td>\n",
       "      <td>0.0</td>\n",
       "      <td>0.0</td>\n",
       "      <td>...</td>\n",
       "      <td>0.0</td>\n",
       "      <td>0.0</td>\n",
       "      <td>0.0</td>\n",
       "      <td>0.0</td>\n",
       "      <td>0.0</td>\n",
       "      <td>1.0</td>\n",
       "      <td>0.0</td>\n",
       "      <td>0.0</td>\n",
       "      <td>0.0</td>\n",
       "      <td>0.0</td>\n",
       "    </tr>\n",
       "    <tr>\n",
       "      <th>1251003856</th>\n",
       "      <td>-0.034635</td>\n",
       "      <td>2.221583</td>\n",
       "      <td>0.0</td>\n",
       "      <td>0.0</td>\n",
       "      <td>1.0</td>\n",
       "      <td>0.0</td>\n",
       "      <td>0.0</td>\n",
       "      <td>0.0</td>\n",
       "      <td>0.0</td>\n",
       "      <td>0.0</td>\n",
       "      <td>...</td>\n",
       "      <td>0.0</td>\n",
       "      <td>0.0</td>\n",
       "      <td>0.0</td>\n",
       "      <td>0.0</td>\n",
       "      <td>0.0</td>\n",
       "      <td>1.0</td>\n",
       "      <td>0.0</td>\n",
       "      <td>0.0</td>\n",
       "      <td>0.0</td>\n",
       "      <td>0.0</td>\n",
       "    </tr>\n",
       "    <tr>\n",
       "      <th>116494538</th>\n",
       "      <td>-0.034965</td>\n",
       "      <td>2.221583</td>\n",
       "      <td>1.0</td>\n",
       "      <td>0.0</td>\n",
       "      <td>0.0</td>\n",
       "      <td>0.0</td>\n",
       "      <td>0.0</td>\n",
       "      <td>0.0</td>\n",
       "      <td>0.0</td>\n",
       "      <td>0.0</td>\n",
       "      <td>...</td>\n",
       "      <td>0.0</td>\n",
       "      <td>0.0</td>\n",
       "      <td>0.0</td>\n",
       "      <td>0.0</td>\n",
       "      <td>0.0</td>\n",
       "      <td>1.0</td>\n",
       "      <td>0.0</td>\n",
       "      <td>0.0</td>\n",
       "      <td>0.0</td>\n",
       "      <td>0.0</td>\n",
       "    </tr>\n",
       "    <tr>\n",
       "      <th>...</th>\n",
       "      <td>...</td>\n",
       "      <td>...</td>\n",
       "      <td>...</td>\n",
       "      <td>...</td>\n",
       "      <td>...</td>\n",
       "      <td>...</td>\n",
       "      <td>...</td>\n",
       "      <td>...</td>\n",
       "      <td>...</td>\n",
       "      <td>...</td>\n",
       "      <td>...</td>\n",
       "      <td>...</td>\n",
       "      <td>...</td>\n",
       "      <td>...</td>\n",
       "      <td>...</td>\n",
       "      <td>...</td>\n",
       "      <td>...</td>\n",
       "      <td>...</td>\n",
       "      <td>...</td>\n",
       "      <td>...</td>\n",
       "      <td>...</td>\n",
       "    </tr>\n",
       "    <tr>\n",
       "      <th>1849998769</th>\n",
       "      <td>-0.035197</td>\n",
       "      <td>-0.079699</td>\n",
       "      <td>0.0</td>\n",
       "      <td>0.0</td>\n",
       "      <td>0.0</td>\n",
       "      <td>0.0</td>\n",
       "      <td>0.0</td>\n",
       "      <td>1.0</td>\n",
       "      <td>0.0</td>\n",
       "      <td>0.0</td>\n",
       "      <td>...</td>\n",
       "      <td>0.0</td>\n",
       "      <td>0.0</td>\n",
       "      <td>0.0</td>\n",
       "      <td>0.0</td>\n",
       "      <td>0.0</td>\n",
       "      <td>1.0</td>\n",
       "      <td>0.0</td>\n",
       "      <td>0.0</td>\n",
       "      <td>0.0</td>\n",
       "      <td>0.0</td>\n",
       "    </tr>\n",
       "    <tr>\n",
       "      <th>270142259</th>\n",
       "      <td>-0.036155</td>\n",
       "      <td>-1.476906</td>\n",
       "      <td>0.0</td>\n",
       "      <td>0.0</td>\n",
       "      <td>0.0</td>\n",
       "      <td>0.0</td>\n",
       "      <td>0.0</td>\n",
       "      <td>1.0</td>\n",
       "      <td>0.0</td>\n",
       "      <td>0.0</td>\n",
       "      <td>...</td>\n",
       "      <td>1.0</td>\n",
       "      <td>0.0</td>\n",
       "      <td>0.0</td>\n",
       "      <td>0.0</td>\n",
       "      <td>0.0</td>\n",
       "      <td>1.0</td>\n",
       "      <td>0.0</td>\n",
       "      <td>0.0</td>\n",
       "      <td>0.0</td>\n",
       "      <td>0.0</td>\n",
       "    </tr>\n",
       "    <tr>\n",
       "      <th>802024238</th>\n",
       "      <td>0.011285</td>\n",
       "      <td>-0.244077</td>\n",
       "      <td>0.0</td>\n",
       "      <td>0.0</td>\n",
       "      <td>0.0</td>\n",
       "      <td>0.0</td>\n",
       "      <td>0.0</td>\n",
       "      <td>1.0</td>\n",
       "      <td>0.0</td>\n",
       "      <td>0.0</td>\n",
       "      <td>...</td>\n",
       "      <td>0.0</td>\n",
       "      <td>0.0</td>\n",
       "      <td>0.0</td>\n",
       "      <td>0.0</td>\n",
       "      <td>0.0</td>\n",
       "      <td>1.0</td>\n",
       "      <td>0.0</td>\n",
       "      <td>0.0</td>\n",
       "      <td>0.0</td>\n",
       "      <td>0.0</td>\n",
       "    </tr>\n",
       "    <tr>\n",
       "      <th>1157969</th>\n",
       "      <td>-0.033408</td>\n",
       "      <td>0.988753</td>\n",
       "      <td>0.0</td>\n",
       "      <td>0.0</td>\n",
       "      <td>0.0</td>\n",
       "      <td>1.0</td>\n",
       "      <td>0.0</td>\n",
       "      <td>0.0</td>\n",
       "      <td>0.0</td>\n",
       "      <td>0.0</td>\n",
       "      <td>...</td>\n",
       "      <td>0.0</td>\n",
       "      <td>0.0</td>\n",
       "      <td>0.0</td>\n",
       "      <td>0.0</td>\n",
       "      <td>0.0</td>\n",
       "      <td>1.0</td>\n",
       "      <td>0.0</td>\n",
       "      <td>0.0</td>\n",
       "      <td>0.0</td>\n",
       "      <td>0.0</td>\n",
       "    </tr>\n",
       "    <tr>\n",
       "      <th>974522518</th>\n",
       "      <td>-0.034718</td>\n",
       "      <td>0.002489</td>\n",
       "      <td>0.0</td>\n",
       "      <td>0.0</td>\n",
       "      <td>0.0</td>\n",
       "      <td>0.0</td>\n",
       "      <td>0.0</td>\n",
       "      <td>1.0</td>\n",
       "      <td>0.0</td>\n",
       "      <td>0.0</td>\n",
       "      <td>...</td>\n",
       "      <td>0.0</td>\n",
       "      <td>0.0</td>\n",
       "      <td>0.0</td>\n",
       "      <td>0.0</td>\n",
       "      <td>0.0</td>\n",
       "      <td>1.0</td>\n",
       "      <td>0.0</td>\n",
       "      <td>0.0</td>\n",
       "      <td>0.0</td>\n",
       "      <td>0.0</td>\n",
       "    </tr>\n",
       "  </tbody>\n",
       "</table>\n",
       "<p>144541 rows × 177 columns</p>\n",
       "</div>"
      ],
      "text/plain": [
       "            goal_usd  duration  country_Asia  \\\n",
       "id                                             \n",
       "781204563  -0.036060  0.249055           0.0   \n",
       "778958499  -0.031843 -0.161888           0.0   \n",
       "819008480  -0.034430 -0.244077           0.0   \n",
       "1251003856 -0.034635  2.221583           0.0   \n",
       "116494538  -0.034965  2.221583           1.0   \n",
       "...              ...       ...           ...   \n",
       "1849998769 -0.035197 -0.079699           0.0   \n",
       "270142259  -0.036155 -1.476906           0.0   \n",
       "802024238   0.011285 -0.244077           0.0   \n",
       "1157969    -0.033408  0.988753           0.0   \n",
       "974522518  -0.034718  0.002489           0.0   \n",
       "\n",
       "            country_Australia and new Zealand  country_Europe  country_GB,CA  \\\n",
       "id                                                                             \n",
       "781204563                                 0.0             0.0            0.0   \n",
       "778958499                                 0.0             0.0            0.0   \n",
       "819008480                                 0.0             0.0            0.0   \n",
       "1251003856                                0.0             1.0            0.0   \n",
       "116494538                                 0.0             0.0            0.0   \n",
       "...                                       ...             ...            ...   \n",
       "1849998769                                0.0             0.0            0.0   \n",
       "270142259                                 0.0             0.0            0.0   \n",
       "802024238                                 0.0             0.0            0.0   \n",
       "1157969                                   0.0             0.0            1.0   \n",
       "974522518                                 0.0             0.0            0.0   \n",
       "\n",
       "            country_South America and Mexico  country_US  currency_CAD  \\\n",
       "id                                                                       \n",
       "781204563                                0.0         1.0           0.0   \n",
       "778958499                                0.0         1.0           0.0   \n",
       "819008480                                0.0         1.0           0.0   \n",
       "1251003856                               0.0         0.0           0.0   \n",
       "116494538                                0.0         0.0           0.0   \n",
       "...                                      ...         ...           ...   \n",
       "1849998769                               0.0         1.0           0.0   \n",
       "270142259                                0.0         1.0           0.0   \n",
       "802024238                                0.0         1.0           0.0   \n",
       "1157969                                  0.0         0.0           0.0   \n",
       "974522518                                0.0         1.0           0.0   \n",
       "\n",
       "            currency_EUR  ...  main_category_Woodworking  \\\n",
       "id                        ...                              \n",
       "781204563            0.0  ...                        0.0   \n",
       "778958499            0.0  ...                        0.0   \n",
       "819008480            0.0  ...                        0.0   \n",
       "1251003856           0.0  ...                        0.0   \n",
       "116494538            0.0  ...                        0.0   \n",
       "...                  ...  ...                        ...   \n",
       "1849998769           0.0  ...                        0.0   \n",
       "270142259            0.0  ...                        1.0   \n",
       "802024238            0.0  ...                        0.0   \n",
       "1157969              0.0  ...                        0.0   \n",
       "974522518            0.0  ...                        0.0   \n",
       "\n",
       "            main_category_Workshops  main_category_World Music  \\\n",
       "id                                                               \n",
       "781204563                       0.0                        0.0   \n",
       "778958499                       0.0                        0.0   \n",
       "819008480                       0.0                        0.0   \n",
       "1251003856                      0.0                        0.0   \n",
       "116494538                       0.0                        0.0   \n",
       "...                             ...                        ...   \n",
       "1849998769                      0.0                        0.0   \n",
       "270142259                       0.0                        0.0   \n",
       "802024238                       0.0                        0.0   \n",
       "1157969                         0.0                        0.0   \n",
       "974522518                       0.0                        0.0   \n",
       "\n",
       "            main_category_Young Adult  main_category_Zines  \\\n",
       "id                                                           \n",
       "781204563                         0.0                  0.0   \n",
       "778958499                         0.0                  0.0   \n",
       "819008480                         0.0                  0.0   \n",
       "1251003856                        0.0                  0.0   \n",
       "116494538                         0.0                  0.0   \n",
       "...                               ...                  ...   \n",
       "1849998769                        0.0                  0.0   \n",
       "270142259                         0.0                  0.0   \n",
       "802024238                         0.0                  0.0   \n",
       "1157969                           0.0                  0.0   \n",
       "974522518                         0.0                  0.0   \n",
       "\n",
       "            creator_projects_1  creator_projects_16-30  creator_projects_2-5  \\\n",
       "id                                                                             \n",
       "781204563                  1.0                     0.0                   0.0   \n",
       "778958499                  1.0                     0.0                   0.0   \n",
       "819008480                  1.0                     0.0                   0.0   \n",
       "1251003856                 1.0                     0.0                   0.0   \n",
       "116494538                  1.0                     0.0                   0.0   \n",
       "...                        ...                     ...                   ...   \n",
       "1849998769                 1.0                     0.0                   0.0   \n",
       "270142259                  1.0                     0.0                   0.0   \n",
       "802024238                  1.0                     0.0                   0.0   \n",
       "1157969                    1.0                     0.0                   0.0   \n",
       "974522518                  1.0                     0.0                   0.0   \n",
       "\n",
       "            creator_projects_31+  creator_projects_6-15  \n",
       "id                                                       \n",
       "781204563                    0.0                    0.0  \n",
       "778958499                    0.0                    0.0  \n",
       "819008480                    0.0                    0.0  \n",
       "1251003856                   0.0                    0.0  \n",
       "116494538                    0.0                    0.0  \n",
       "...                          ...                    ...  \n",
       "1849998769                   0.0                    0.0  \n",
       "270142259                    0.0                    0.0  \n",
       "802024238                    0.0                    0.0  \n",
       "1157969                      0.0                    0.0  \n",
       "974522518                    0.0                    0.0  \n",
       "\n",
       "[144541 rows x 177 columns]"
      ]
     },
     "execution_count": 99,
     "metadata": {},
     "output_type": "execute_result"
    }
   ],
   "source": [
    "X_train_merge_org=pd.concat([X_train_num,X_train_ohe],axis=1)\n",
    "X_test_merge=pd.concat([X_test_num,X_test_ohe],axis=1)\n",
    "X_train_merge_org"
   ]
  },
  {
   "attachments": {},
   "cell_type": "markdown",
   "id": "617c7322",
   "metadata": {},
   "source": [
    "#### Resampling and Analysisvariable"
   ]
  },
  {
   "cell_type": "code",
   "execution_count": 100,
   "id": "d0c7b169",
   "metadata": {},
   "outputs": [
    {
     "name": "stdout",
     "output_type": "stream",
     "text": [
      "168102\n",
      "168102\n"
     ]
    }
   ],
   "source": [
    "from imblearn.over_sampling import RandomOverSampler \n",
    "rOs=RandomOverSampler()\n",
    "X_over,y_over=rOs.fit_resample(X_train_merge_org,y_train)\n",
    "print(len(X_over))\n",
    "print(len(y_over))"
   ]
  },
  {
   "cell_type": "code",
   "execution_count": 101,
   "id": "d79c9bf7",
   "metadata": {},
   "outputs": [
    {
     "data": {
      "text/plain": [
       "120980"
      ]
     },
     "execution_count": 101,
     "metadata": {},
     "output_type": "execute_result"
    }
   ],
   "source": [
    "from imblearn.under_sampling import RandomUnderSampler\n",
    "rUs=RandomUnderSampler()\n",
    "X_under,y_under=rUs.fit_resample(X_train_merge_org,y_train)\n",
    "len(X_under)"
   ]
  },
  {
   "cell_type": "code",
   "execution_count": 102,
   "id": "fcac9f46",
   "metadata": {},
   "outputs": [],
   "source": [
    "# Variable for the Analysis\n",
    "X_train=X_over\n",
    "y_train=y_over"
   ]
  },
  {
   "attachments": {},
   "cell_type": "markdown",
   "id": "545161d8",
   "metadata": {},
   "source": [
    "### Modelling of the data"
   ]
  },
  {
   "attachments": {},
   "cell_type": "markdown",
   "id": "d7b07fc8",
   "metadata": {},
   "source": [
    "Which model to chose?\n",
    "- Classification. tree or regression?\n",
    "\n",
    "Which metric to evaluate?\n",
    "- Eigentlich ja nur Modelle mit den Daten füttern Verbindung zum Project eher unwichtig, keine Projektdaten\n",
    "\n"
   ]
  },
  {
   "cell_type": "code",
   "execution_count": 103,
   "id": "16389a66",
   "metadata": {},
   "outputs": [],
   "source": [
    "# Maschine learning\n",
    "from sklearn.tree import DecisionTreeClassifier\n",
    "from sklearn.ensemble import RandomForestClassifier\n",
    "from sklearn.linear_model import LogisticRegression\n",
    "from sklearn import neighbors"
   ]
  },
  {
   "cell_type": "code",
   "execution_count": 104,
   "id": "2943d097",
   "metadata": {
    "scrolled": true
   },
   "outputs": [],
   "source": [
    "# X_train_merge.drop(['country_SI','currency_PLN'],axis=1,inplace=True)"
   ]
  },
  {
   "cell_type": "code",
   "execution_count": 105,
   "id": "1bf9b88d",
   "metadata": {
    "scrolled": true
   },
   "outputs": [
    {
     "name": "stdout",
     "output_type": "stream",
     "text": [
      "Decision Tree R2 value: 0.7226588443657295\n"
     ]
    }
   ],
   "source": [
    "# Classification tree\n",
    "tree=DecisionTreeClassifier()\n",
    "tree.fit(X_train,y_train)\n",
    "tree_pred=tree.predict(X_test_merge)\n",
    "print('Decision Tree R2 value:',tree.score(X_test_merge,y_test))"
   ]
  },
  {
   "cell_type": "code",
   "execution_count": 106,
   "id": "6f322978",
   "metadata": {},
   "outputs": [
    {
     "name": "stdout",
     "output_type": "stream",
     "text": [
      "Random Forest R2 value: 0.7484779721053797\n"
     ]
    }
   ],
   "source": [
    "# Random Forest\n",
    "rfc=RandomForestClassifier()\n",
    "rfc.fit(X_train,y_train)\n",
    "rfc_pred=tree.predict(X_test_merge)\n",
    "print('Random Forest R2 value:',rfc.score(X_test_merge,y_test))"
   ]
  },
  {
   "cell_type": "code",
   "execution_count": 107,
   "id": "29f143f9",
   "metadata": {
    "scrolled": true
   },
   "outputs": [
    {
     "name": "stdout",
     "output_type": "stream",
     "text": [
      "Logistical Regression R2 value: 0.7671574053575382\n"
     ]
    },
    {
     "name": "stderr",
     "output_type": "stream",
     "text": [
      "c:\\Users\\Franz.000\\anaconda3\\lib\\site-packages\\sklearn\\linear_model\\_logistic.py:458: ConvergenceWarning: lbfgs failed to converge (status=1):\n",
      "STOP: TOTAL NO. of ITERATIONS REACHED LIMIT.\n",
      "\n",
      "Increase the number of iterations (max_iter) or scale the data as shown in:\n",
      "    https://scikit-learn.org/stable/modules/preprocessing.html\n",
      "Please also refer to the documentation for alternative solver options:\n",
      "    https://scikit-learn.org/stable/modules/linear_model.html#logistic-regression\n",
      "  n_iter_i = _check_optimize_result(\n"
     ]
    }
   ],
   "source": [
    "# Logistical Regression\n",
    "log=LogisticRegression()\n",
    "log.fit(X_train,y_train)\n",
    "log_pred=log.predict(X_test_merge)\n",
    "print('Logistical Regression R2 value:',log.score(X_test_merge,y_test))"
   ]
  },
  {
   "cell_type": "code",
   "execution_count": 108,
   "id": "9e2111b1",
   "metadata": {},
   "outputs": [
    {
     "name": "stdout",
     "output_type": "stream",
     "text": [
      "K-nearest neighbours classification R2 value: 0.7538465795882223\n"
     ]
    }
   ],
   "source": [
    "# KNN\n",
    "knn=neighbors.KNeighborsClassifier()\n",
    "knn.fit(X_train,y_train)\n",
    "knn_pred=knn.predict(X_test_merge)\n",
    "print('K-nearest neighbours classification R2 value:',knn.score(X_test_merge,y_test))"
   ]
  },
  {
   "cell_type": "code",
   "execution_count": 109,
   "id": "932335f2",
   "metadata": {
    "scrolled": false
   },
   "outputs": [
    {
     "name": "stdout",
     "output_type": "stream",
     "text": [
      "Decision Tree\n"
     ]
    },
    {
     "data": {
      "text/html": [
       "<div>\n",
       "<style scoped>\n",
       "    .dataframe tbody tr th:only-of-type {\n",
       "        vertical-align: middle;\n",
       "    }\n",
       "\n",
       "    .dataframe tbody tr th {\n",
       "        vertical-align: top;\n",
       "    }\n",
       "\n",
       "    .dataframe thead th {\n",
       "        text-align: right;\n",
       "    }\n",
       "</style>\n",
       "<table border=\"1\" class=\"dataframe\">\n",
       "  <thead>\n",
       "    <tr style=\"text-align: right;\">\n",
       "      <th>Prediction</th>\n",
       "      <th>0</th>\n",
       "      <th>1</th>\n",
       "    </tr>\n",
       "    <tr>\n",
       "      <th>True</th>\n",
       "      <th></th>\n",
       "      <th></th>\n",
       "    </tr>\n",
       "  </thead>\n",
       "  <tbody>\n",
       "    <tr>\n",
       "      <th>0</th>\n",
       "      <td>0.29757</td>\n",
       "      <td>0.119991</td>\n",
       "    </tr>\n",
       "    <tr>\n",
       "      <th>1</th>\n",
       "      <td>0.15735</td>\n",
       "      <td>0.425089</td>\n",
       "    </tr>\n",
       "  </tbody>\n",
       "</table>\n",
       "</div>"
      ],
      "text/plain": [
       "Prediction        0         1\n",
       "True                         \n",
       "0           0.29757  0.119991\n",
       "1           0.15735  0.425089"
      ]
     },
     "metadata": {},
     "output_type": "display_data"
    },
    {
     "name": "stdout",
     "output_type": "stream",
     "text": [
      "Random Forest\n"
     ]
    },
    {
     "data": {
      "text/html": [
       "<div>\n",
       "<style scoped>\n",
       "    .dataframe tbody tr th:only-of-type {\n",
       "        vertical-align: middle;\n",
       "    }\n",
       "\n",
       "    .dataframe tbody tr th {\n",
       "        vertical-align: top;\n",
       "    }\n",
       "\n",
       "    .dataframe thead th {\n",
       "        text-align: right;\n",
       "    }\n",
       "</style>\n",
       "<table border=\"1\" class=\"dataframe\">\n",
       "  <thead>\n",
       "    <tr style=\"text-align: right;\">\n",
       "      <th>Prediction</th>\n",
       "      <th>0</th>\n",
       "      <th>1</th>\n",
       "    </tr>\n",
       "    <tr>\n",
       "      <th>True</th>\n",
       "      <th></th>\n",
       "      <th></th>\n",
       "    </tr>\n",
       "  </thead>\n",
       "  <tbody>\n",
       "    <tr>\n",
       "      <th>0</th>\n",
       "      <td>0.29757</td>\n",
       "      <td>0.119991</td>\n",
       "    </tr>\n",
       "    <tr>\n",
       "      <th>1</th>\n",
       "      <td>0.15735</td>\n",
       "      <td>0.425089</td>\n",
       "    </tr>\n",
       "  </tbody>\n",
       "</table>\n",
       "</div>"
      ],
      "text/plain": [
       "Prediction        0         1\n",
       "True                         \n",
       "0           0.29757  0.119991\n",
       "1           0.15735  0.425089"
      ]
     },
     "metadata": {},
     "output_type": "display_data"
    },
    {
     "name": "stdout",
     "output_type": "stream",
     "text": [
      "Logistical Regression\n"
     ]
    },
    {
     "data": {
      "text/html": [
       "<div>\n",
       "<style scoped>\n",
       "    .dataframe tbody tr th:only-of-type {\n",
       "        vertical-align: middle;\n",
       "    }\n",
       "\n",
       "    .dataframe tbody tr th {\n",
       "        vertical-align: top;\n",
       "    }\n",
       "\n",
       "    .dataframe thead th {\n",
       "        text-align: right;\n",
       "    }\n",
       "</style>\n",
       "<table border=\"1\" class=\"dataframe\">\n",
       "  <thead>\n",
       "    <tr style=\"text-align: right;\">\n",
       "      <th>Prediction</th>\n",
       "      <th>0</th>\n",
       "      <th>1</th>\n",
       "    </tr>\n",
       "    <tr>\n",
       "      <th>True</th>\n",
       "      <th></th>\n",
       "      <th></th>\n",
       "    </tr>\n",
       "  </thead>\n",
       "  <tbody>\n",
       "    <tr>\n",
       "      <th>0</th>\n",
       "      <td>0.364346</td>\n",
       "      <td>0.053216</td>\n",
       "    </tr>\n",
       "    <tr>\n",
       "      <th>1</th>\n",
       "      <td>0.179627</td>\n",
       "      <td>0.402812</td>\n",
       "    </tr>\n",
       "  </tbody>\n",
       "</table>\n",
       "</div>"
      ],
      "text/plain": [
       "Prediction         0         1\n",
       "True                          \n",
       "0           0.364346  0.053216\n",
       "1           0.179627  0.402812"
      ]
     },
     "metadata": {},
     "output_type": "display_data"
    },
    {
     "name": "stdout",
     "output_type": "stream",
     "text": [
      "KNN\n"
     ]
    },
    {
     "data": {
      "text/html": [
       "<div>\n",
       "<style scoped>\n",
       "    .dataframe tbody tr th:only-of-type {\n",
       "        vertical-align: middle;\n",
       "    }\n",
       "\n",
       "    .dataframe tbody tr th {\n",
       "        vertical-align: top;\n",
       "    }\n",
       "\n",
       "    .dataframe thead th {\n",
       "        text-align: right;\n",
       "    }\n",
       "</style>\n",
       "<table border=\"1\" class=\"dataframe\">\n",
       "  <thead>\n",
       "    <tr style=\"text-align: right;\">\n",
       "      <th>Prediction</th>\n",
       "      <th>0</th>\n",
       "      <th>1</th>\n",
       "    </tr>\n",
       "    <tr>\n",
       "      <th>True</th>\n",
       "      <th></th>\n",
       "      <th></th>\n",
       "    </tr>\n",
       "  </thead>\n",
       "  <tbody>\n",
       "    <tr>\n",
       "      <th>0</th>\n",
       "      <td>0.325493</td>\n",
       "      <td>0.092069</td>\n",
       "    </tr>\n",
       "    <tr>\n",
       "      <th>1</th>\n",
       "      <td>0.154085</td>\n",
       "      <td>0.428354</td>\n",
       "    </tr>\n",
       "  </tbody>\n",
       "</table>\n",
       "</div>"
      ],
      "text/plain": [
       "Prediction         0         1\n",
       "True                          \n",
       "0           0.325493  0.092069\n",
       "1           0.154085  0.428354"
      ]
     },
     "metadata": {},
     "output_type": "display_data"
    }
   ],
   "source": [
    "# Crosstab\n",
    "print('Decision Tree')\n",
    "display(pd.crosstab(y_test,tree_pred,normalize=True, rownames=['True'], colnames=['Prediction']))\n",
    "print('Random Forest')\n",
    "display(pd.crosstab(y_test,rfc_pred,normalize=True, rownames=['True'], colnames=['Prediction']))\n",
    "print('Logistical Regression')\n",
    "display(pd.crosstab(y_test,log_pred,normalize=True, rownames=['True'], colnames=['Prediction']))\n",
    "print('KNN')\n",
    "display(pd.crosstab(y_test,knn_pred,normalize=True, rownames=['True'], colnames=['Prediction']))"
   ]
  },
  {
   "cell_type": "code",
   "execution_count": 110,
   "id": "c1213057",
   "metadata": {
    "scrolled": false
   },
   "outputs": [
    {
     "name": "stdout",
     "output_type": "stream",
     "text": [
      "Decision Tree \n",
      "               precision    recall  f1-score   support\n",
      "\n",
      "           0       0.65      0.71      0.68     15089\n",
      "           1       0.78      0.73      0.75     21047\n",
      "\n",
      "    accuracy                           0.72     36136\n",
      "   macro avg       0.72      0.72      0.72     36136\n",
      "weighted avg       0.73      0.72      0.72     36136\n",
      "\n",
      "Random Forest \n",
      "               precision    recall  f1-score   support\n",
      "\n",
      "           0       0.65      0.71      0.68     15089\n",
      "           1       0.78      0.73      0.75     21047\n",
      "\n",
      "    accuracy                           0.72     36136\n",
      "   macro avg       0.72      0.72      0.72     36136\n",
      "weighted avg       0.73      0.72      0.72     36136\n",
      "\n",
      "Logistical Regression \n",
      "               precision    recall  f1-score   support\n",
      "\n",
      "           0       0.67      0.87      0.76     15089\n",
      "           1       0.88      0.69      0.78     21047\n",
      "\n",
      "    accuracy                           0.77     36136\n",
      "   macro avg       0.78      0.78      0.77     36136\n",
      "weighted avg       0.79      0.77      0.77     36136\n",
      "\n",
      "KNN \n",
      "               precision    recall  f1-score   support\n",
      "\n",
      "           0       0.68      0.78      0.73     15089\n",
      "           1       0.82      0.74      0.78     21047\n",
      "\n",
      "    accuracy                           0.75     36136\n",
      "   macro avg       0.75      0.76      0.75     36136\n",
      "weighted avg       0.76      0.75      0.76     36136\n",
      "\n"
     ]
    }
   ],
   "source": [
    "# Classification Report\n",
    "from sklearn.metrics import classification_report\n",
    "print('Decision Tree \\n',classification_report(y_test,tree_pred))\n",
    "print('Random Forest \\n',classification_report(y_test,rfc_pred))\n",
    "print('Logistical Regression \\n',classification_report(y_test,log_pred))\n",
    "print('KNN \\n',classification_report(y_test,knn_pred))"
   ]
  },
  {
   "cell_type": "code",
   "execution_count": 111,
   "id": "b7bbd3e5",
   "metadata": {},
   "outputs": [
    {
     "data": {
      "text/plain": [
       "1    0.58169\n",
       "0    0.41831\n",
       "Name: status, dtype: float64"
      ]
     },
     "execution_count": 111,
     "metadata": {},
     "output_type": "execute_result"
    }
   ],
   "source": [
    "df_y.value_counts(normalize=True)"
   ]
  },
  {
   "cell_type": "code",
   "execution_count": 112,
   "id": "de9d06cb",
   "metadata": {},
   "outputs": [
    {
     "name": "stdout",
     "output_type": "stream",
     "text": [
      "we can see that the logistical regresson has the best overall value with an F1 Score of 0.67, inspite of failing to converge with the default solver lbfgs (the limit of iterations reached). It is interesting that the KNN model scores better on the recall (avoids false negatives better.)\n"
     ]
    }
   ],
   "source": [
    "# Conclusion\n",
    "print('we can see that the logistical regresson has the best overall value with an F1 Score of 0.78 (as well as the KNN), inspite of failing to converge with the default solver lbfgs (the limit of iterations reached). Moreover, the logistic regression model has the highest precision (avoiding false positives). It is interesting that the KNN model scores better on the recall (avoids false negatives better.)')"
   ]
  },
  {
   "cell_type": "code",
   "execution_count": 113,
   "id": "0c19437a",
   "metadata": {
    "scrolled": true
   },
   "outputs": [],
   "source": [
    "# Buildung the Coefficient DataFrame\n",
    "log_importance=pd.DataFrame({'Variables':X_train.columns,'Coefficient':log.coef_[0]})\n",
    "log_importance_negatives=log_importance.sort_values('Coefficient',ascending=True)\n",
    "log_importance_positives=log_importance.sort_values('Coefficient',ascending=False)"
   ]
  },
  {
   "cell_type": "code",
   "execution_count": 114,
   "id": "d9291225",
   "metadata": {
    "scrolled": true
   },
   "outputs": [
    {
     "data": {
      "text/html": [
       "<div>\n",
       "<style scoped>\n",
       "    .dataframe tbody tr th:only-of-type {\n",
       "        vertical-align: middle;\n",
       "    }\n",
       "\n",
       "    .dataframe tbody tr th {\n",
       "        vertical-align: top;\n",
       "    }\n",
       "\n",
       "    .dataframe thead th {\n",
       "        text-align: right;\n",
       "    }\n",
       "</style>\n",
       "<table border=\"1\" class=\"dataframe\">\n",
       "  <thead>\n",
       "    <tr style=\"text-align: right;\">\n",
       "      <th></th>\n",
       "      <th>Variables</th>\n",
       "      <th>Coefficient</th>\n",
       "    </tr>\n",
       "  </thead>\n",
       "  <tbody>\n",
       "    <tr>\n",
       "      <th>0</th>\n",
       "      <td>goal_usd</td>\n",
       "      <td>-12.681478</td>\n",
       "    </tr>\n",
       "    <tr>\n",
       "      <th>30</th>\n",
       "      <td>main_category_Candles</td>\n",
       "      <td>-2.491816</td>\n",
       "    </tr>\n",
       "    <tr>\n",
       "      <th>45</th>\n",
       "      <td>main_category_Crochet</td>\n",
       "      <td>-2.455815</td>\n",
       "    </tr>\n",
       "    <tr>\n",
       "      <th>71</th>\n",
       "      <td>main_category_Food Trucks</td>\n",
       "      <td>-2.396885</td>\n",
       "    </tr>\n",
       "    <tr>\n",
       "      <th>100</th>\n",
       "      <td>main_category_Mobile Games</td>\n",
       "      <td>-2.342125</td>\n",
       "    </tr>\n",
       "  </tbody>\n",
       "</table>\n",
       "</div>"
      ],
      "text/plain": [
       "                      Variables  Coefficient\n",
       "0                      goal_usd   -12.681478\n",
       "30        main_category_Candles    -2.491816\n",
       "45        main_category_Crochet    -2.455815\n",
       "71    main_category_Food Trucks    -2.396885\n",
       "100  main_category_Mobile Games    -2.342125"
      ]
     },
     "metadata": {},
     "output_type": "display_data"
    },
    {
     "data": {
      "text/html": [
       "<div>\n",
       "<style scoped>\n",
       "    .dataframe tbody tr th:only-of-type {\n",
       "        vertical-align: middle;\n",
       "    }\n",
       "\n",
       "    .dataframe tbody tr th {\n",
       "        vertical-align: top;\n",
       "    }\n",
       "\n",
       "    .dataframe thead th {\n",
       "        text-align: right;\n",
       "    }\n",
       "</style>\n",
       "<table border=\"1\" class=\"dataframe\">\n",
       "  <thead>\n",
       "    <tr style=\"text-align: right;\">\n",
       "      <th></th>\n",
       "      <th>Variables</th>\n",
       "      <th>Coefficient</th>\n",
       "    </tr>\n",
       "  </thead>\n",
       "  <tbody>\n",
       "    <tr>\n",
       "      <th>161</th>\n",
       "      <td>main_category_Video Games</td>\n",
       "      <td>7.282636</td>\n",
       "    </tr>\n",
       "    <tr>\n",
       "      <th>51</th>\n",
       "      <td>main_category_Documentary</td>\n",
       "      <td>6.481075</td>\n",
       "    </tr>\n",
       "    <tr>\n",
       "      <th>136</th>\n",
       "      <td>main_category_Rock</td>\n",
       "      <td>6.255165</td>\n",
       "    </tr>\n",
       "    <tr>\n",
       "      <th>140</th>\n",
       "      <td>main_category_Shorts</td>\n",
       "      <td>6.251260</td>\n",
       "    </tr>\n",
       "    <tr>\n",
       "      <th>32</th>\n",
       "      <td>main_category_Children's Books</td>\n",
       "      <td>6.115219</td>\n",
       "    </tr>\n",
       "  </tbody>\n",
       "</table>\n",
       "</div>"
      ],
      "text/plain": [
       "                          Variables  Coefficient\n",
       "161       main_category_Video Games     7.282636\n",
       "51        main_category_Documentary     6.481075\n",
       "136              main_category_Rock     6.255165\n",
       "140            main_category_Shorts     6.251260\n",
       "32   main_category_Children's Books     6.115219"
      ]
     },
     "metadata": {},
     "output_type": "display_data"
    }
   ],
   "source": [
    "display(log_importance_negatives.head())\n",
    "display(log_importance_positives.head())"
   ]
  },
  {
   "cell_type": "code",
   "execution_count": 115,
   "id": "3424e0a3",
   "metadata": {
    "scrolled": false
   },
   "outputs": [
    {
     "data": {
      "image/png": "[encoded data removed]",
      "text/plain": [
       "<Figure size 700x700 with 1 Axes>"
      ]
     },
     "metadata": {},
     "output_type": "display_data"
    },
    {
     "data": {
      "image/png": "[encoded data removed]",
      "text/plain": [
       "<Figure size 700x700 with 1 Axes>"
      ]
     },
     "metadata": {},
     "output_type": "display_data"
    }
   ],
   "source": [
    "# Plotting the Coefficeint DataFrame\n",
    "plt.figure(figsize=[7,7])\n",
    "plt.plot(log_importance_negatives['Variables'][0:5],log_importance_negatives['Coefficient'][0:5])\n",
    "plt.ylabel('Coefficient')\n",
    "plt.xlabel('Variables')\n",
    "plt.xticks(rotation=45)\n",
    "plt.title('Top 5 negative coefficients');\n",
    "plt.show()\n",
    "plt.figure(figsize=[7,7])\n",
    "plt.plot(log_importance_positives['Variables'][0:5],log_importance_positives['Coefficient'][0:5])\n",
    "plt.ylabel('Coefficient')\n",
    "plt.xlabel('Variables')\n",
    "plt.xticks(rotation=45)\n",
    "plt.title('Top 5 positive coefficients');"
   ]
  },
  {
   "attachments": {},
   "cell_type": "markdown",
   "id": "ddfecbf0",
   "metadata": {},
   "source": [
    "#### Tests"
   ]
  },
  {
   "attachments": {},
   "cell_type": "markdown",
   "id": "a978d230",
   "metadata": {},
   "source": [
    "#### Optimize (best) model"
   ]
  },
  {
   "cell_type": "code",
   "execution_count": null,
   "id": "d0c1e575",
   "metadata": {},
   "outputs": [],
   "source": []
  }
 ],
 "metadata": {
  "kernelspec": {
   "display_name": "Python 3 (ipykernel)",
   "language": "python",
   "name": "python3"
  },
  "language_info": {
   "codemirror_mode": {
    "name": "ipython",
    "version": 3
   },
   "file_extension": ".py",
   "mimetype": "text/x-python",
   "name": "python",
   "nbconvert_exporter": "python",
   "pygments_lexer": "ipython3",
   "version": "3.10.9"
  }
 },
 "nbformat": 4,
 "nbformat_minor": 5
}
