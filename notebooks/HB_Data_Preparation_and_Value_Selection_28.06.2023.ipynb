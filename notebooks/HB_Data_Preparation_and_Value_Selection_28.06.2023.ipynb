{
 "cells": [
  {
   "cell_type": "markdown",
   "id": "11f48415",
   "metadata": {},
   "source": [
    "# Preparation and Variable Selection\n",
    "\n",
    "\n",
    "Basiert teilweise auf Franz Kaggle_rendering"
   ]
  },
  {
   "cell_type": "code",
   "execution_count": 1,
   "id": "ec3f4243",
   "metadata": {},
   "outputs": [],
   "source": [
    "# import\n",
    "import numpy as np\n",
    "import pandas as pd\n",
    "import matplotlib.pyplot as plt # -> plt.show to plot the respective graph\n",
    "import seaborn as sns\n",
    "%matplotlib inline\n",
    "sns.set() # to change the theme"
   ]
  },
  {
   "cell_type": "code",
   "execution_count": 2,
   "id": "89bd9982",
   "metadata": {
    "scrolled": true
   },
   "outputs": [
    {
     "data": {
      "text/html": [
       "<div>\n",
       "<style scoped>\n",
       "    .dataframe tbody tr th:only-of-type {\n",
       "        vertical-align: middle;\n",
       "    }\n",
       "\n",
       "    .dataframe tbody tr th {\n",
       "        vertical-align: top;\n",
       "    }\n",
       "\n",
       "    .dataframe thead th {\n",
       "        text-align: right;\n",
       "    }\n",
       "</style>\n",
       "<table border=\"1\" class=\"dataframe\">\n",
       "  <thead>\n",
       "    <tr style=\"text-align: right;\">\n",
       "      <th></th>\n",
       "      <th>Unnamed: 0</th>\n",
       "      <th>id</th>\n",
       "      <th>name</th>\n",
       "      <th>currency</th>\n",
       "      <th>launched_at</th>\n",
       "      <th>backers_count</th>\n",
       "      <th>blurb</th>\n",
       "      <th>country</th>\n",
       "      <th>deadline</th>\n",
       "      <th>slug</th>\n",
       "      <th>status</th>\n",
       "      <th>usd_pledged</th>\n",
       "      <th>sub_category</th>\n",
       "      <th>main_category</th>\n",
       "      <th>creator_id</th>\n",
       "      <th>blurb_length</th>\n",
       "      <th>goal_usd</th>\n",
       "      <th>city</th>\n",
       "      <th>duration</th>\n",
       "    </tr>\n",
       "  </thead>\n",
       "  <tbody>\n",
       "    <tr>\n",
       "      <th>0</th>\n",
       "      <td>0</td>\n",
       "      <td>1714728788</td>\n",
       "      <td>Urban Farm Kits: Our Solution to City Farming</td>\n",
       "      <td>CAD</td>\n",
       "      <td>2018-02-10 22:47:52</td>\n",
       "      <td>16</td>\n",
       "      <td>Earn $1,000 - $20,000+ by transforming idle re...</td>\n",
       "      <td>CA</td>\n",
       "      <td>2018-04-11 21:47:52</td>\n",
       "      <td>urban-farm-kits-our-solution-to-city-farming</td>\n",
       "      <td>failed</td>\n",
       "      <td>577.902078</td>\n",
       "      <td>food</td>\n",
       "      <td>Farms</td>\n",
       "      <td>41046209</td>\n",
       "      <td>122</td>\n",
       "      <td>785.82065</td>\n",
       "      <td>Victoria</td>\n",
       "      <td>60.0</td>\n",
       "    </tr>\n",
       "    <tr>\n",
       "      <th>1</th>\n",
       "      <td>1</td>\n",
       "      <td>1639965256</td>\n",
       "      <td>Reflections on the LHC Safety Report</td>\n",
       "      <td>USD</td>\n",
       "      <td>2014-11-21 10:42:26</td>\n",
       "      <td>7</td>\n",
       "      <td>Need Peer Review, Open Source style</td>\n",
       "      <td>US</td>\n",
       "      <td>2014-12-15 10:42:26</td>\n",
       "      <td>reflections-on-the-lhc-safety-report-review-an...</td>\n",
       "      <td>successful</td>\n",
       "      <td>211.000000</td>\n",
       "      <td>publishing</td>\n",
       "      <td>Academic</td>\n",
       "      <td>1877377173</td>\n",
       "      <td>35</td>\n",
       "      <td>93.00000</td>\n",
       "      <td>San Diego</td>\n",
       "      <td>24.0</td>\n",
       "    </tr>\n",
       "    <tr>\n",
       "      <th>2</th>\n",
       "      <td>2</td>\n",
       "      <td>1582062943</td>\n",
       "      <td>Ultra-Custom Chocolate Bars</td>\n",
       "      <td>USD</td>\n",
       "      <td>2020-10-19 05:26:59</td>\n",
       "      <td>99</td>\n",
       "      <td>Ultra-customized bean to bar chocolate. Any fl...</td>\n",
       "      <td>US</td>\n",
       "      <td>2020-11-18 05:26:59</td>\n",
       "      <td>ultra-custom-chocolate-bars-0</td>\n",
       "      <td>successful</td>\n",
       "      <td>4697.000000</td>\n",
       "      <td>food</td>\n",
       "      <td>Small Batch</td>\n",
       "      <td>205122366</td>\n",
       "      <td>122</td>\n",
       "      <td>1500.00000</td>\n",
       "      <td>Philadelphia</td>\n",
       "      <td>30.0</td>\n",
       "    </tr>\n",
       "    <tr>\n",
       "      <th>3</th>\n",
       "      <td>3</td>\n",
       "      <td>1888984372</td>\n",
       "      <td>GlassWeb: Internet Monitoring</td>\n",
       "      <td>USD</td>\n",
       "      <td>2019-05-29 16:01:34</td>\n",
       "      <td>3</td>\n",
       "      <td>A module device to monitor internet connection...</td>\n",
       "      <td>US</td>\n",
       "      <td>2019-07-28 16:01:34</td>\n",
       "      <td>glassweb-internet-monitoring</td>\n",
       "      <td>failed</td>\n",
       "      <td>222.000000</td>\n",
       "      <td>technology</td>\n",
       "      <td>Gadgets</td>\n",
       "      <td>1458852038</td>\n",
       "      <td>69</td>\n",
       "      <td>25000.00000</td>\n",
       "      <td>Chicago</td>\n",
       "      <td>60.0</td>\n",
       "    </tr>\n",
       "    <tr>\n",
       "      <th>4</th>\n",
       "      <td>4</td>\n",
       "      <td>1409770586</td>\n",
       "      <td>Dreaming of Streaming - 96.9 FM KMRD-LP Madrid...</td>\n",
       "      <td>USD</td>\n",
       "      <td>2015-11-19 20:36:01</td>\n",
       "      <td>100</td>\n",
       "      <td>Madrid's low power FM community radio station,...</td>\n",
       "      <td>US</td>\n",
       "      <td>2015-12-19 20:36:01</td>\n",
       "      <td>dreaming-of-streaming-969-fm-kmrd-lp-madrid-ne...</td>\n",
       "      <td>successful</td>\n",
       "      <td>5410.000000</td>\n",
       "      <td>publishing</td>\n",
       "      <td>Radio &amp; Podcasts</td>\n",
       "      <td>1845213665</td>\n",
       "      <td>131</td>\n",
       "      <td>5000.00000</td>\n",
       "      <td>Madrid</td>\n",
       "      <td>30.0</td>\n",
       "    </tr>\n",
       "    <tr>\n",
       "      <th>...</th>\n",
       "      <td>...</td>\n",
       "      <td>...</td>\n",
       "      <td>...</td>\n",
       "      <td>...</td>\n",
       "      <td>...</td>\n",
       "      <td>...</td>\n",
       "      <td>...</td>\n",
       "      <td>...</td>\n",
       "      <td>...</td>\n",
       "      <td>...</td>\n",
       "      <td>...</td>\n",
       "      <td>...</td>\n",
       "      <td>...</td>\n",
       "      <td>...</td>\n",
       "      <td>...</td>\n",
       "      <td>...</td>\n",
       "      <td>...</td>\n",
       "      <td>...</td>\n",
       "      <td>...</td>\n",
       "    </tr>\n",
       "    <tr>\n",
       "      <th>217240</th>\n",
       "      <td>217248</td>\n",
       "      <td>1438234172</td>\n",
       "      <td>Adventures of a Lost Poet</td>\n",
       "      <td>USD</td>\n",
       "      <td>2017-05-31 17:37:07</td>\n",
       "      <td>1</td>\n",
       "      <td>My VERY FIRST book. Chronicling my journey dea...</td>\n",
       "      <td>US</td>\n",
       "      <td>2017-07-15 17:37:07</td>\n",
       "      <td>adventures-of-a-lost-poet</td>\n",
       "      <td>failed</td>\n",
       "      <td>10.000000</td>\n",
       "      <td>publishing</td>\n",
       "      <td>Poetry</td>\n",
       "      <td>1049486300</td>\n",
       "      <td>125</td>\n",
       "      <td>500.00000</td>\n",
       "      <td>Hollywood</td>\n",
       "      <td>45.0</td>\n",
       "    </tr>\n",
       "    <tr>\n",
       "      <th>217241</th>\n",
       "      <td>217249</td>\n",
       "      <td>906168648</td>\n",
       "      <td>Lomak - Animated Movie / Series</td>\n",
       "      <td>GBP</td>\n",
       "      <td>2015-01-28 16:43:38</td>\n",
       "      <td>6</td>\n",
       "      <td>About a powerful soldier who is nurtured from ...</td>\n",
       "      <td>GB</td>\n",
       "      <td>2015-03-19 15:43:38</td>\n",
       "      <td>lomak-animated-movie-series</td>\n",
       "      <td>failed</td>\n",
       "      <td>244.588849</td>\n",
       "      <td>film &amp; video</td>\n",
       "      <td>Animation</td>\n",
       "      <td>2096189858</td>\n",
       "      <td>90</td>\n",
       "      <td>40621.01400</td>\n",
       "      <td>London</td>\n",
       "      <td>50.0</td>\n",
       "    </tr>\n",
       "    <tr>\n",
       "      <th>217242</th>\n",
       "      <td>217250</td>\n",
       "      <td>708119891</td>\n",
       "      <td>Growing with our people - Gastronomy (Canceled)</td>\n",
       "      <td>MXN</td>\n",
       "      <td>2017-07-29 03:07:34</td>\n",
       "      <td>5</td>\n",
       "      <td>We give Mexican producers an opportunity to pr...</td>\n",
       "      <td>MX</td>\n",
       "      <td>2017-09-15 15:00:00</td>\n",
       "      <td>orocafoods-with-mexican-love</td>\n",
       "      <td>canceled</td>\n",
       "      <td>287.559221</td>\n",
       "      <td>food</td>\n",
       "      <td>Farmer's Markets</td>\n",
       "      <td>2013704740</td>\n",
       "      <td>109</td>\n",
       "      <td>17662.55400</td>\n",
       "      <td>Mexico City</td>\n",
       "      <td>48.0</td>\n",
       "    </tr>\n",
       "    <tr>\n",
       "      <th>217243</th>\n",
       "      <td>217251</td>\n",
       "      <td>239852131</td>\n",
       "      <td>Carmel - Second Wife Blues | Sad Situation CD ...</td>\n",
       "      <td>GBP</td>\n",
       "      <td>2015-08-30 21:17:44</td>\n",
       "      <td>51</td>\n",
       "      <td>A limited edition CD run of 1000 copies of Car...</td>\n",
       "      <td>GB</td>\n",
       "      <td>2015-09-24 21:17:44</td>\n",
       "      <td>carmel-second-wife-blues-sad-situation-cd-single</td>\n",
       "      <td>successful</td>\n",
       "      <td>1683.874823</td>\n",
       "      <td>music</td>\n",
       "      <td>Blues</td>\n",
       "      <td>197599039</td>\n",
       "      <td>110</td>\n",
       "      <td>1354.03380</td>\n",
       "      <td>London</td>\n",
       "      <td>25.0</td>\n",
       "    </tr>\n",
       "    <tr>\n",
       "      <th>217244</th>\n",
       "      <td>217252</td>\n",
       "      <td>1126079486</td>\n",
       "      <td>Tick-Tock</td>\n",
       "      <td>USD</td>\n",
       "      <td>2015-02-04 05:08:07</td>\n",
       "      <td>34</td>\n",
       "      <td>A passion project focusing on bullying and its...</td>\n",
       "      <td>US</td>\n",
       "      <td>2015-03-03 20:00:00</td>\n",
       "      <td>tick-tock</td>\n",
       "      <td>successful</td>\n",
       "      <td>3505.000000</td>\n",
       "      <td>film &amp; video</td>\n",
       "      <td>Thrillers</td>\n",
       "      <td>1667603717</td>\n",
       "      <td>61</td>\n",
       "      <td>2800.00000</td>\n",
       "      <td>Hollywood</td>\n",
       "      <td>28.0</td>\n",
       "    </tr>\n",
       "  </tbody>\n",
       "</table>\n",
       "<p>217245 rows × 19 columns</p>\n",
       "</div>"
      ],
      "text/plain": [
       "        Unnamed: 0          id  \\\n",
       "0                0  1714728788   \n",
       "1                1  1639965256   \n",
       "2                2  1582062943   \n",
       "3                3  1888984372   \n",
       "4                4  1409770586   \n",
       "...            ...         ...   \n",
       "217240      217248  1438234172   \n",
       "217241      217249   906168648   \n",
       "217242      217250   708119891   \n",
       "217243      217251   239852131   \n",
       "217244      217252  1126079486   \n",
       "\n",
       "                                                     name currency  \\\n",
       "0           Urban Farm Kits: Our Solution to City Farming      CAD   \n",
       "1                    Reflections on the LHC Safety Report      USD   \n",
       "2                             Ultra-Custom Chocolate Bars      USD   \n",
       "3                           GlassWeb: Internet Monitoring      USD   \n",
       "4       Dreaming of Streaming - 96.9 FM KMRD-LP Madrid...      USD   \n",
       "...                                                   ...      ...   \n",
       "217240                          Adventures of a Lost Poet      USD   \n",
       "217241                    Lomak - Animated Movie / Series      GBP   \n",
       "217242    Growing with our people - Gastronomy (Canceled)      MXN   \n",
       "217243  Carmel - Second Wife Blues | Sad Situation CD ...      GBP   \n",
       "217244                                          Tick-Tock      USD   \n",
       "\n",
       "                launched_at  backers_count  \\\n",
       "0       2018-02-10 22:47:52             16   \n",
       "1       2014-11-21 10:42:26              7   \n",
       "2       2020-10-19 05:26:59             99   \n",
       "3       2019-05-29 16:01:34              3   \n",
       "4       2015-11-19 20:36:01            100   \n",
       "...                     ...            ...   \n",
       "217240  2017-05-31 17:37:07              1   \n",
       "217241  2015-01-28 16:43:38              6   \n",
       "217242  2017-07-29 03:07:34              5   \n",
       "217243  2015-08-30 21:17:44             51   \n",
       "217244  2015-02-04 05:08:07             34   \n",
       "\n",
       "                                                    blurb country  \\\n",
       "0       Earn $1,000 - $20,000+ by transforming idle re...      CA   \n",
       "1                     Need Peer Review, Open Source style      US   \n",
       "2       Ultra-customized bean to bar chocolate. Any fl...      US   \n",
       "3       A module device to monitor internet connection...      US   \n",
       "4       Madrid's low power FM community radio station,...      US   \n",
       "...                                                   ...     ...   \n",
       "217240  My VERY FIRST book. Chronicling my journey dea...      US   \n",
       "217241  About a powerful soldier who is nurtured from ...      GB   \n",
       "217242  We give Mexican producers an opportunity to pr...      MX   \n",
       "217243  A limited edition CD run of 1000 copies of Car...      GB   \n",
       "217244  A passion project focusing on bullying and its...      US   \n",
       "\n",
       "                   deadline  \\\n",
       "0       2018-04-11 21:47:52   \n",
       "1       2014-12-15 10:42:26   \n",
       "2       2020-11-18 05:26:59   \n",
       "3       2019-07-28 16:01:34   \n",
       "4       2015-12-19 20:36:01   \n",
       "...                     ...   \n",
       "217240  2017-07-15 17:37:07   \n",
       "217241  2015-03-19 15:43:38   \n",
       "217242  2017-09-15 15:00:00   \n",
       "217243  2015-09-24 21:17:44   \n",
       "217244  2015-03-03 20:00:00   \n",
       "\n",
       "                                                     slug      status  \\\n",
       "0            urban-farm-kits-our-solution-to-city-farming      failed   \n",
       "1       reflections-on-the-lhc-safety-report-review-an...  successful   \n",
       "2                           ultra-custom-chocolate-bars-0  successful   \n",
       "3                            glassweb-internet-monitoring      failed   \n",
       "4       dreaming-of-streaming-969-fm-kmrd-lp-madrid-ne...  successful   \n",
       "...                                                   ...         ...   \n",
       "217240                          adventures-of-a-lost-poet      failed   \n",
       "217241                        lomak-animated-movie-series      failed   \n",
       "217242                       orocafoods-with-mexican-love    canceled   \n",
       "217243   carmel-second-wife-blues-sad-situation-cd-single  successful   \n",
       "217244                                          tick-tock  successful   \n",
       "\n",
       "        usd_pledged  sub_category     main_category  creator_id  blurb_length  \\\n",
       "0        577.902078          food             Farms    41046209           122   \n",
       "1        211.000000    publishing          Academic  1877377173            35   \n",
       "2       4697.000000          food       Small Batch   205122366           122   \n",
       "3        222.000000    technology           Gadgets  1458852038            69   \n",
       "4       5410.000000    publishing  Radio & Podcasts  1845213665           131   \n",
       "...             ...           ...               ...         ...           ...   \n",
       "217240    10.000000    publishing            Poetry  1049486300           125   \n",
       "217241   244.588849  film & video         Animation  2096189858            90   \n",
       "217242   287.559221          food  Farmer's Markets  2013704740           109   \n",
       "217243  1683.874823         music             Blues   197599039           110   \n",
       "217244  3505.000000  film & video         Thrillers  1667603717            61   \n",
       "\n",
       "           goal_usd          city  duration  \n",
       "0         785.82065      Victoria      60.0  \n",
       "1          93.00000     San Diego      24.0  \n",
       "2        1500.00000  Philadelphia      30.0  \n",
       "3       25000.00000       Chicago      60.0  \n",
       "4        5000.00000        Madrid      30.0  \n",
       "...             ...           ...       ...  \n",
       "217240    500.00000     Hollywood      45.0  \n",
       "217241  40621.01400        London      50.0  \n",
       "217242  17662.55400   Mexico City      48.0  \n",
       "217243   1354.03380        London      25.0  \n",
       "217244   2800.00000     Hollywood      28.0  \n",
       "\n",
       "[217245 rows x 19 columns]"
      ]
     },
     "execution_count": 2,
     "metadata": {},
     "output_type": "execute_result"
    }
   ],
   "source": [
    "file=r\"C:\\Users\\bosse\\Desktop\\Notebooks\\Data\\Project\\Kaggle_Dataset.csv\"\n",
    "df=pd.read_csv(file)\n",
    "df"
   ]
  },
  {
   "cell_type": "code",
   "execution_count": 3,
   "id": "5b7069e9",
   "metadata": {},
   "outputs": [
    {
     "name": "stdout",
     "output_type": "stream",
     "text": [
      "<class 'pandas.core.frame.DataFrame'>\n",
      "RangeIndex: 217245 entries, 0 to 217244\n",
      "Data columns (total 19 columns):\n",
      " #   Column         Non-Null Count   Dtype  \n",
      "---  ------         --------------   -----  \n",
      " 0   Unnamed: 0     217245 non-null  int64  \n",
      " 1   id             217245 non-null  int64  \n",
      " 2   name           217245 non-null  object \n",
      " 3   currency       217245 non-null  object \n",
      " 4   launched_at    217245 non-null  object \n",
      " 5   backers_count  217245 non-null  int64  \n",
      " 6   blurb          217245 non-null  object \n",
      " 7   country        217245 non-null  object \n",
      " 8   deadline       217245 non-null  object \n",
      " 9   slug           217245 non-null  object \n",
      " 10  status         217245 non-null  object \n",
      " 11  usd_pledged    217245 non-null  float64\n",
      " 12  sub_category   217245 non-null  object \n",
      " 13  main_category  217245 non-null  object \n",
      " 14  creator_id     217245 non-null  int64  \n",
      " 15  blurb_length   217245 non-null  int64  \n",
      " 16  goal_usd       217245 non-null  float64\n",
      " 17  city           217245 non-null  object \n",
      " 18  duration       217245 non-null  float64\n",
      "dtypes: float64(3), int64(5), object(11)\n",
      "memory usage: 31.5+ MB\n"
     ]
    }
   ],
   "source": [
    "# general\n",
    "df.info()"
   ]
  },
  {
   "cell_type": "code",
   "execution_count": 4,
   "id": "436a94ce",
   "metadata": {},
   "outputs": [
    {
     "name": "stderr",
     "output_type": "stream",
     "text": [
      "C:\\Users\\bosse\\AppData\\Local\\Temp\\ipykernel_13848\\1327950313.py:2: UserWarning: Pandas doesn't allow columns to be created via a new attribute name - see https://pandas.pydata.org/pandas-docs/stable/indexing.html#attribute-access\n",
      "  df.state=df.status[(df.status==\"successful\")|(df.status==\"failed\")]\n"
     ]
    },
    {
     "data": {
      "text/plain": [
       "successful    0.623145\n",
       "failed        0.376855\n",
       "Name: status, dtype: float64"
      ]
     },
     "execution_count": 4,
     "metadata": {},
     "output_type": "execute_result"
    }
   ],
   "source": [
    "# reduce to successful and failed projects, only\n",
    "df.state=df.status[(df.status==\"successful\")|(df.status==\"failed\")]\n",
    "df.state.value_counts(normalize=True)"
   ]
  },
  {
   "cell_type": "code",
   "execution_count": 5,
   "id": "7463d479",
   "metadata": {},
   "outputs": [
    {
     "data": {
      "text/plain": [
       "24357"
      ]
     },
     "execution_count": 5,
     "metadata": {},
     "output_type": "execute_result"
    }
   ],
   "source": [
    "# check for duplicates\n",
    "df.duplicated().sum() # 0\n",
    "df.id.duplicated().sum() # 0"
   ]
  },
  {
   "cell_type": "code",
   "execution_count": 6,
   "id": "fd42c86e",
   "metadata": {
    "scrolled": true
   },
   "outputs": [],
   "source": [
    "# convert date variables\n",
    "import datetime\n",
    "df.launched_at.value_counts()[:5] # type object\n",
    "df['dead']=pd.to_datetime(df['deadline'])\n",
    "df['launch']=pd.to_datetime(df['launched_at'])\n",
    "def get_year(x):\n",
    "    return x.year\n",
    "df['launched_year']=df['launch'].apply(get_year)"
   ]
  },
  {
   "cell_type": "code",
   "execution_count": 7,
   "id": "3932f298",
   "metadata": {
    "scrolled": true
   },
   "outputs": [
    {
     "name": "stdout",
     "output_type": "stream",
     "text": [
      "<class 'pandas.core.frame.DataFrame'>\n",
      "RangeIndex: 217245 entries, 0 to 217244\n",
      "Data columns (total 27 columns):\n",
      " #   Column         Non-Null Count   Dtype         \n",
      "---  ------         --------------   -----         \n",
      " 0   Unnamed: 0     217245 non-null  int64         \n",
      " 1   id             217245 non-null  int64         \n",
      " 2   name           217245 non-null  object        \n",
      " 3   currency       217245 non-null  object        \n",
      " 4   launched_at    217245 non-null  object        \n",
      " 5   backers_count  217245 non-null  int64         \n",
      " 6   blurb          217245 non-null  object        \n",
      " 7   country        217245 non-null  object        \n",
      " 8   deadline       217245 non-null  object        \n",
      " 9   slug           217245 non-null  object        \n",
      " 10  status         217245 non-null  object        \n",
      " 11  usd_pledged    217245 non-null  float64       \n",
      " 12  sub_category   217245 non-null  object        \n",
      " 13  main_category  217245 non-null  object        \n",
      " 14  creator_id     217245 non-null  int64         \n",
      " 15  blurb_length   217245 non-null  int64         \n",
      " 16  goal_usd       217245 non-null  float64       \n",
      " 17  city           217245 non-null  object        \n",
      " 18  duration       217245 non-null  float64       \n",
      " 19  dead           217245 non-null  datetime64[ns]\n",
      " 20  launch         217245 non-null  datetime64[ns]\n",
      " 21  launched_year  217245 non-null  int64         \n",
      " 22  duration_s     217245 non-null  float64       \n",
      " 23  duration_min   217245 non-null  float64       \n",
      " 24  duration_d     217245 non-null  float64       \n",
      " 25  duration_mon   217245 non-null  float64       \n",
      " 26  duration_y     217245 non-null  float64       \n",
      "dtypes: datetime64[ns](2), float64(8), int64(6), object(11)\n",
      "memory usage: 44.8+ MB\n",
      "status           failed  successful\n",
      "launched_year                      \n",
      "2009           0.176744    0.823256\n",
      "2010           0.230943    0.769057\n",
      "2011           0.204227    0.795773\n",
      "2012           0.209902    0.790098\n",
      "2013           0.189312    0.810688\n",
      "2014           0.464462    0.535538\n",
      "2015           0.535037    0.464963\n",
      "2016           0.491094    0.508906\n",
      "2017           0.467173    0.532827\n",
      "2018           0.394025    0.605975\n",
      "2019           0.293471    0.706529\n",
      "2020           0.177622    0.822378\n"
     ]
    }
   ],
   "source": [
    "# derive duration of a campaign in different units\n",
    "from datetime import timedelta\n",
    "df['duration_s']=(df['dead']-df['launch'])/timedelta(seconds=1)\n",
    "df['duration_min']=(df['dead']-df['launch'])/timedelta(hours=1)\n",
    "df['duration_d']=(df['dead']-df['launch'])/timedelta(days=1)\n",
    "df['duration_mon']=df['duration_s']/86400/30 # derive duration in months\n",
    "df['duration_y']=df['duration_s']/86400/30/12 # derive duration in years\n",
    "df[['duration_d','duration_mon','duration_y']].describe() # duration_d is sufficient\n",
    "df.info()\n",
    "df.launched_year.value_counts() # outliers for 1970 must be dropped\n",
    "print(pd.crosstab(df.launched_year,df.state,normalize=\"index\"))"
   ]
  },
  {
   "cell_type": "markdown",
   "id": "40ba6e1a",
   "metadata": {},
   "source": [
    "#### Deleting duplicates"
   ]
  },
  {
   "cell_type": "code",
   "execution_count": 8,
   "id": "685e6182",
   "metadata": {
    "scrolled": true
   },
   "outputs": [
    {
     "data": {
      "text/plain": [
       "202847"
      ]
     },
     "execution_count": 8,
     "metadata": {},
     "output_type": "execute_result"
    }
   ],
   "source": [
    "# Only Successful and failed projects are important for us\n",
    "df_final=df[(df['status']=='successful')|(df['status']=='failed')]\n",
    "len(df_final)"
   ]
  },
  {
   "cell_type": "code",
   "execution_count": 9,
   "id": "6afa21a2",
   "metadata": {
    "scrolled": true
   },
   "outputs": [
    {
     "name": "stderr",
     "output_type": "stream",
     "text": [
      "C:\\Users\\bosse\\AppData\\Local\\Temp\\ipykernel_13848\\4266919766.py:1: SettingWithCopyWarning: \n",
      "A value is trying to be set on a copy of a slice from a DataFrame\n",
      "\n",
      "See the caveats in the documentation: https://pandas.pydata.org/pandas-docs/stable/user_guide/indexing.html#returning-a-view-versus-a-copy\n",
      "  df_final.drop_duplicates(keep='first',inplace=True,subset='id')\n"
     ]
    },
    {
     "data": {
      "text/plain": [
       "180677"
      ]
     },
     "execution_count": 9,
     "metadata": {},
     "output_type": "execute_result"
    }
   ],
   "source": [
    "df_final.drop_duplicates(keep='first',inplace=True,subset='id')\n",
    "len(df_final)"
   ]
  },
  {
   "cell_type": "code",
   "execution_count": 10,
   "id": "77c1b678",
   "metadata": {},
   "outputs": [
    {
     "data": {
      "text/plain": [
       "1714728788    1\n",
       "574454559     1\n",
       "1447919771    1\n",
       "575248545     1\n",
       "1443118213    1\n",
       "             ..\n",
       "2119307936    1\n",
       "1853136422    1\n",
       "1378288601    1\n",
       "607196300     1\n",
       "1126079486    1\n",
       "Name: id, Length: 180677, dtype: int64"
      ]
     },
     "execution_count": 10,
     "metadata": {},
     "output_type": "execute_result"
    }
   ],
   "source": [
    "df_final['id'].value_counts()"
   ]
  },
  {
   "cell_type": "markdown",
   "id": "8d621785",
   "metadata": {},
   "source": [
    "#### Variable Selection"
   ]
  },
  {
   "cell_type": "code",
   "execution_count": 11,
   "id": "360f8e5c",
   "metadata": {
    "scrolled": false
   },
   "outputs": [
    {
     "data": {
      "image/png": "[encoded data removed]",
      "text/plain": [
       "<Figure size 640x480 with 2 Axes>"
      ]
     },
     "metadata": {},
     "output_type": "display_data"
    }
   ],
   "source": [
    "# heatmap for the identification of redundant numerical variables\n",
    "sns.heatmap(df_final.corr(),cmap='winter');"
   ]
  },
  {
   "cell_type": "code",
   "execution_count": 12,
   "id": "27d313a2",
   "metadata": {
    "scrolled": false
   },
   "outputs": [
    {
     "name": "stderr",
     "output_type": "stream",
     "text": [
      "C:\\Users\\bosse\\AppData\\Local\\Temp\\ipykernel_13848\\2804312683.py:2: SettingWithCopyWarning: \n",
      "A value is trying to be set on a copy of a slice from a DataFrame\n",
      "\n",
      "See the caveats in the documentation: https://pandas.pydata.org/pandas-docs/stable/user_guide/indexing.html#returning-a-view-versus-a-copy\n",
      "  df_final.drop(columns=['duration_s','duration_min','duration_mon','duration_y','duration','Unnamed: 0','blurb_length'],inplace=True)\n"
     ]
    }
   ],
   "source": [
    "# deleting of numerical variables\n",
    "df_final.drop(columns=['duration_s','duration_min','duration_mon','duration_y','duration','Unnamed: 0','blurb_length'],inplace=True)"
   ]
  },
  {
   "cell_type": "code",
   "execution_count": 13,
   "id": "f875d545",
   "metadata": {
    "scrolled": true
   },
   "outputs": [
    {
     "name": "stderr",
     "output_type": "stream",
     "text": [
      "C:\\Users\\bosse\\AppData\\Local\\Temp\\ipykernel_13848\\3028786503.py:3: SettingWithCopyWarning: \n",
      "A value is trying to be set on a copy of a slice from a DataFrame\n",
      "\n",
      "See the caveats in the documentation: https://pandas.pydata.org/pandas-docs/stable/user_guide/indexing.html#returning-a-view-versus-a-copy\n",
      "  df_final.drop(columns=['dead','launch','deadline','launched_at'],inplace=True)\n"
     ]
    }
   ],
   "source": [
    "# deleting of some time variables\n",
    "# Anovo test failed, manuall decision on which variable to focus\n",
    "df_final.drop(columns=['dead','launch','deadline','launched_at'],inplace=True)"
   ]
  },
  {
   "cell_type": "code",
   "execution_count": 14,
   "id": "73a5fd9c",
   "metadata": {},
   "outputs": [
    {
     "data": {
      "image/png": "[encoded data removed]",
      "text/plain": [
       "<Figure size 640x480 with 2 Axes>"
      ]
     },
     "metadata": {},
     "output_type": "display_data"
    }
   ],
   "source": [
    "sns.heatmap(df_final.corr(),cmap='winter');"
   ]
  },
  {
   "cell_type": "code",
   "execution_count": 15,
   "id": "62c1d280",
   "metadata": {},
   "outputs": [],
   "source": [
    "num_list=['id','backers_count',\n",
    "       'usd_pledged','creator_id', 'goal_usd',\n",
    "       'launched_year', 'duration_d']"
   ]
  },
  {
   "cell_type": "code",
   "execution_count": 16,
   "id": "9d94a4d0",
   "metadata": {},
   "outputs": [],
   "source": [
    "cat_list=['currency','blurb',\n",
    "       'country','slug', 'status', 'usd_pledged','sub_category',\n",
    "       'main_category', 'creator_id','city']"
   ]
  },
  {
   "cell_type": "code",
   "execution_count": 26,
   "id": "e535151c",
   "metadata": {
    "scrolled": false
   },
   "outputs": [
    {
     "name": "stdout",
     "output_type": "stream",
     "text": [
      "##### id\n",
      "                df        sum_sq       mean_sq         F    PR(>F)\n",
      "status         1.0  7.357709e+16  7.357709e+16  0.192003  0.661255\n",
      "Residual  180675.0  6.923618e+22  3.832084e+17       NaN       NaN\n",
      "##### backers_count\n",
      "                df        sum_sq       mean_sq            F  PR(>F)\n",
      "status         1.0  2.517713e+09  2.517713e+09  2777.435608     0.0\n",
      "Residual  180675.0  1.637798e+11  9.064883e+05          NaN     NaN\n",
      "##### usd_pledged\n",
      "                df        sum_sq       mean_sq            F  PR(>F)\n",
      "status         1.0  2.082107e+13  2.082107e+13  1799.415355     0.0\n",
      "Residual  180675.0  2.090594e+15  1.157102e+10          NaN     NaN\n",
      "##### creator_id\n",
      "                df        sum_sq       mean_sq         F    PR(>F)\n",
      "status         1.0  7.249285e+12  7.249285e+12  0.000019  0.996539\n",
      "Residual  180675.0  6.960304e+22  3.852389e+17       NaN       NaN\n",
      "##### goal_usd\n",
      "                df        sum_sq       mean_sq           F        PR(>F)\n",
      "status         1.0  2.372236e+14  2.372236e+14  193.978484  4.537199e-44\n",
      "Residual  180675.0  2.209543e+17  1.222938e+12         NaN           NaN\n",
      "##### launched_year\n",
      "                df        sum_sq     mean_sq          F        PR(>F)\n",
      "status         1.0  3.981126e+02  398.112594  67.452092  2.172726e-16\n",
      "Residual  180675.0  1.066372e+06    5.902153        NaN           NaN\n",
      "##### duration_d\n",
      "                df        sum_sq        mean_sq            F  PR(>F)\n",
      "status         1.0  8.048444e+05  804844.404277  5614.288947     0.0\n",
      "Residual  180675.0  2.590092e+07     143.356427          NaN     NaN\n"
     ]
    }
   ],
   "source": [
    "# Anova Test for the selection of interesting numerical variables\n",
    "# Interpretationsschwirigkeiten, daher numerische manuell ausgewählt\n",
    "import statsmodels.api\n",
    "for item in num_list:\n",
    "    print('#####',item)\n",
    "    result =statsmodels.formula.api.ols(f'{item} ~ status',data=df_final).fit()\n",
    "    print(statsmodels.api.stats.anova_lm(result))"
   ]
  },
  {
   "cell_type": "code",
   "execution_count": 18,
   "id": "8e81ab1d",
   "metadata": {
    "scrolled": true
   },
   "outputs": [
    {
     "name": "stdout",
     "output_type": "stream",
     "text": [
      "currency : 0.0\n",
      "blurb : 0.1455364113516466\n",
      "country : 0.0\n",
      "slug : 0.49889390478627377\n",
      "status : 0.0\n",
      "usd_pledged : 0.0\n",
      "sub_category : 0.0\n",
      "main_category : 0.0\n",
      "creator_id : 3.271221184161235e-232\n",
      "city : 0.0\n"
     ]
    }
   ],
   "source": [
    "# Correlation test for the selecting of interessting categorical variables\n",
    "import scipy.stats as sc\n",
    "cat_relevant=[]\n",
    "cat_drop=[]\n",
    "for item in cat_list:\n",
    "    chi2=sc.chi2_contingency(pd.crosstab(df_final['status'],df_final[item]))[1]\n",
    "    print(item,':',chi2)\n",
    "    if chi2 <=0.05:\n",
    "        cat_relevant.append(item)\n",
    "    else:\n",
    "        cat_drop.append(item)"
   ]
  },
  {
   "cell_type": "code",
   "execution_count": 19,
   "id": "89c36f88",
   "metadata": {
    "scrolled": true
   },
   "outputs": [
    {
     "data": {
      "text/plain": [
       "159"
      ]
     },
     "metadata": {},
     "output_type": "display_data"
    },
    {
     "data": {
      "text/plain": [
       "15"
      ]
     },
     "metadata": {},
     "output_type": "display_data"
    }
   ],
   "source": [
    "# Categories of the Project\n",
    "display(len(pd.DataFrame(df_final['main_category'].value_counts())))\n",
    "display(len(pd.DataFrame(df_final['sub_category'].value_counts())))"
   ]
  },
  {
   "cell_type": "code",
   "execution_count": 20,
   "id": "f3e55f3f",
   "metadata": {},
   "outputs": [],
   "source": [
    "# Sub categories seems to have broader categories, we chose this because of complexity reduction.\n",
    "# Same reason for dropping the name variable\n",
    "cat_drop.append('main_category')\n",
    "cat_drop.append('name')"
   ]
  },
  {
   "cell_type": "code",
   "execution_count": 21,
   "id": "b0cba320",
   "metadata": {
    "scrolled": true
   },
   "outputs": [
    {
     "name": "stderr",
     "output_type": "stream",
     "text": [
      "C:\\Users\\bosse\\AppData\\Local\\Temp\\ipykernel_13848\\2741035177.py:1: SettingWithCopyWarning: \n",
      "A value is trying to be set on a copy of a slice from a DataFrame\n",
      "\n",
      "See the caveats in the documentation: https://pandas.pydata.org/pandas-docs/stable/user_guide/indexing.html#returning-a-view-versus-a-copy\n",
      "  df_final.drop(columns=cat_drop,inplace=True)\n"
     ]
    }
   ],
   "source": [
    "df_final.drop(columns=cat_drop,inplace=True)"
   ]
  },
  {
   "cell_type": "markdown",
   "id": "a666a635",
   "metadata": {},
   "source": [
    "#### Save"
   ]
  },
  {
   "cell_type": "code",
   "execution_count": 22,
   "id": "67560a68",
   "metadata": {},
   "outputs": [],
   "source": [
    "# Speichern\n",
    "filename =r'C:\\Users\\bosse\\Desktop\\Notebooks\\Data\\Project\\Kaggle_dedub.csv'\n",
    "f =open(filename,'w',encoding='utf-8')\n",
    "f.write(df_final.to_csv())\n",
    "f.close()"
   ]
  },
  {
   "cell_type": "code",
   "execution_count": 28,
   "id": "7a19e18a",
   "metadata": {
    "scrolled": true
   },
   "outputs": [
    {
     "data": {
      "text/plain": [
       "2104052526    60\n",
       "957058942     46\n",
       "1077465647    36\n",
       "897079804     35\n",
       "172204344     32\n",
       "              ..\n",
       "2073233486     1\n",
       "726159289      1\n",
       "174809538      1\n",
       "1174362408     1\n",
       "1667603717     1\n",
       "Name: creator_id, Length: 154987, dtype: int64"
      ]
     },
     "execution_count": 28,
     "metadata": {},
     "output_type": "execute_result"
    }
   ],
   "source": [
    "df_final['creator_id'].value_counts()"
   ]
  },
  {
   "cell_type": "code",
   "execution_count": null,
   "id": "43cb1d65",
   "metadata": {},
   "outputs": [],
   "source": []
  }
 ],
 "metadata": {
  "kernelspec": {
   "display_name": "Python 3 (ipykernel)",
   "language": "python",
   "name": "python3"
  },
  "language_info": {
   "codemirror_mode": {
    "name": "ipython",
    "version": 3
   },
   "file_extension": ".py",
   "mimetype": "text/x-python",
   "name": "python",
   "nbconvert_exporter": "python",
   "pygments_lexer": "ipython3",
   "version": "3.9.13"
  }
 },
 "nbformat": 4,
 "nbformat_minor": 5
}
